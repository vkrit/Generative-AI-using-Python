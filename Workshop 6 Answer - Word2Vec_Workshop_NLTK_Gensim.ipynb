{
 "cells": [
  {
   "cell_type": "markdown",
   "id": "70dd2f39",
   "metadata": {},
   "source": [
    "# Workshop: Train Word2Vec Model Using NLTK Corpus and Gensim\n",
    "Train a Word2Vec model on an NLTK corpus with specified parameters and explore the results."
   ]
  },
  {
   "cell_type": "code",
   "execution_count": 1,
   "id": "5f64692a",
   "metadata": {},
   "outputs": [
    {
     "name": "stdout",
     "output_type": "stream",
     "text": [
      "Requirement already satisfied: nltk in /opt/homebrew/anaconda3/envs/dev-ai/lib/python3.11/site-packages (3.9.1)\n",
      "Requirement already satisfied: gensim in /opt/homebrew/anaconda3/envs/dev-ai/lib/python3.11/site-packages (4.3.3)\n",
      "Requirement already satisfied: click in /opt/homebrew/anaconda3/envs/dev-ai/lib/python3.11/site-packages (from nltk) (8.2.1)\n",
      "Requirement already satisfied: joblib in /opt/homebrew/anaconda3/envs/dev-ai/lib/python3.11/site-packages (from nltk) (1.5.1)\n",
      "Requirement already satisfied: regex>=2021.8.3 in /opt/homebrew/anaconda3/envs/dev-ai/lib/python3.11/site-packages (from nltk) (2024.11.6)\n",
      "Requirement already satisfied: tqdm in /opt/homebrew/anaconda3/envs/dev-ai/lib/python3.11/site-packages (from nltk) (4.67.1)\n",
      "Requirement already satisfied: numpy<2.0,>=1.18.5 in /opt/homebrew/anaconda3/envs/dev-ai/lib/python3.11/site-packages (from gensim) (1.26.4)\n",
      "Requirement already satisfied: scipy<1.14.0,>=1.7.0 in /opt/homebrew/anaconda3/envs/dev-ai/lib/python3.11/site-packages (from gensim) (1.13.1)\n",
      "Requirement already satisfied: smart-open>=1.8.1 in /opt/homebrew/anaconda3/envs/dev-ai/lib/python3.11/site-packages (from gensim) (7.1.0)\n",
      "Requirement already satisfied: wrapt in /opt/homebrew/anaconda3/envs/dev-ai/lib/python3.11/site-packages (from smart-open>=1.8.1->gensim) (1.17.2)\n"
     ]
    },
    {
     "name": "stderr",
     "output_type": "stream",
     "text": [
      "[nltk_data] Downloading package brown to\n",
      "[nltk_data]     /Users/veerasakkritsanapraphan/nltk_data...\n",
      "[nltk_data]   Unzipping corpora/brown.zip.\n"
     ]
    },
    {
     "name": "stdout",
     "output_type": "stream",
     "text": [
      "Number of sentences in Brown corpus: 57340\n"
     ]
    }
   ],
   "source": [
    "\n",
    "# Install required packages if not installed\n",
    "!pip install nltk gensim\n",
    "\n",
    "import nltk\n",
    "from nltk.corpus import brown\n",
    "from gensim.models import Word2Vec\n",
    "\n",
    "# Download NLTK corpus if not present\n",
    "nltk.download('brown')\n",
    "\n",
    "# Load sentences from brown corpus\n",
    "sentences = brown.sents()\n",
    "print(f\"Number of sentences in Brown corpus: {len(sentences)}\")\n"
   ]
  },
  {
   "cell_type": "code",
   "execution_count": 2,
   "id": "2de4550f",
   "metadata": {},
   "outputs": [
    {
     "name": "stdout",
     "output_type": "stream",
     "text": [
      "Model trained.\n"
     ]
    }
   ],
   "source": [
    "\n",
    "# Train Word2Vec model\n",
    "model = Word2Vec(sentences, vector_size=100, min_count=2, workers=4, epochs=10)\n",
    "\n",
    "print(\"Model trained.\")"
   ]
  },
  {
   "cell_type": "markdown",
   "id": "3b92bbe6",
   "metadata": {},
   "source": [
    "## Explore the model"
   ]
  },
  {
   "cell_type": "code",
   "execution_count": 3,
   "id": "7aa9e955",
   "metadata": {},
   "outputs": [
    {
     "name": "stdout",
     "output_type": "stream",
     "text": [
      "Vector for 'money':\n",
      "[ 0.20204382 -0.3970416  -0.72957945 -0.17900383  0.20552394  0.16122836\n",
      " -0.34996548 -0.2703475   0.01354433  0.57275677 -1.0623801   1.0993418\n",
      "  0.32998484  0.464477   -0.3945429  -0.25700504  0.60897547 -0.3958488\n",
      " -0.25278345 -0.67258817  0.04035529  1.0840985   0.5336659   1.1214137\n",
      "  0.03693031 -0.83697164 -0.05911044 -0.62830645 -0.7343833  -0.7157814\n",
      "  0.6385317  -0.09562686  1.259468   -0.93024045 -0.63455516 -0.09626816\n",
      " -0.31110427  0.10619533 -0.88848543 -0.23655832  0.4638314   0.13898766\n",
      " -0.40205792  0.18673924  0.89754313  0.04507443 -0.4271935  -0.22454605\n",
      "  0.7194409   0.39669716  0.57682514 -1.1033375  -1.2135612   0.4046668\n",
      " -0.257732   -0.64722204  0.7756729  -1.0083573  -1.1220272  -0.32181594\n",
      " -0.7606081   0.7689562  -0.17075035  0.23238744  0.84357196  1.1139731\n",
      "  0.23416989 -0.47714314  0.53903866  0.05787619  1.0333409   0.6353914\n",
      "  0.5684768  -0.49905443  0.5255486  -1.0135815   0.6783544  -0.31450823\n",
      "  0.30832866 -1.0520549  -0.68848246  0.10239761 -0.91043454  0.14787109\n",
      " -0.26442018 -1.452177   -0.07712288  0.71555895 -0.755579   -0.14221908\n",
      "  0.69860077  0.815334   -0.3634831   0.21303971 -0.17941593  0.07318231\n",
      " -0.14337672 -0.1308587  -0.49237192 -0.27558053]\n",
      "Most similar words to 'money':\n",
      "  job: 0.7588\n",
      "  future: 0.7511\n",
      "  ability: 0.7449\n",
      "  opportunity: 0.7428\n",
      "  freedom: 0.7360\n"
     ]
    }
   ],
   "source": [
    "\n",
    "word = \"money\"\n",
    "\n",
    "# Get vector of the word\n",
    "vector = model.wv[word]\n",
    "print(f\"Vector for '{word}':\")\n",
    "print(vector)\n",
    "\n",
    "# Find most similar words\n",
    "similar_words = model.wv.most_similar(word, topn=5)\n",
    "print(f\"Most similar words to '{word}':\")\n",
    "for sim_word, score in similar_words:\n",
    "    print(f\"  {sim_word}: {score:.4f}\")\n"
   ]
  },
  {
   "cell_type": "markdown",
   "id": "ccc6ec2c",
   "metadata": {},
   "source": [
    "## Save the model"
   ]
  },
  {
   "cell_type": "code",
   "execution_count": 4,
   "id": "81aeebc6",
   "metadata": {},
   "outputs": [
    {
     "name": "stdout",
     "output_type": "stream",
     "text": [
      "Model saved as 'brown_word2vec.model'.\n"
     ]
    }
   ],
   "source": [
    "\n",
    "model.save(\"brown_word2vec.model\")\n",
    "print(\"Model saved as 'brown_word2vec.model'.\")\n"
   ]
  },
  {
   "cell_type": "code",
   "execution_count": null,
   "id": "18217393-d75c-44d8-85d4-1df66631638f",
   "metadata": {},
   "outputs": [],
   "source": []
  }
 ],
 "metadata": {
  "kernelspec": {
   "display_name": "Python [conda env:dev-ai]",
   "language": "python",
   "name": "conda-env-dev-ai-py"
  },
  "language_info": {
   "codemirror_mode": {
    "name": "ipython",
    "version": 3
   },
   "file_extension": ".py",
   "mimetype": "text/x-python",
   "name": "python",
   "nbconvert_exporter": "python",
   "pygments_lexer": "ipython3",
   "version": "3.11.13"
  }
 },
 "nbformat": 4,
 "nbformat_minor": 5
}
