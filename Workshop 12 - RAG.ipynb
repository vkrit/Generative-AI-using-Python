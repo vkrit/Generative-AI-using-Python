{
 "cells": [
  {
   "cell_type": "code",
   "execution_count": 1,
   "metadata": {
    "colab": {
     "base_uri": "https://localhost:8080/"
    },
    "id": "feIFr9VI9xUd",
    "outputId": "c9c473e8-1759-46f5-b98c-0c878096a48c"
   },
   "outputs": [],
   "source": [
    "!pip install -q transformers\n",
    "#pip install 'transformers[torch]' CPU version of PyTorch\n",
    "#pip install 'transformers[tf-cpu]' CPU Version of TensorFlow"
   ]
  },
  {
   "cell_type": "code",
   "execution_count": 2,
   "metadata": {
    "colab": {
     "base_uri": "https://localhost:8080/"
    },
    "id": "aQUd1qdDGoJK",
    "outputId": "85f6d737-33be-47e2-873f-fcbe3cac3399"
   },
   "outputs": [
    {
     "name": "stdout",
     "output_type": "stream",
     "text": [
      "Requirement already satisfied: huggingface_hub in /opt/homebrew/anaconda3/envs/GenerativeAI/lib/python3.12/site-packages (0.21.4)\n",
      "Requirement already satisfied: filelock in /opt/homebrew/anaconda3/envs/GenerativeAI/lib/python3.12/site-packages (from huggingface_hub) (3.13.1)\n",
      "Requirement already satisfied: fsspec>=2023.5.0 in /opt/homebrew/anaconda3/envs/GenerativeAI/lib/python3.12/site-packages (from huggingface_hub) (2024.3.0)\n",
      "Requirement already satisfied: requests in /opt/homebrew/anaconda3/envs/GenerativeAI/lib/python3.12/site-packages (from huggingface_hub) (2.31.0)\n",
      "Requirement already satisfied: tqdm>=4.42.1 in /opt/homebrew/anaconda3/envs/GenerativeAI/lib/python3.12/site-packages (from huggingface_hub) (4.66.2)\n",
      "Requirement already satisfied: pyyaml>=5.1 in /opt/homebrew/anaconda3/envs/GenerativeAI/lib/python3.12/site-packages (from huggingface_hub) (6.0.1)\n",
      "Requirement already satisfied: typing-extensions>=3.7.4.3 in /opt/homebrew/anaconda3/envs/GenerativeAI/lib/python3.12/site-packages (from huggingface_hub) (4.10.0)\n",
      "Requirement already satisfied: packaging>=20.9 in /opt/homebrew/anaconda3/envs/GenerativeAI/lib/python3.12/site-packages (from huggingface_hub) (23.2)\n",
      "Requirement already satisfied: charset-normalizer<4,>=2 in /opt/homebrew/anaconda3/envs/GenerativeAI/lib/python3.12/site-packages (from requests->huggingface_hub) (3.3.2)\n",
      "Requirement already satisfied: idna<4,>=2.5 in /opt/homebrew/anaconda3/envs/GenerativeAI/lib/python3.12/site-packages (from requests->huggingface_hub) (3.6)\n",
      "Requirement already satisfied: urllib3<3,>=1.21.1 in /opt/homebrew/anaconda3/envs/GenerativeAI/lib/python3.12/site-packages (from requests->huggingface_hub) (2.2.1)\n",
      "Requirement already satisfied: certifi>=2017.4.17 in /opt/homebrew/anaconda3/envs/GenerativeAI/lib/python3.12/site-packages (from requests->huggingface_hub) (2024.2.2)\n"
     ]
    }
   ],
   "source": [
    "!pip install -q huggingface_hub"
   ]
  },
  {
   "cell_type": "code",
   "execution_count": 3,
   "metadata": {
    "colab": {
     "base_uri": "https://localhost:8080/"
    },
    "id": "9eKTejsnG57r",
    "outputId": "14e94802-c6c7-474e-ca4e-72b7bd4b35b3"
   },
   "outputs": [],
   "source": [
    "!pip install -q tokenizers"
   ]
  },
  {
   "cell_type": "code",
   "execution_count": 4,
   "metadata": {
    "colab": {
     "base_uri": "https://localhost:8080/"
    },
    "id": "B1DffDyrHMSn",
    "outputId": "285a2859-9e12-4c64-e4c3-6d6f16b7375c"
   },
   "outputs": [],
   "source": [
    "!pip install -q torch"
   ]
  },
  {
   "cell_type": "code",
   "execution_count": 7,
   "metadata": {
    "colab": {
     "base_uri": "https://localhost:8080/"
    },
    "id": "W5Y2bdOnI05P",
    "outputId": "d4b9915f-950f-4085-f535-b2331e6c0926"
   },
   "outputs": [],
   "source": [
    "!pip install -q accelerate"
   ]
  },
  {
   "cell_type": "code",
   "execution_count": 1,
   "metadata": {
    "colab": {
     "base_uri": "https://localhost:8080/"
    },
    "id": "aXYpHPnCOmdB",
    "outputId": "f64f8b56-65a9-4e79-ea6c-872fc51394e4"
   },
   "outputs": [],
   "source": [
    "!pip install -q chromadb"
   ]
  },
  {
   "cell_type": "code",
   "execution_count": 2,
   "metadata": {},
   "outputs": [],
   "source": [
    "import os\n",
    "\n",
    "from dotenv import load_dotenv, find_dotenv\n",
    "_ = load_dotenv(find_dotenv()) # read local .env file\n",
    "\n",
    "huggingface_api_key  = ''"
   ]
  },
  {
   "cell_type": "code",
   "execution_count": 5,
   "metadata": {
    "id": "M8h2kU0LHR98"
   },
   "outputs": [
    {
     "name": "stderr",
     "output_type": "stream",
     "text": [
      "/opt/homebrew/anaconda3/envs/GenerativeAI/lib/python3.12/site-packages/tqdm/auto.py:21: TqdmWarning: IProgress not found. Please update jupyter and ipywidgets. See https://ipywidgets.readthedocs.io/en/stable/user_install.html\n",
      "  from .autonotebook import tqdm as notebook_tqdm\n"
     ]
    }
   ],
   "source": [
    "import torch\n",
    "import torch.nn as nn\n",
    "from transformers import AutoTokenizer, AutoConfig, AutoModelForCausalLM"
   ]
  },
  {
   "cell_type": "code",
   "execution_count": 6,
   "metadata": {
    "colab": {
     "base_uri": "https://localhost:8080/"
    },
    "id": "GKpCDfPWHgy7",
    "outputId": "658859e2-8481-4b3f-d3f2-7b103b9cd09b"
   },
   "outputs": [
    {
     "name": "stdout",
     "output_type": "stream",
     "text": [
      "cpu\n"
     ]
    }
   ],
   "source": [
    "device = torch.device(\"cuda\" if torch.cuda.is_available() else \"cpu\")\n",
    "print(device)"
   ]
  },
  {
   "cell_type": "code",
   "execution_count": null,
   "metadata": {},
   "outputs": [],
   "source": [
    "model = AutoModelForCausalLM.from_pretrained(\n",
    "    \"meta-llama/Llama-2-7b-chat-hf\",\n",
    "    device_map='cuda',\n",
    "    cache_dir='./base_models',\n",
    "    token=huggingface_api_key\n",
    ")\n",
    "\n",
    "tokenizer = AutoTokenizer.from_pretrained(\"meta-llama/Llama-2-7b-chat-hf\",\n",
    "                                         cache_dir='./base_models.',\n",
    "                                         token=huggingface_api_key)"
   ]
  },
  {
   "cell_type": "code",
   "execution_count": null,
   "metadata": {},
   "outputs": [],
   "source": [
    "## Llama2\n",
    "\n",
    "def get_llama2_chat_response(prompt, max_new_tokens=100):\n",
    "  inputs = tokenizer(prompt, return_tensors=\"pt\").to(device)\n",
    "  outputs = model.generate(**inputs, max_new_tokens=max_new_tokens, temperature=0.0001)\n",
    "  response = tokenizer.decode(outputs[0], skip_special_tokens=True)\n",
    "  return response"
   ]
  },
  {
   "cell_type": "code",
   "execution_count": 48,
   "metadata": {},
   "outputs": [],
   "source": [
    "## Llama3 on Groq\n",
    "from groq import Groq\n",
    "\n",
    "groq_client = Groq(api_key='')\n",
    "\n",
    "def get_completion_from_groq(message, client_instance=groq_client, model='', temperator=0):\n",
    "    messages=[\n",
    "        # Set an optional system message. This sets the behavior of the\n",
    "        # assistant and can be used to provide specific instructions for\n",
    "        # how it should behave throughout the conversation.\n",
    "        {\n",
    "            \"role\": \"system\",\n",
    "            \"content\": \"you are a helpful assistant.\"\n",
    "        },\n",
    "        # Set a user message for the assistant to respond to.\n",
    "        {\n",
    "            \"role\": \"user\",\n",
    "            \"content\": message,\n",
    "        }\n",
    "    ]\n",
    "    response = client_instance.chat.completions.create(\n",
    "        messages=messages,\n",
    "        model=\"llama3-70b-8192\",\n",
    "        temperature=0.5,\n",
    "        max_tokens=1024,\n",
    "        top_p=1,\n",
    "        stop=None,\n",
    "        stream=False,\n",
    "    )\n",
    "    return response.choices[0].message.content"
   ]
  },
  {
   "cell_type": "code",
   "execution_count": 52,
   "metadata": {},
   "outputs": [],
   "source": [
    "## OpenAI\n",
    "from openai import OpenAI\n",
    "\n",
    "openai_client = OpenAI(\n",
    "    # defaults to os.environ.get(\"OPENAI_API_KEY\")\n",
    "    api_key='',\n",
    ")\n",
    "\n",
    "def get_completion_from_messages(message, client_instance=openai_client, model=\"gpt-4\", temperature=0):\n",
    "    messages=[\n",
    "        # Set an optional system message. This sets the behavior of the\n",
    "        # assistant and can be used to provide specific instructions for\n",
    "        # how it should behave throughout the conversation.\n",
    "        {\n",
    "            \"role\": \"system\",\n",
    "            \"content\": \"you are a helpful assistant.\"\n",
    "        },\n",
    "        # Set a user message for the assistant to respond to.\n",
    "        {\n",
    "            \"role\": \"user\",\n",
    "            \"content\": message,\n",
    "        }\n",
    "    ]\n",
    "    response = client_instance.chat.completions.create(\n",
    "        model=model,\n",
    "        messages=messages,\n",
    "        temperature=temperature, # this is the degree of randomness of the model's output\n",
    "    )\n",
    "#     print(str(response.choices[0].message))\n",
    "    return response.choices[0].message.content"
   ]
  },
  {
   "cell_type": "markdown",
   "metadata": {},
   "source": [
    "## Vector DB"
   ]
  },
  {
   "cell_type": "code",
   "execution_count": 6,
   "metadata": {
    "id": "nFSDdWp9QCEz"
   },
   "outputs": [],
   "source": [
    "import chromadb\n",
    "\n",
    "chroma_client = chromadb.Client()"
   ]
  },
  {
   "cell_type": "code",
   "execution_count": 7,
   "metadata": {
    "id": "rGIdwBnYQJBI"
   },
   "outputs": [],
   "source": [
    "collection = chroma_client.create_collection(name=\"my_collection\")"
   ]
  },
  {
   "cell_type": "code",
   "execution_count": 8,
   "metadata": {
    "id": "XyP9YmuNQO0A"
   },
   "outputs": [],
   "source": [
    "collection.add(\n",
    "    embeddings = [[1,2],[2,1]],\n",
    "    documents=[\"This is document 1\", \"This is document 2\"],\n",
    "    # metadatas=[{\"source\": \"my_source\"}, {\"source\": \"my_source\"}],\n",
    "    ids=[\"id1\", \"id2\"]\n",
    ")"
   ]
  },
  {
   "cell_type": "code",
   "execution_count": 9,
   "metadata": {
    "id": "k7iXb5jPQf0J"
   },
   "outputs": [],
   "source": [
    "results = collection.query(\n",
    "    query_embeddings = [[4,1]],\n",
    "    n_results=1\n",
    ")"
   ]
  },
  {
   "cell_type": "code",
   "execution_count": 10,
   "metadata": {
    "colab": {
     "base_uri": "https://localhost:8080/"
    },
    "id": "7hsnWMmnQl4u",
    "outputId": "6b1a5068-1c1b-478c-ed66-41ea79eec403"
   },
   "outputs": [
    {
     "data": {
      "text/plain": [
       "{'ids': [['id2']],\n",
       " 'distances': [[4.0]],\n",
       " 'metadatas': [[None]],\n",
       " 'embeddings': None,\n",
       " 'documents': [['This is document 2']],\n",
       " 'uris': None,\n",
       " 'data': None,\n",
       " 'included': ['metadatas', 'documents', 'distances']}"
      ]
     },
     "execution_count": 10,
     "metadata": {},
     "output_type": "execute_result"
    }
   ],
   "source": [
    "results"
   ]
  },
  {
   "cell_type": "markdown",
   "metadata": {
    "id": "Qe57YL6ZRYaK"
   },
   "source": [
    "## Embedding"
   ]
  },
  {
   "cell_type": "code",
   "execution_count": 11,
   "metadata": {
    "colab": {
     "base_uri": "https://localhost:8080/"
    },
    "id": "uskSjJ4sRpWI",
    "outputId": "1fb65181-0572-4e63-b52a-029696ff767c"
   },
   "outputs": [
    {
     "name": "stdout",
     "output_type": "stream",
     "text": [
      "Collecting sentence_transformers\n",
      "  Downloading sentence_transformers-3.0.1-py3-none-any.whl.metadata (10 kB)\n",
      "Requirement already satisfied: transformers<5.0.0,>=4.34.0 in /opt/homebrew/anaconda3/envs/GenAI/lib/python3.10/site-packages (from sentence_transformers) (4.39.2)\n",
      "Requirement already satisfied: tqdm in /opt/homebrew/anaconda3/envs/GenAI/lib/python3.10/site-packages (from sentence_transformers) (4.66.4)\n",
      "Requirement already satisfied: torch>=1.11.0 in /opt/homebrew/anaconda3/envs/GenAI/lib/python3.10/site-packages (from sentence_transformers) (2.2.2)\n",
      "Requirement already satisfied: numpy in /opt/homebrew/anaconda3/envs/GenAI/lib/python3.10/site-packages (from sentence_transformers) (1.26.4)\n",
      "Requirement already satisfied: scikit-learn in /opt/homebrew/anaconda3/envs/GenAI/lib/python3.10/site-packages (from sentence_transformers) (1.5.0)\n",
      "Requirement already satisfied: scipy in /opt/homebrew/anaconda3/envs/GenAI/lib/python3.10/site-packages (from sentence_transformers) (1.13.1)\n",
      "Requirement already satisfied: huggingface-hub>=0.15.1 in /opt/homebrew/anaconda3/envs/GenAI/lib/python3.10/site-packages (from sentence_transformers) (0.23.4)\n",
      "Requirement already satisfied: Pillow in /opt/homebrew/anaconda3/envs/GenAI/lib/python3.10/site-packages (from sentence_transformers) (10.3.0)\n",
      "Requirement already satisfied: filelock in /opt/homebrew/anaconda3/envs/GenAI/lib/python3.10/site-packages (from huggingface-hub>=0.15.1->sentence_transformers) (3.15.4)\n",
      "Requirement already satisfied: fsspec>=2023.5.0 in /opt/homebrew/anaconda3/envs/GenAI/lib/python3.10/site-packages (from huggingface-hub>=0.15.1->sentence_transformers) (2024.6.1)\n",
      "Requirement already satisfied: packaging>=20.9 in /opt/homebrew/anaconda3/envs/GenAI/lib/python3.10/site-packages (from huggingface-hub>=0.15.1->sentence_transformers) (24.0)\n",
      "Requirement already satisfied: pyyaml>=5.1 in /opt/homebrew/anaconda3/envs/GenAI/lib/python3.10/site-packages (from huggingface-hub>=0.15.1->sentence_transformers) (6.0.1)\n",
      "Requirement already satisfied: requests in /opt/homebrew/anaconda3/envs/GenAI/lib/python3.10/site-packages (from huggingface-hub>=0.15.1->sentence_transformers) (2.31.0)\n",
      "Requirement already satisfied: typing-extensions>=3.7.4.3 in /opt/homebrew/anaconda3/envs/GenAI/lib/python3.10/site-packages (from huggingface-hub>=0.15.1->sentence_transformers) (4.10.0)\n",
      "Requirement already satisfied: sympy in /opt/homebrew/anaconda3/envs/GenAI/lib/python3.10/site-packages (from torch>=1.11.0->sentence_transformers) (1.12.1)\n",
      "Requirement already satisfied: networkx in /opt/homebrew/anaconda3/envs/GenAI/lib/python3.10/site-packages (from torch>=1.11.0->sentence_transformers) (3.3)\n",
      "Requirement already satisfied: jinja2 in /opt/homebrew/anaconda3/envs/GenAI/lib/python3.10/site-packages (from torch>=1.11.0->sentence_transformers) (3.1.3)\n",
      "Requirement already satisfied: regex!=2019.12.17 in /opt/homebrew/anaconda3/envs/GenAI/lib/python3.10/site-packages (from transformers<5.0.0,>=4.34.0->sentence_transformers) (2024.5.15)\n",
      "Requirement already satisfied: tokenizers<0.19,>=0.14 in /opt/homebrew/anaconda3/envs/GenAI/lib/python3.10/site-packages (from transformers<5.0.0,>=4.34.0->sentence_transformers) (0.15.2)\n",
      "Requirement already satisfied: safetensors>=0.4.1 in /opt/homebrew/anaconda3/envs/GenAI/lib/python3.10/site-packages (from transformers<5.0.0,>=4.34.0->sentence_transformers) (0.4.3)\n",
      "Requirement already satisfied: joblib>=1.2.0 in /opt/homebrew/anaconda3/envs/GenAI/lib/python3.10/site-packages (from scikit-learn->sentence_transformers) (1.4.2)\n",
      "Requirement already satisfied: threadpoolctl>=3.1.0 in /opt/homebrew/anaconda3/envs/GenAI/lib/python3.10/site-packages (from scikit-learn->sentence_transformers) (3.5.0)\n",
      "Requirement already satisfied: MarkupSafe>=2.0 in /opt/homebrew/anaconda3/envs/GenAI/lib/python3.10/site-packages (from jinja2->torch>=1.11.0->sentence_transformers) (2.1.5)\n",
      "Requirement already satisfied: charset-normalizer<4,>=2 in /opt/homebrew/anaconda3/envs/GenAI/lib/python3.10/site-packages (from requests->huggingface-hub>=0.15.1->sentence_transformers) (3.3.2)\n",
      "Requirement already satisfied: idna<4,>=2.5 in /opt/homebrew/anaconda3/envs/GenAI/lib/python3.10/site-packages (from requests->huggingface-hub>=0.15.1->sentence_transformers) (3.6)\n",
      "Requirement already satisfied: urllib3<3,>=1.21.1 in /opt/homebrew/anaconda3/envs/GenAI/lib/python3.10/site-packages (from requests->huggingface-hub>=0.15.1->sentence_transformers) (2.2.1)\n",
      "Requirement already satisfied: certifi>=2017.4.17 in /opt/homebrew/anaconda3/envs/GenAI/lib/python3.10/site-packages (from requests->huggingface-hub>=0.15.1->sentence_transformers) (2024.7.4)\n",
      "Requirement already satisfied: mpmath<1.4.0,>=1.1.0 in /opt/homebrew/anaconda3/envs/GenAI/lib/python3.10/site-packages (from sympy->torch>=1.11.0->sentence_transformers) (1.3.0)\n",
      "Downloading sentence_transformers-3.0.1-py3-none-any.whl (227 kB)\n",
      "\u001b[2K   \u001b[38;2;114;156;31m━━━━━━━━━━━━━━━━━━━━━━━━━━━━━━━━━━━━━━━━\u001b[0m \u001b[32m227.1/227.1 kB\u001b[0m \u001b[31m6.0 MB/s\u001b[0m eta \u001b[36m0:00:00\u001b[0m\n",
      "\u001b[?25hInstalling collected packages: sentence_transformers\n",
      "Successfully installed sentence_transformers-3.0.1\n"
     ]
    }
   ],
   "source": [
    "!pip install sentence_transformers"
   ]
  },
  {
   "cell_type": "code",
   "execution_count": 12,
   "metadata": {
    "colab": {
     "base_uri": "https://localhost:8080/",
     "height": 369,
     "referenced_widgets": [
      "a634235108184548a3e91261abbd0f9e",
      "4456144ac1f14298ab488203984e7894",
      "9d9e74181ffb4d68b3b625038af0d280",
      "aeac99dd5d2341febb5e40109208d3ca",
      "ece4c8ab5ef74764860fa9ec53120a76",
      "d101c803937e4a1c99fb1e5f600d04d7",
      "b0539088909f4d53905d3042b70d6284",
      "8dc1bb70c9b243b9a11c5d173d3d50aa",
      "39c057721765432bbc57cccc7ebce091",
      "2b14fc5aed8e42edb59c8534529dde8e",
      "139754d46ecf4820afb8fdbf6561ccb0",
      "8486f4bac55847aabec08660bd1aa3ee",
      "fbb1e4a594404eda8871fb8b6602a266",
      "ee59fd9cbb7d4967bf8f91d184a747e6",
      "13535cd36389439c96be8d5ddc1758d6",
      "69382528d9044d209cf28c7e77ad51d3",
      "3b91e2d446154934a41078f42af3000f",
      "7997c4c2846f445ca5c1084282db1000",
      "5ab2894fba0f460582de9ea24d216c8d",
      "4371d89a5e3a461ca49193b82159eecf",
      "dee179ef9b1c4bdcb4631a9e034553d3",
      "74cb81dfe886413f977993b0eab3402d",
      "65ea80c447da4bdb9512e91a3fd74fb9",
      "837c4a2c00a44053961e750e0198282a",
      "95e42e220b614601b2de8d10f74b94c6",
      "8620382d3444437fb3c6c184ce119700",
      "a9812af05ec54beda8944ff28b114154",
      "cef281cfc6234379bbc44221427c86bc",
      "e892f26d2f1e4c9380afd0bcb7bd8f3b",
      "00574b5e71b049ec86d42bc066a0fd26",
      "e561f34cdbd0401aacab74bfafce236c",
      "38e8b22c401845fbab3825495bdeb42a",
      "128ae31df2714d72b87e72be46bfd937",
      "749848452b394ce2bed4082d3bb062ac",
      "d65083be2ed94bd3b91a73de888d0dd2",
      "add4280e788c40efae79ef3d1f8c419c",
      "4894c986f81c4b398cd7049c50fcaa3e",
      "40f29099c4bb4fd4b086525cd2bb675d",
      "e4ef44f3733a41e2b1c317b3d04ccf81",
      "3fabc53384384dc8bda3fd91aa64586f",
      "85d2146fb66f4445bb2ee6202fca5adc",
      "a184986122f44b698d4111641e02c632",
      "d9f2094e3eb44b58b8a7f210547c82e5",
      "3b516e5b309c40cc8a8f9b2e821b7a0c",
      "dc89ecf818d2415ebc282e43b7d6597b",
      "37f1898d5f364e599d6a7d6aadcbc271",
      "7c71cff352ce49b8bb9cb100993eee0f",
      "2d810a48e3b94fac9519a56850c7f3cf",
      "e98486a071554598b4cf7aa977cf6c91",
      "825d9142473c4c7183c598c1df4adce5",
      "e5635b57eaf8404986626356b6700803",
      "d7fa85a28ac74c1d97c65ecccd449fff",
      "773d687209e341ab8391b3a89c3709be",
      "943fae88d11a429181f5622f186c3945",
      "3f3894e4c10141f3bb984689d5fe5908",
      "ce9b4b39b43d41cebc2e328264be27ff",
      "73f813d89f414641922d3fee31c6c89d",
      "fbd96033a927491c9c26d62c4a1a52b8",
      "9c4fe19618b84aa1b8e98172d022ccad",
      "7238b1524ac645d7a0dde5dd6b27490d",
      "72d71ef1f7554f2691fb562b85f1c94c",
      "99ab6c916ac64c67866320814ad9d085",
      "323060d96c4848609c259bd0cca09dab",
      "e125774cf0354324841d626edbd1241f",
      "121d87d7fd1041568a5309de4eb83108",
      "f621ca910a3742bdb5bd42123648ff1e",
      "1c61375ee8094b2da8fe61cb7d50e196",
      "41ebc28473cb41a389c74093add01e4f",
      "c60bd06dda7647fa9c7e4a955029e780",
      "5ab652c182324c6ebb87553a983053c0",
      "252f4509898a488889b8bb90a0b43b84",
      "7d3193cc7d954b39adf9cecf7d4e0382",
      "dde1a4ec465c42e8b7d9d03bf95477fa",
      "cdd6f35cb0ae4f4291075d12c261a1b5",
      "9cde4aec7f6a4220a2986e64f5a4f329",
      "16955c02ab1f4845860ee7ba91a26c5c",
      "a5e1d9b6ad3e4e9a903ddfbaee062242",
      "b700350c7fe84f07ac4543c5960e4f66",
      "42fd21871e09422da3d44b2d5d2ccfcf",
      "54efc91bba6c4a958d728000457ca5cd",
      "675ad52668164eec85a563dafb5ca4fe",
      "b08c8cb203104ac7a75dfcb5a94fed56",
      "c67f1a06a12a4b7b90903fc9b11fc6d0",
      "9300fd5a0a33473caa094c24374afff6",
      "41e1cbf8196a44bead162624fbdaa59e",
      "1f4fa84f62d6468ba79666b554c0079f",
      "748cd482e2e4432fa0c9243527a589fa",
      "9b4802951ebc4af1a4354386a668c38b",
      "07dc7353567141c4b20c0bc4758ba369",
      "869ef8d37bf544988f5011aed9aef058",
      "81e13eb1dd2a49cda5473a85b73275b7",
      "67419caa42ba47b39d3435ef0e0126de",
      "a4750596f5314ff79cb35a625e5ce3fc",
      "966bf80b59924421899efbaf91ae1937",
      "a194e548c39744c687cbb2d69fdc1838",
      "44c051365e0443339baa1f09fe5700b6",
      "5d7e61a64fb141c9be6dbd061e306102",
      "a42457ae15644bbfbaa8c21ce93ed004",
      "cbaee495f98444b78670a9a473459bfc",
      "6dfbb33e054f4c418dff828438bbc235",
      "72907d83789043078c31cd75a2ac8cf7",
      "9c788e9edc424e3cbbee45933fd317df",
      "3de3ad4eb4e84e6a94d0832b31ee454d",
      "c3853b06827c4e81ba1f3dc79fd15729",
      "65fcf1f441c84a8d97e2de06ad77c2cb",
      "a1d2c780fe4d44739807a34d2e876212",
      "8bdf4a37d4c447c1b438cf39532053ec",
      "ef9692880f7d494ca748cd9e829e8e75",
      "28444a1f58a44626837bc36e03e8fe3f",
      "d194f6bf0a7044cfb5d3adb17aee8ad3",
      "7c3e2b9e573142ac935b4a5ccbb9d989",
      "09c50ed9ae414fe08cc2934bc0b313d3",
      "a8eec80629da496aa8234eb42d2a4e55",
      "186a14ea9c8f40dc959592e79b54d4de",
      "9e73abcf2a0540bd80c2373311f55cac",
      "696e56378d0e40afbbaeba0381f57ecd",
      "d3ae5588592d434da95d0a1f45170fe3",
      "0bf97bd7951b4239a08d433567199cf9",
      "a881e718ca5b474694bd50c5cfbd668c",
      "bfa2c8a2179c415ca383fd28882dcaf3",
      "0d80009c2a704d149f36e04115d5cd28"
     ]
    },
    "id": "pW5CtFfTR4hQ",
    "outputId": "30962ff6-7da1-4e49-b629-2c165bfd2269"
   },
   "outputs": [
    {
     "name": "stderr",
     "output_type": "stream",
     "text": [
      "/opt/homebrew/anaconda3/envs/GenAI/lib/python3.10/site-packages/sentence_transformers/cross_encoder/CrossEncoder.py:11: TqdmExperimentalWarning: Using `tqdm.autonotebook.tqdm` in notebook mode. Use `tqdm.tqdm` instead to force console mode (e.g. in jupyter console)\n",
      "  from tqdm.autonotebook import tqdm, trange\n"
     ]
    },
    {
     "data": {
      "application/vnd.jupyter.widget-view+json": {
       "model_id": "8064f4b0c7f44172aa057130606d830a",
       "version_major": 2,
       "version_minor": 0
      },
      "text/plain": [
       "modules.json:   0%|          | 0.00/229 [00:00<?, ?B/s]"
      ]
     },
     "metadata": {},
     "output_type": "display_data"
    },
    {
     "data": {
      "application/vnd.jupyter.widget-view+json": {
       "model_id": "a133772fb14e436d81461c9920294247",
       "version_major": 2,
       "version_minor": 0
      },
      "text/plain": [
       "config_sentence_transformers.json:   0%|          | 0.00/122 [00:00<?, ?B/s]"
      ]
     },
     "metadata": {},
     "output_type": "display_data"
    },
    {
     "data": {
      "application/vnd.jupyter.widget-view+json": {
       "model_id": "4a4c335a4968416f9c335281091aad59",
       "version_major": 2,
       "version_minor": 0
      },
      "text/plain": [
       "README.md:   0%|          | 0.00/3.73k [00:00<?, ?B/s]"
      ]
     },
     "metadata": {},
     "output_type": "display_data"
    },
    {
     "data": {
      "application/vnd.jupyter.widget-view+json": {
       "model_id": "b8e646c6714c4611a9b572b57580849f",
       "version_major": 2,
       "version_minor": 0
      },
      "text/plain": [
       "sentence_bert_config.json:   0%|          | 0.00/53.0 [00:00<?, ?B/s]"
      ]
     },
     "metadata": {},
     "output_type": "display_data"
    },
    {
     "name": "stderr",
     "output_type": "stream",
     "text": [
      "/opt/homebrew/anaconda3/envs/GenAI/lib/python3.10/site-packages/huggingface_hub/file_download.py:1132: FutureWarning: `resume_download` is deprecated and will be removed in version 1.0.0. Downloads always resume when possible. If you want to force a new download, use `force_download=True`.\n",
      "  warnings.warn(\n"
     ]
    },
    {
     "data": {
      "application/vnd.jupyter.widget-view+json": {
       "model_id": "f48a08b37bf649feb93bc3b614b3623f",
       "version_major": 2,
       "version_minor": 0
      },
      "text/plain": [
       "config.json:   0%|          | 0.00/629 [00:00<?, ?B/s]"
      ]
     },
     "metadata": {},
     "output_type": "display_data"
    },
    {
     "data": {
      "application/vnd.jupyter.widget-view+json": {
       "model_id": "edc30dcb03fa4392b958dcef9f6351d1",
       "version_major": 2,
       "version_minor": 0
      },
      "text/plain": [
       "model.safetensors:   0%|          | 0.00/90.9M [00:00<?, ?B/s]"
      ]
     },
     "metadata": {},
     "output_type": "display_data"
    },
    {
     "data": {
      "application/vnd.jupyter.widget-view+json": {
       "model_id": "9d3df6bc5c434c58b002409a368ac561",
       "version_major": 2,
       "version_minor": 0
      },
      "text/plain": [
       "tokenizer_config.json:   0%|          | 0.00/314 [00:00<?, ?B/s]"
      ]
     },
     "metadata": {},
     "output_type": "display_data"
    },
    {
     "data": {
      "application/vnd.jupyter.widget-view+json": {
       "model_id": "e040000ca85348d39f96c1d3c27821cd",
       "version_major": 2,
       "version_minor": 0
      },
      "text/plain": [
       "vocab.txt:   0%|          | 0.00/232k [00:00<?, ?B/s]"
      ]
     },
     "metadata": {},
     "output_type": "display_data"
    },
    {
     "data": {
      "application/vnd.jupyter.widget-view+json": {
       "model_id": "bf5b1e93fe49468ab88a01b1bf5bc46d",
       "version_major": 2,
       "version_minor": 0
      },
      "text/plain": [
       "tokenizer.json:   0%|          | 0.00/466k [00:00<?, ?B/s]"
      ]
     },
     "metadata": {},
     "output_type": "display_data"
    },
    {
     "data": {
      "application/vnd.jupyter.widget-view+json": {
       "model_id": "047e1f920f1240298390f782bd513337",
       "version_major": 2,
       "version_minor": 0
      },
      "text/plain": [
       "special_tokens_map.json:   0%|          | 0.00/112 [00:00<?, ?B/s]"
      ]
     },
     "metadata": {},
     "output_type": "display_data"
    },
    {
     "data": {
      "application/vnd.jupyter.widget-view+json": {
       "model_id": "1238e6c05c5c4b8989f0508af59d9af3",
       "version_major": 2,
       "version_minor": 0
      },
      "text/plain": [
       "1_Pooling/config.json:   0%|          | 0.00/190 [00:00<?, ?B/s]"
      ]
     },
     "metadata": {},
     "output_type": "display_data"
    }
   ],
   "source": [
    "from sentence_transformers import SentenceTransformer\n",
    "\n",
    "embedding_model = SentenceTransformer('paraphrase-MiniLM-L6-v2',\n",
    "                                      cache_folder=\"./base_models\"\n",
    "                                     )"
   ]
  },
  {
   "cell_type": "code",
   "execution_count": 14,
   "metadata": {
    "colab": {
     "base_uri": "https://localhost:8080/"
    },
    "id": "TaO7Re8ASc6r",
    "outputId": "bd7759db-1d45-45cd-8e7e-09e2113da009"
   },
   "outputs": [
    {
     "data": {
      "text/plain": [
       "array([[-0.21421571, -0.05434426,  0.19832453,  0.10691655,  0.28119686,\n",
       "         0.32432988,  0.1671177 ,  0.20439668, -0.3598284 ,  0.11064065,\n",
       "        -0.08583799,  0.41642538, -0.3645016 ,  0.85148627,  0.11012043,\n",
       "         0.92857635, -0.36775345,  0.16180618,  0.44544262,  0.4416718 ,\n",
       "         0.23353025,  0.02829267,  0.0571992 , -0.70513844,  0.05321491,\n",
       "        -0.16388686,  0.05863433,  0.0121839 ,  0.49752542, -0.15215246,\n",
       "         0.29764974, -0.07951561,  0.7024071 ,  0.42614806, -0.4737264 ,\n",
       "        -0.2805278 , -0.45465115, -0.3122342 ,  0.10630064,  0.10367037,\n",
       "        -0.56606936,  0.16192491,  0.14529684,  0.7097154 , -0.4996835 ,\n",
       "         0.23867501, -0.05783312, -0.4678942 , -0.18654986,  0.14146481,\n",
       "        -0.1144841 , -0.13624042,  0.0772586 , -0.41289452,  0.5603255 ,\n",
       "         0.3067136 ,  0.00458807, -0.04948796,  0.6024598 ,  0.2552421 ,\n",
       "         0.00164488, -0.7260487 ,  0.34768158, -0.22945112,  0.00646364,\n",
       "        -0.28977212, -0.36313832, -0.4536401 ,  0.03303824,  0.2518264 ,\n",
       "         0.1530168 ,  0.24997537, -0.28317165, -0.29214695, -0.46193928,\n",
       "        -0.4042647 , -0.03358625, -0.15576465, -0.49093574,  0.27422783,\n",
       "        -0.0598424 , -0.04788021, -0.3943041 , -0.15878487,  0.52750397,\n",
       "        -0.0924812 ,  0.19054651, -0.44133484,  0.02875667,  0.66607124,\n",
       "         0.37332705,  0.14686094,  0.38595095, -0.63576907, -0.27085555,\n",
       "        -0.03409071,  1.0576416 ,  0.64516014, -0.2760152 , -0.15522286,\n",
       "         0.11964826,  0.29768127, -0.12043101, -0.02310991, -0.2542607 ,\n",
       "        -0.24857317, -0.7574357 ,  0.07591745, -0.46728113,  0.02769891,\n",
       "         0.77176195,  0.00402116, -0.41591105,  0.4266913 ,  0.2869924 ,\n",
       "         0.65047854,  0.01477661, -0.43729696, -0.03053121, -0.29261732,\n",
       "        -0.37702072,  0.16857836,  0.31139314,  0.09302323, -0.80354726,\n",
       "         0.3658912 ,  0.09076136, -0.09646106,  0.38418853,  0.07574334,\n",
       "        -0.20193113, -0.11409112,  0.32835254,  0.08655075, -0.87629664,\n",
       "         0.7215384 ,  0.23835407,  0.03880662,  0.1416339 ,  0.33900273,\n",
       "         0.3262879 ,  0.3000988 ,  0.03818136,  0.15905087,  0.05708104,\n",
       "        -0.34032497,  0.07802978,  0.25487483,  0.23421042, -0.26787844,\n",
       "        -0.09059207,  0.1073992 , -0.32449248, -0.11284772,  0.84150356,\n",
       "        -0.29147834,  0.31310093, -0.39256525, -0.5523171 , -0.3111852 ,\n",
       "         0.27091834, -0.02303441,  0.76377296, -0.15360816,  0.11539275,\n",
       "         0.5658096 , -0.54354626, -0.039017  ,  0.48664966, -0.32160485,\n",
       "         0.22421435, -0.4079173 , -0.08492006,  0.17525028, -0.2683365 ,\n",
       "         0.14011139,  0.27897808, -0.21299428, -0.44836405,  0.2949285 ,\n",
       "         0.45387268, -0.42394036,  0.06480467, -0.10243114,  0.3562258 ,\n",
       "        -0.30699784,  0.17144094,  0.01682933, -0.12341677, -0.28191784,\n",
       "         0.31058285, -0.01338227, -0.0818086 , -0.07286073, -0.6110362 ,\n",
       "        -0.5504746 , -0.37779602, -0.05225514,  0.11893556,  0.25830087,\n",
       "        -0.45248806, -0.49021518,  0.08924547, -0.15299453, -0.38224435,\n",
       "         0.10164025, -0.68527037,  0.29460567, -0.13870062,  0.02593435,\n",
       "         0.70033985, -0.02316911,  0.29928362, -0.4993891 ,  0.06816211,\n",
       "         0.02979857, -0.46188217,  0.21251072, -0.31898803,  0.06540472,\n",
       "         0.67282456, -0.20700091,  0.42017856,  0.1614652 , -0.6876803 ,\n",
       "        -0.09993437,  0.46386924,  0.09606526,  0.02021028,  0.42748976,\n",
       "        -0.22866   ,  0.18917009, -0.77388954, -0.36269924,  0.15636021,\n",
       "         0.3152262 ,  0.36815602,  0.03121234,  0.6417206 , -0.22036988,\n",
       "        -0.64168215,  0.66360044, -0.7318523 ,  0.25061226,  0.07867506,\n",
       "         0.8287007 ,  0.3266102 ,  0.09524325,  0.09343898, -0.2968726 ,\n",
       "         0.7499394 , -0.18761031,  0.4025829 , -0.08065785, -0.09213636,\n",
       "         0.4556194 , -0.790346  , -0.62759036,  0.2047713 ,  0.17898631,\n",
       "        -0.01729825, -0.21984096, -0.5402399 ,  0.3960922 ,  0.76579297,\n",
       "         0.6005266 , -0.32199198, -0.14619966, -0.3168422 ,  0.08097875,\n",
       "        -0.5128672 ,  0.2396404 , -0.26688397, -0.17588267, -0.43402392,\n",
       "         0.28482178,  0.18058814, -0.32505366,  0.24910232, -0.36430186,\n",
       "        -0.14452624,  0.2730549 ,  0.2698875 ,  0.371458  , -0.14256306,\n",
       "        -0.4396064 ,  0.16633177,  0.40210447,  0.04022854, -0.04864142,\n",
       "         0.01048981,  0.12404498,  0.19585657, -0.20563126, -0.9048913 ,\n",
       "         0.09374239, -0.16501158,  0.3650657 ,  0.03291965, -0.17453857,\n",
       "         0.25339913, -0.13700992,  0.01262918, -0.35142747,  0.06598195,\n",
       "         0.08108915,  0.01622262, -0.22921784,  0.29649487, -0.4244265 ,\n",
       "        -0.36027542, -0.30417192,  0.01538087,  0.15792115, -0.06019233,\n",
       "         0.43106702, -0.94788   ,  0.45078886,  0.3606919 , -0.16986138,\n",
       "        -0.7084408 ,  0.08779684, -0.28039515,  0.13190182,  0.9040898 ,\n",
       "         0.15125912,  0.2710876 , -0.42162746, -0.60473734,  0.35774338,\n",
       "         0.2614922 ,  0.32347563, -0.38630235,  0.4269048 , -0.24480438,\n",
       "        -0.13282292,  0.2222758 ,  0.13955322,  0.62255776,  0.79598355,\n",
       "        -0.15211627, -0.28436497, -0.5789025 ,  0.4940452 , -0.03469724,\n",
       "        -0.39048016,  0.25729242, -0.4010492 ,  0.92069066, -0.04207326,\n",
       "         0.12344832,  0.19809425, -0.26353317,  0.14242417, -0.65193474,\n",
       "        -0.2508792 ,  0.21270376, -0.21344161, -0.39028007, -0.10892263,\n",
       "         0.31888482,  0.03936451, -0.30019966,  0.04603806, -0.47631115,\n",
       "        -0.07448738, -0.31128094, -0.14071998,  0.4639206 ,  0.5797442 ,\n",
       "        -0.19158374,  0.19012138,  0.92790806, -0.5101954 , -0.43548185,\n",
       "        -0.40754378,  0.15934734, -0.24003161, -1.0581551 , -0.67889935,\n",
       "         0.20841736, -0.44957107, -0.38141963, -0.10767766],\n",
       "       [ 1.1586163 , -0.32737476,  0.79012555,  0.4391535 ,  0.03346695,\n",
       "         0.35499948,  0.41834122,  0.15694821, -0.02857685, -0.29278255,\n",
       "         0.475885  , -0.8410792 , -0.28335345, -0.0988213 , -0.3732623 ,\n",
       "         0.01928498,  0.37346795,  0.04478125,  0.03219964,  0.5332631 ,\n",
       "        -0.23058853, -0.19345978,  0.5643984 , -0.1358594 , -0.60871005,\n",
       "         0.301987  ,  0.65517235, -0.31225073, -0.29657483,  0.3851543 ,\n",
       "         0.27531743, -0.12462761,  0.5064978 ,  0.19395027, -0.04150424,\n",
       "        -0.02843783,  0.73109543, -1.0623001 ,  0.19130197, -0.04418522,\n",
       "        -0.16830607,  0.19608516, -0.12238322,  0.17035368,  0.36585328,\n",
       "        -0.08814754,  0.27226952, -0.7701552 , -0.15499096, -0.2997918 ,\n",
       "         0.14681727, -0.08191144,  0.58738214, -0.26759356, -0.36240673,\n",
       "         0.2941175 ,  0.5059974 ,  0.11807574,  0.679278  ,  0.2705795 ,\n",
       "         0.18269974, -0.70984066,  0.2826771 , -0.5522603 ,  0.6233821 ,\n",
       "        -0.00771163, -0.47856092, -0.40399784, -0.23137414,  0.04030401,\n",
       "         0.26167718,  0.7931499 ,  0.5546127 ,  0.46024275,  0.3819669 ,\n",
       "         0.03875655,  0.04863761, -0.15695351,  0.37905276,  0.8349087 ,\n",
       "        -1.1430149 ,  0.30845577, -0.4391357 ,  0.35728085, -0.34473962,\n",
       "        -0.18054439, -0.73067814, -0.15273418, -0.5847022 , -0.26487783,\n",
       "        -0.36495143, -0.17308679, -0.0132119 ,  0.01933481,  0.60025084,\n",
       "        -0.13217103,  0.2538483 , -0.5764918 , -0.40019763, -0.3380326 ,\n",
       "        -0.24325466,  0.84201837, -0.3380241 ,  0.32773566, -0.41195408,\n",
       "        -0.71817875, -0.48102623, -0.85782915, -0.3692571 ,  0.60012543,\n",
       "         0.38007706, -0.09931071,  0.43355098,  0.5772089 ,  0.05912285,\n",
       "        -0.30987218,  0.9295798 , -0.38248262,  0.7555073 , -0.30164295,\n",
       "         0.07532568, -0.55980945, -0.43422014, -0.13262829, -0.5684389 ,\n",
       "        -0.43445185, -0.2768053 , -0.01823823, -1.1305695 ,  0.00176335,\n",
       "        -0.07245091, -0.82177985,  0.5668237 , -0.46593535, -0.51690364,\n",
       "         0.31330833,  0.18782674, -0.8912803 , -0.951115  , -0.43944564,\n",
       "        -0.05064221, -0.234725  , -0.02084686,  0.25570524,  0.17993018,\n",
       "         0.24242023,  0.603305  ,  0.9470503 ,  0.78961456, -0.56844294,\n",
       "         0.05974688, -0.09923573,  0.1827161 , -0.8940704 ,  0.33855468,\n",
       "        -0.2289432 ,  0.24754125, -0.33809024,  0.3199153 , -0.09564959,\n",
       "        -0.5453521 , -0.1161327 ,  0.34180653,  0.0455433 ,  0.19875002,\n",
       "         0.12485065,  0.20699382,  0.20972505, -0.25641564,  0.296481  ,\n",
       "         0.9026095 ,  0.09022392, -0.14028326,  0.3606799 , -0.03856485,\n",
       "        -0.08526874,  0.1958603 , -0.6826184 ,  0.3991619 , -0.64032066,\n",
       "         0.18810439, -0.697732  , -0.3466766 ,  0.5360222 ,  0.2082272 ,\n",
       "        -0.6316534 , -0.23415121,  0.67398083, -0.2813378 ,  0.34202212,\n",
       "         0.3730952 ,  0.52541363, -0.49000633,  0.19552174, -0.528049  ,\n",
       "        -0.42909306,  0.24929494,  0.09282957, -0.48011816,  0.5206468 ,\n",
       "         0.42510962, -0.15002128, -1.2147342 ,  0.1967131 ,  0.14355311,\n",
       "        -1.148515  ,  0.12477642,  0.05112637,  1.0120596 , -0.26502466,\n",
       "         0.31333956, -0.5163469 , -0.1389139 ,  0.21289779, -0.8205815 ,\n",
       "        -0.3822716 ,  0.82058597,  0.2786306 ,  0.2126619 , -0.55730695,\n",
       "        -0.427007  , -0.12745018, -0.596009  ,  0.15589929,  0.24205786,\n",
       "        -0.5488869 , -0.22834578, -0.22967565,  0.34571493,  0.3642887 ,\n",
       "        -0.7095393 ,  0.70370734, -0.2637266 , -0.67801964,  1.0112453 ,\n",
       "         0.06098296, -0.07368548, -0.266784  ,  0.01334891,  0.49292362,\n",
       "         0.07038224,  0.60676956,  0.20659329, -0.33626518, -0.2315679 ,\n",
       "        -0.27471387,  0.45076287, -0.04963086, -0.03143575, -0.10832804,\n",
       "         0.67815775,  0.2877167 ,  0.43259662, -0.85551596,  0.76044893,\n",
       "        -0.36693317,  0.11740872, -0.32751602, -0.0322244 , -0.0972243 ,\n",
       "        -0.66276133, -1.1344649 ,  0.6083074 ,  0.7147507 , -0.01044723,\n",
       "        -0.2779802 , -0.07410419,  0.3809452 ,  0.6076883 ,  0.24244569,\n",
       "         0.7590779 ,  0.37527058,  0.32946977, -0.27707088,  0.11352213,\n",
       "        -0.34565616,  0.5152168 ,  0.14679982,  0.6378647 ,  0.3250367 ,\n",
       "         0.2738755 , -0.13330865, -0.00502041, -0.3349521 , -0.17203422,\n",
       "        -0.17674676,  0.30771574,  0.05896673, -0.5743915 , -0.89918137,\n",
       "        -1.089003  ,  0.00588065, -0.28145334, -0.14463006, -0.06578845,\n",
       "         0.7394853 ,  0.5734767 , -0.0188286 , -0.32713324, -0.37195954,\n",
       "        -0.49150681, -0.1925132 , -0.49606967, -0.19075233, -0.6323742 ,\n",
       "         0.95026916,  0.44966903, -0.79056823,  0.34715268, -0.05911859,\n",
       "        -0.1727854 ,  0.24768221, -0.6887219 , -0.08287882, -0.35596788,\n",
       "        -0.4749552 , -0.16113983, -0.3614839 ,  0.4779546 , -0.42556742,\n",
       "        -0.10438507, -0.43668616, -0.15496993,  0.01455821,  0.04050112,\n",
       "        -0.24846303,  0.2549637 ,  0.08474535,  0.51788455, -0.16289334,\n",
       "        -0.45749325,  0.2273882 , -0.22719213,  0.32800722, -0.24720979,\n",
       "         0.18224154,  0.7267724 ,  0.24095255,  0.07653807,  0.8731692 ,\n",
       "         0.11826815,  0.10846637, -0.2485264 ,  0.2682394 ,  0.2627314 ,\n",
       "         0.01207448,  0.24789348,  0.26801276,  0.26857933,  0.04820889,\n",
       "        -0.06064406, -0.20587885,  0.6247438 , -0.03675137, -0.29372296,\n",
       "         0.4399927 ,  0.09395962, -0.27250525, -0.2107044 ,  0.04535269,\n",
       "         0.2056172 , -0.38790396, -0.18630694,  0.02320309, -0.3055737 ,\n",
       "         0.73445666, -0.25967515,  0.01595155,  0.7807598 ,  0.26050097,\n",
       "        -0.47451785, -0.12483198,  0.20563333, -0.0608227 ,  0.02116593,\n",
       "         0.64452875,  0.37099785, -0.2981919 ,  0.0841037 ,  0.7660577 ,\n",
       "         0.7211382 , -0.34333846,  0.21554181,  0.49131584]],\n",
       "      dtype=float32)"
      ]
     },
     "execution_count": 14,
     "metadata": {},
     "output_type": "execute_result"
    }
   ],
   "source": [
    "sentences = [\"The man is sitting on the tree\", \"The girl is eating an apple\"]\n",
    "embeddings = embedding_model.encode(sentences)\n",
    "embeddings"
   ]
  },
  {
   "cell_type": "markdown",
   "metadata": {
    "id": "pxgFJeKZTVPo"
   },
   "source": [
    "## RAG (Retreival Augmented Generation)"
   ]
  },
  {
   "cell_type": "code",
   "execution_count": 15,
   "metadata": {
    "colab": {
     "base_uri": "https://localhost:8080/"
    },
    "id": "rxM4mZsYTbyN",
    "outputId": "178041ae-b417-43a1-dbce-7629a2846b69"
   },
   "outputs": [
    {
     "name": "stderr",
     "output_type": "stream",
     "text": [
      "huggingface/tokenizers: The current process just got forked, after parallelism has already been used. Disabling parallelism to avoid deadlocks...\n",
      "To disable this warning, you can either:\n",
      "\t- Avoid using `tokenizers` before the fork if possible\n",
      "\t- Explicitly set the environment variable TOKENIZERS_PARALLELISM=(true | false)\n"
     ]
    },
    {
     "name": "stdout",
     "output_type": "stream",
     "text": [
      "Collecting PyPDF2\n",
      "  Downloading pypdf2-3.0.1-py3-none-any.whl.metadata (6.8 kB)\n",
      "Downloading pypdf2-3.0.1-py3-none-any.whl (232 kB)\n",
      "\u001b[2K   \u001b[38;2;114;156;31m━━━━━━━━━━━━━━━━━━━━━━━━━━━━━━━━━━━━━━━━\u001b[0m \u001b[32m232.6/232.6 kB\u001b[0m \u001b[31m7.8 MB/s\u001b[0m eta \u001b[36m0:00:00\u001b[0m\n",
      "\u001b[?25hInstalling collected packages: PyPDF2\n",
      "Successfully installed PyPDF2-3.0.1\n"
     ]
    }
   ],
   "source": [
    "!pip install PyPDF2"
   ]
  },
  {
   "cell_type": "code",
   "execution_count": 16,
   "metadata": {
    "id": "ro81QDRbT8Jd"
   },
   "outputs": [],
   "source": [
    "import PyPDF2"
   ]
  },
  {
   "cell_type": "code",
   "execution_count": 17,
   "metadata": {
    "id": "hBraNdqQUDaX"
   },
   "outputs": [],
   "source": [
    "# creating a pdf reader object\n",
    "reader = PyPDF2.PdfReader('integrated_en.pdf')"
   ]
  },
  {
   "cell_type": "code",
   "execution_count": 18,
   "metadata": {
    "colab": {
     "base_uri": "https://localhost:8080/"
    },
    "id": "BtdK3CN7UI8Y",
    "outputId": "8baca7fa-dfe0-4a6d-9803-4307d66218de"
   },
   "outputs": [
    {
     "name": "stdout",
     "output_type": "stream",
     "text": [
      "65\n"
     ]
    }
   ],
   "source": [
    "print(len(reader.pages))"
   ]
  },
  {
   "cell_type": "code",
   "execution_count": 19,
   "metadata": {
    "colab": {
     "base_uri": "https://localhost:8080/"
    },
    "id": "bdk_sPzRUXPu",
    "outputId": "a835ecf4-5d38-4720-de5a-a9bb7bb9482c"
   },
   "outputs": [
    {
     "name": "stdout",
     "output_type": "stream",
     "text": [
      "Integrated \n",
      "Report 2022\n",
      "Integrated Report 2022\n",
      "Fiscal year ended March 31, 2022\n"
     ]
    }
   ],
   "source": [
    "# print the text of the first page\n",
    "print(reader.pages[0].extract_text())"
   ]
  },
  {
   "cell_type": "code",
   "execution_count": 20,
   "metadata": {
    "id": "ncU4bRx4Uh8M"
   },
   "outputs": [],
   "source": [
    "pages = [page.extract_text() for page in reader.pages]"
   ]
  },
  {
   "cell_type": "code",
   "execution_count": 21,
   "metadata": {
    "id": "86RuHHjNUoQg"
   },
   "outputs": [],
   "source": [
    "document = '\\n'.join(pages)"
   ]
  },
  {
   "cell_type": "code",
   "execution_count": 22,
   "metadata": {
    "id": "65QQ_CJaUrCP"
   },
   "outputs": [],
   "source": [
    "def get_overlapped_chunks(textin, chunksize, overlapsize):\n",
    "    return [textin[a:a+chunksize] for a in range(0,len(textin), chunksize-overlapsize)]\n"
   ]
  },
  {
   "cell_type": "code",
   "execution_count": 23,
   "metadata": {
    "id": "jrI5gm-MU1rb"
   },
   "outputs": [],
   "source": [
    "chunks = get_overlapped_chunks(document, 2000, 100)"
   ]
  },
  {
   "cell_type": "code",
   "execution_count": 24,
   "metadata": {
    "colab": {
     "base_uri": "https://localhost:8080/"
    },
    "id": "fVOsD0a0VRHm",
    "outputId": "6ba342a1-6093-4f71-86cc-a84ff5bd1912"
   },
   "outputs": [
    {
     "data": {
      "text/plain": [
       "210"
      ]
     },
     "execution_count": 24,
     "metadata": {},
     "output_type": "execute_result"
    }
   ],
   "source": [
    "len(chunks)"
   ]
  },
  {
   "cell_type": "code",
   "execution_count": 25,
   "metadata": {
    "colab": {
     "base_uri": "https://localhost:8080/",
     "height": 192
    },
    "id": "whL1f3AAVU49",
    "outputId": "0eb9a468-8e01-4e93-caf9-1f8c496430c6"
   },
   "outputs": [
    {
     "data": {
      "text/plain": [
       "'Integrated \\nReport 2022\\nIntegrated Report 2022\\nFiscal year ended March 31, 2022\\nTOYOTA MOTOR CORPORATION INTEGRATED REPORTMessage from \\nthe PresidentThe Source of Our \\nValue Creation:\\n What Makes Us ToyotaValue Creation Story: \\nWorking toward the Mobility \\nSociety of the FutureBusiness Foundations \\nfor Value CreationCorporate Data\\n5 Our Founding Spirit   The Toyoda Principles and Toyota Philosophy   Toyota Production System (TPS)   Toyota and Sports\\nThe Toyoda Principles and Toyota Philosophy\\nWith an eye toward “Producing Happiness \\nfor All” - Selections from the Q&A session of \\nToyota’s 1H/2Q financial results briefing\\nIn 1935, five years after the passing of Sakichi Toyoda, the \\nCompany had grown to more than 10,000 employees as the \\nautomotive business ramped up. The Toyoda Principles were \\ncompiled at this time to convey Sakichi’s teachings to all employees \\nand provide guidelines for all aspects of their work. \\n The top management of Toyota that took over from Kiichiro, \\nSakichi’s son, further codified the Toyota Philosophy, encompassing \\nToyota’s values, priorities, and strengths. This philosophy provided \\nthe answer to the fundamental question, “What is Toyota?” as \\na\\xa0touchstone for the entire Group.\\n The automotive industry is experiencing a once-in-a-century transfor -\\nmation. In the same way that Toyota transitioned from loom maker to \\nautomaker, we are now reinventing ourselves as a mobility company.\\n To guide us as we push forward into the future amid an era of \\nuncertainty, we have now created the Toyota Philosophy Cone, \\na\\xa0graphic representation of the Toyota Philosophy presented in \\na\\xa0shape that evokes both the spools of thread used in looms and \\nthe traffic cones used to guide cars. \\nToyota Philosophy Cone\\nToyota’s basic principles \\nToyoda Principles \\nThe Toyoda Principles, or Five \\nMain Principles of Toyoda, \\nhave since been handed \\ndown to every Toyota Group \\ncompany and serve as \\nguidelines for all employees.\\nToyota’s mission since its foundation\\n'"
      ]
     },
     "execution_count": 25,
     "metadata": {},
     "output_type": "execute_result"
    }
   ],
   "source": [
    "chunks[0]"
   ]
  },
  {
   "cell_type": "code",
   "execution_count": 26,
   "metadata": {
    "colab": {
     "base_uri": "https://localhost:8080/",
     "height": 192
    },
    "id": "Cj7uKxwGVcNY",
    "outputId": "6fc20dcc-6ac5-4123-d10c-eda4c93d0f7c"
   },
   "outputs": [
    {
     "data": {
      "text/plain": [
       "'ta Group \\ncompany and serve as \\nguidelines for all employees.\\nToyota’s mission since its foundation\\nProducing Happiness for All\\nBorn into a family of poor farmers, Sakichi Toyoda built the bedrock of today’s Toyota by inventing the Toyoda Automatic Loom by \\nhimself. Abandoning the easy path left by his father, Kiicihro Toyoda took on the challenge of making cars. Many at the time said it \\nwas impossible.\\n Their passion was carried on by those who worked with them, shaping the Toyota we know today. What they truly wanted to make \\nwas a sense of happiness for any customer who used their products, as well as happiness for every person involved in the work \\nrelated to those products. The core of this aspiration was the idea of producing happiness for all. \\n However, during Toyota’s long history, there was a brief time when we turned our focus to numbers and gave less thought to people. \\nPrimarily due to our rapid expansion in the late 20th century, we faced many problems, including quality concerns and trade friction.\\n Let us not forget that there are some things that machines cannot create. Only humans can invest the time and energy to bring life \\nto such things. We strive to stay ahead of the times, endeavoring to be studious and creative for the betterment of lives and society. \\nUsing our technology, we work toward a future of convenience and happiness available to all. This is our mission, producing \\n happiness for all, and the core of what makes us Toyota\\nThe future vision that Toyota aspires to \\nCreating Mobility for All\\nToyota strives to raise the quality and availability of mobility, so that individuals, \\nbusinesses, municipalities, and communities can do more, while achieving a \\nsustainable relationship with our planet. This is our new destination.\\n Motorization has enabled freedom of movement and has brought people and \\nsociety closer. As a result, more people than ever can now experience mobility, \\nincluding the “fun to drive” experience.\\n And yet, challenges'"
      ]
     },
     "execution_count": 26,
     "metadata": {},
     "output_type": "execute_result"
    }
   ],
   "source": [
    "chunks[1]"
   ]
  },
  {
   "cell_type": "markdown",
   "metadata": {
    "id": "0vDIUdw0VuhW"
   },
   "source": [
    "## Embedding"
   ]
  },
  {
   "cell_type": "code",
   "execution_count": 27,
   "metadata": {
    "colab": {
     "base_uri": "https://localhost:8080/"
    },
    "id": "K3lH2qQcVsHa",
    "outputId": "7adfb015-0fd8-46a9-d4f9-12c2f852b867"
   },
   "outputs": [
    {
     "data": {
      "application/vnd.jupyter.widget-view+json": {
       "model_id": "7d7986dd6f4047b285c47003d353e8d5",
       "version_major": 2,
       "version_minor": 0
      },
      "text/plain": [
       "modules.json:   0%|          | 0.00/349 [00:00<?, ?B/s]"
      ]
     },
     "metadata": {},
     "output_type": "display_data"
    },
    {
     "data": {
      "application/vnd.jupyter.widget-view+json": {
       "model_id": "392ddd2ab8ee48c593610ad89f375ddf",
       "version_major": 2,
       "version_minor": 0
      },
      "text/plain": [
       "config_sentence_transformers.json:   0%|          | 0.00/116 [00:00<?, ?B/s]"
      ]
     },
     "metadata": {},
     "output_type": "display_data"
    },
    {
     "data": {
      "application/vnd.jupyter.widget-view+json": {
       "model_id": "13b231e81db143f7a4886986bb14df09",
       "version_major": 2,
       "version_minor": 0
      },
      "text/plain": [
       "README.md:   0%|          | 0.00/10.6k [00:00<?, ?B/s]"
      ]
     },
     "metadata": {},
     "output_type": "display_data"
    },
    {
     "data": {
      "application/vnd.jupyter.widget-view+json": {
       "model_id": "47fda534e8534393b86ca1849c2685b6",
       "version_major": 2,
       "version_minor": 0
      },
      "text/plain": [
       "sentence_bert_config.json:   0%|          | 0.00/53.0 [00:00<?, ?B/s]"
      ]
     },
     "metadata": {},
     "output_type": "display_data"
    },
    {
     "data": {
      "application/vnd.jupyter.widget-view+json": {
       "model_id": "2430052489514a1ab166134d6234a62a",
       "version_major": 2,
       "version_minor": 0
      },
      "text/plain": [
       "config.json:   0%|          | 0.00/571 [00:00<?, ?B/s]"
      ]
     },
     "metadata": {},
     "output_type": "display_data"
    },
    {
     "data": {
      "application/vnd.jupyter.widget-view+json": {
       "model_id": "8d9f15dd6acb47afa92f95ad430ceefe",
       "version_major": 2,
       "version_minor": 0
      },
      "text/plain": [
       "model.safetensors:   0%|          | 0.00/438M [00:00<?, ?B/s]"
      ]
     },
     "metadata": {},
     "output_type": "display_data"
    },
    {
     "data": {
      "application/vnd.jupyter.widget-view+json": {
       "model_id": "2560f47e68914a8e92c2212c575a1efb",
       "version_major": 2,
       "version_minor": 0
      },
      "text/plain": [
       "tokenizer_config.json:   0%|          | 0.00/363 [00:00<?, ?B/s]"
      ]
     },
     "metadata": {},
     "output_type": "display_data"
    },
    {
     "data": {
      "application/vnd.jupyter.widget-view+json": {
       "model_id": "4131a3dd64fd473a9b846d247a4afe27",
       "version_major": 2,
       "version_minor": 0
      },
      "text/plain": [
       "vocab.txt:   0%|          | 0.00/232k [00:00<?, ?B/s]"
      ]
     },
     "metadata": {},
     "output_type": "display_data"
    },
    {
     "data": {
      "application/vnd.jupyter.widget-view+json": {
       "model_id": "2b694ae0fc6e41d588309f5f879bc701",
       "version_major": 2,
       "version_minor": 0
      },
      "text/plain": [
       "tokenizer.json:   0%|          | 0.00/466k [00:00<?, ?B/s]"
      ]
     },
     "metadata": {},
     "output_type": "display_data"
    },
    {
     "data": {
      "application/vnd.jupyter.widget-view+json": {
       "model_id": "8fd6ca472a664f7c9f6d471bac8cb5fe",
       "version_major": 2,
       "version_minor": 0
      },
      "text/plain": [
       "special_tokens_map.json:   0%|          | 0.00/239 [00:00<?, ?B/s]"
      ]
     },
     "metadata": {},
     "output_type": "display_data"
    },
    {
     "data": {
      "application/vnd.jupyter.widget-view+json": {
       "model_id": "8f597769b77d47569afd4560899d1c49",
       "version_major": 2,
       "version_minor": 0
      },
      "text/plain": [
       "1_Pooling/config.json:   0%|          | 0.00/190 [00:00<?, ?B/s]"
      ]
     },
     "metadata": {},
     "output_type": "display_data"
    },
    {
     "data": {
      "text/plain": [
       "(210, 768)"
      ]
     },
     "execution_count": 27,
     "metadata": {},
     "output_type": "execute_result"
    }
   ],
   "source": [
    "embedding_model = SentenceTransformer('sentence-transformers/all-mpnet-base-v2', cache_folder = 'base_models')\n",
    "chunk_embeddings = embedding_model.encode(chunks)\n",
    "chunk_embeddings.shape"
   ]
  },
  {
   "cell_type": "code",
   "execution_count": 28,
   "metadata": {
    "id": "c9No09WvWbGN"
   },
   "outputs": [],
   "source": [
    "collection = chroma_client.create_collection(name=\"rag_llama2-1\")"
   ]
  },
  {
   "cell_type": "code",
   "execution_count": 29,
   "metadata": {
    "id": "Wd7A5UV9Wlej"
   },
   "outputs": [],
   "source": [
    "collection.add(\n",
    "    embeddings = chunk_embeddings,\n",
    "    documents=chunks,\n",
    "    ids= [str(i) for i in range(len(chunks))]\n",
    ")"
   ]
  },
  {
   "cell_type": "markdown",
   "metadata": {
    "id": "BZ_Ad9ZPWz8U"
   },
   "source": [
    "## Retrieval"
   ]
  },
  {
   "cell_type": "code",
   "execution_count": 30,
   "metadata": {
    "id": "3WfZ_E66Wyyu"
   },
   "outputs": [],
   "source": [
    "def retrieve_vector_db(query, n_results=3):\n",
    "  results = collection.query(\n",
    "  query_embeddings = embedding_model.encode(query).tolist(),\n",
    "  n_results=n_results\n",
    "  )\n",
    "  return results['documents']"
   ]
  },
  {
   "cell_type": "code",
   "execution_count": 31,
   "metadata": {
    "id": "9a6QruKBXEWZ"
   },
   "outputs": [],
   "source": [
    "query = \"Who is Toyoda?\"\n",
    "retrieved_results = retrieve_vector_db(query)"
   ]
  },
  {
   "cell_type": "code",
   "execution_count": 32,
   "metadata": {
    "colab": {
     "base_uri": "https://localhost:8080/"
    },
    "id": "pSx4Ii02XSII",
    "outputId": "b0bdd795-b151-4f36-89e8-70d99a76445d"
   },
   "outputs": [
    {
     "data": {
      "text/plain": [
       "['ation \\n worsened further. As the Company’s business \\nresults showed no sign of improvement, \\n labor-management negotiations with the Toyota \\nMotor Co., Ltd. labor union deteriorated into a \\nprotracted dispute. During collective bargaining \\nthat April, the Company made reconstruction \\nproposals centered on job cuts that the labor \\nunion could not accept, and the dispute \\n continued for another month and a half until \\na\\xa0memorandum was finally signed in June. \\n Accepting responsibility for the labor disputes, \\nKiichiro Toyoda resigned as president of the \\nCompany in May 1950. In March 1952, he agreed \\nto make his much-awaited return to the position, \\nbut, before he could do so, he passed away at \\nthe age of 57. Nevertheless, his aspirations were \\nkept alive by his colleagues, who persevered with \\npurely home-grown technologies as other \\nJapanese automakers were forming technology \\nalliances with U.S. and European manufacturers. \\nThese efforts led to the 1955 launch of the \\nToyopet Crown, the first passenger car to be \\ndeveloped and built entirely in Japan, a long-held \\ndream of Kiichiro Toyoda. \\nThe Spirit of Sakichi and Kiichiro Toyoda\\nBorn into a poor family, Sakichi Toyoda was \\ndriven to make others’ work easier, teaching \\nhimself in order to invent automatic looms and \\ngoing on to build Toyota’s foundations. Not \\ncontent to simply follow the easy path set by his \\nfather, Kiicihro Toyoda took on the challenge of \\ndomestic car-making, which many at the time \\nsaid was impossible, navigating tremendous \\nsocial changes as he built the Company and the \\nfoundations of Japan’s automotive industry. The \\nspirit they embodied—of striving to stay ahead of \\nthe times and endeavoring to be studious and \\ncreative for the betterment of lives and society—\\nlives on in Toyota today. It is the core of what \\nmakes us Toyota.\\nSakichi’s first invention: \\nThe Toyoda wooden \\nhand loom\\n(photo provided by the \\nToyota Commemorative \\nMuseum of Industry  \\nand Technology)\\nType G  \\nautomatic loom',\n",
       " 'ive \\nMain Principles of Toyoda, \\nhave since been handed \\ndown to every Toyota Group \\ncompany and serve as \\nguidelines for all employees.\\nToyota’s mission since its foundation\\nProducing Happiness for All\\nBorn into a family of poor farmers, Sakichi Toyoda built the bedrock of today’s Toyota by inventing the Toyoda Automatic Loom by \\nhimself. Abandoning the easy path left by his father, Kiicihro Toyoda took on the challenge of making cars. Many at the time said it \\nwas impossible.\\n Their passion was carried on by those who worked with them, shaping the Toyota we know today. What they truly wanted to make \\nwas a sense of happiness for any customer who used their products, as well as happiness for every person involved in the work \\nrelated to those products. The core of this aspiration was the idea of producing happiness for all. \\n However, during Toyota’s long history, there was a brief time when we turned our focus to numbers and gave less thought to people. \\nPrimarily due to our rapid expansion in the late 20th century, we faced many problems, including quality concerns and trade friction.\\n Let us not forget that there are some things that machines cannot create. Only humans can invest the time and energy to bring life \\nto such things. We strive to stay ahead of the times, endeavoring to be studious and creative for the betterment of lives and society. \\nUsing our technology, we work toward a future of convenience and happiness available to all. This is our mission, producing \\n happiness for all, and the core of what makes us Toyota\\nThe future vision that Toyota aspires to \\nCreating Mobility for All\\nToyota strives to raise the quality and availability of mobility, so that individuals, \\nbusinesses, municipalities, and communities can do more, while achieving a \\nsustainable relationship with our planet. This is our new destination.\\n Motorization has enabled freedom of movement and has brought people and \\nsociety closer. As a result, more people than ever can now experien',\n",
       " 'Toyoda Model AA in 1936. \\nLooking back on our history of car marking, \\nI see two key themes.\\nThe first is “sports cars.”\\nThe 1960s were a key era for Toyota’s sports \\ncars. This decade saw the birth of many \\nsports cars that would eventually achieve \\nlegendary status, such as the Publica Sports, \\nSports 800, and 2000GT. Then, in the 1980s, \\nToyota launched the Supra, MR2, Celica, and \\nLevin/Trueno. In this way, Toyota has created \\nsports cars that bring together the most cut-\\nting-edge technological prowess of the era \\nevery two decades.Why is that? I think it is because Toyota \\ntreats sports car development as the front \\nline for developing the skills and knowledge \\nthat will be passed down as well as for \\nhuman resource development. For Toyota, \\nsports car development has been like a rite \\nof renewal and rebirth carried out every  \\n20 years.\\nFollowing this cycle, the next generation of \\nToyota sports cars should have hit the scene \\nin the 2000s. They did not.\\nAround that time, Toyota was growing its vehi-\\ncle sales, mainly outside Japan, and pursuing \\nscale expansion. Amid that push, the role of \\nits old renewal rite was forgotten, and sports \\ncars disappeared from Toyota’s vehicle lineup.\\nI was not the only one who sensed how \\ndangerous this was. Our test drivers, in \\nfact, felt the danger more keenly than I did. \\nI think that feeling was part of why Hiromu \\nNaruse, then Toyota’s chief test driver, told \\nme, very frankly, that he didn’t want to be preached to about cars by someone who \\ndidn’t know anything about them. But, he \\nsaid, if I was interested, he would teach me \\nto drive. That was the start of my journey, \\nunder the new nickname Morizo, to \\nbecoming a master driver.\\nFrom there, though a decade late, Toyota \\nwent on to develop the LFA in the 2010s, \\nrecapturing the “secret sauce,” that flavor \\nunique to Toyota and Lexus cars.\\nWe went on to revive the 86 and the Supra\\nas well, but all of these were made in collabo-\\nration with outside partners. We still w']"
      ]
     },
     "execution_count": 32,
     "metadata": {},
     "output_type": "execute_result"
    }
   ],
   "source": [
    "retrieved_results[0]"
   ]
  },
  {
   "cell_type": "code",
   "execution_count": 33,
   "metadata": {
    "colab": {
     "base_uri": "https://localhost:8080/"
    },
    "id": "IoTU-Rw7Xd1s",
    "outputId": "9cea4e57-d7e6-487b-92b4-ae46d7d31231"
   },
   "outputs": [
    {
     "name": "stdout",
     "output_type": "stream",
     "text": [
      "ation \n",
      " worsened further. As the Company’s business \n",
      "results showed no sign of improvement, \n",
      " labor-management negotiations with the Toyota \n",
      "Motor Co., Ltd. labor union deteriorated into a \n",
      "protracted dispute. During collective bargaining \n",
      "that April, the Company made reconstruction \n",
      "proposals centered on job cuts that the labor \n",
      "union could not accept, and the dispute \n",
      " continued for another month and a half until \n",
      "a memorandum was finally signed in June. \n",
      " Accepting responsibility for the labor disputes, \n",
      "Kiichiro Toyoda resigned as president of the \n",
      "Company in May 1950. In March 1952, he agreed \n",
      "to make his much-awaited return to the position, \n",
      "but, before he could do so, he passed away at \n",
      "the age of 57. Nevertheless, his aspirations were \n",
      "kept alive by his colleagues, who persevered with \n",
      "purely home-grown technologies as other \n",
      "Japanese automakers were forming technology \n",
      "alliances with U.S. and European manufacturers. \n",
      "These efforts led to the 1955 launch of the \n",
      "Toyopet Crown, the first passenger car to be \n",
      "developed and built entirely in Japan, a long-held \n",
      "dream of Kiichiro Toyoda. \n",
      "The Spirit of Sakichi and Kiichiro Toyoda\n",
      "Born into a poor family, Sakichi Toyoda was \n",
      "driven to make others’ work easier, teaching \n",
      "himself in order to invent automatic looms and \n",
      "going on to build Toyota’s foundations. Not \n",
      "content to simply follow the easy path set by his \n",
      "father, Kiicihro Toyoda took on the challenge of \n",
      "domestic car-making, which many at the time \n",
      "said was impossible, navigating tremendous \n",
      "social changes as he built the Company and the \n",
      "foundations of Japan’s automotive industry. The \n",
      "spirit they embodied—of striving to stay ahead of \n",
      "the times and endeavoring to be studious and \n",
      "creative for the betterment of lives and society—\n",
      "lives on in Toyota today. It is the core of what \n",
      "makes us Toyota.\n",
      "Sakichi’s first invention: \n",
      "The Toyoda wooden \n",
      "hand loom\n",
      "(photo provided by the \n",
      "Toyota Commemorative \n",
      "Museum of Industry  \n",
      "and Technology)\n",
      "Type G  \n",
      "automatic loom\n",
      "\n",
      "ive \n",
      "Main Principles of Toyoda, \n",
      "have since been handed \n",
      "down to every Toyota Group \n",
      "company and serve as \n",
      "guidelines for all employees.\n",
      "Toyota’s mission since its foundation\n",
      "Producing Happiness for All\n",
      "Born into a family of poor farmers, Sakichi Toyoda built the bedrock of today’s Toyota by inventing the Toyoda Automatic Loom by \n",
      "himself. Abandoning the easy path left by his father, Kiicihro Toyoda took on the challenge of making cars. Many at the time said it \n",
      "was impossible.\n",
      " Their passion was carried on by those who worked with them, shaping the Toyota we know today. What they truly wanted to make \n",
      "was a sense of happiness for any customer who used their products, as well as happiness for every person involved in the work \n",
      "related to those products. The core of this aspiration was the idea of producing happiness for all. \n",
      " However, during Toyota’s long history, there was a brief time when we turned our focus to numbers and gave less thought to people. \n",
      "Primarily due to our rapid expansion in the late 20th century, we faced many problems, including quality concerns and trade friction.\n",
      " Let us not forget that there are some things that machines cannot create. Only humans can invest the time and energy to bring life \n",
      "to such things. We strive to stay ahead of the times, endeavoring to be studious and creative for the betterment of lives and society. \n",
      "Using our technology, we work toward a future of convenience and happiness available to all. This is our mission, producing \n",
      " happiness for all, and the core of what makes us Toyota\n",
      "The future vision that Toyota aspires to \n",
      "Creating Mobility for All\n",
      "Toyota strives to raise the quality and availability of mobility, so that individuals, \n",
      "businesses, municipalities, and communities can do more, while achieving a \n",
      "sustainable relationship with our planet. This is our new destination.\n",
      " Motorization has enabled freedom of movement and has brought people and \n",
      "society closer. As a result, more people than ever can now experien\n",
      "\n",
      "Toyoda Model AA in 1936. \n",
      "Looking back on our history of car marking, \n",
      "I see two key themes.\n",
      "The first is “sports cars.”\n",
      "The 1960s were a key era for Toyota’s sports \n",
      "cars. This decade saw the birth of many \n",
      "sports cars that would eventually achieve \n",
      "legendary status, such as the Publica Sports, \n",
      "Sports 800, and 2000GT. Then, in the 1980s, \n",
      "Toyota launched the Supra, MR2, Celica, and \n",
      "Levin/Trueno. In this way, Toyota has created \n",
      "sports cars that bring together the most cut-\n",
      "ting-edge technological prowess of the era \n",
      "every two decades.Why is that? I think it is because Toyota \n",
      "treats sports car development as the front \n",
      "line for developing the skills and knowledge \n",
      "that will be passed down as well as for \n",
      "human resource development. For Toyota, \n",
      "sports car development has been like a rite \n",
      "of renewal and rebirth carried out every  \n",
      "20 years.\n",
      "Following this cycle, the next generation of \n",
      "Toyota sports cars should have hit the scene \n",
      "in the 2000s. They did not.\n",
      "Around that time, Toyota was growing its vehi-\n",
      "cle sales, mainly outside Japan, and pursuing \n",
      "scale expansion. Amid that push, the role of \n",
      "its old renewal rite was forgotten, and sports \n",
      "cars disappeared from Toyota’s vehicle lineup.\n",
      "I was not the only one who sensed how \n",
      "dangerous this was. Our test drivers, in \n",
      "fact, felt the danger more keenly than I did. \n",
      "I think that feeling was part of why Hiromu \n",
      "Naruse, then Toyota’s chief test driver, told \n",
      "me, very frankly, that he didn’t want to be preached to about cars by someone who \n",
      "didn’t know anything about them. But, he \n",
      "said, if I was interested, he would teach me \n",
      "to drive. That was the start of my journey, \n",
      "under the new nickname Morizo, to \n",
      "becoming a master driver.\n",
      "From there, though a decade late, Toyota \n",
      "went on to develop the LFA in the 2010s, \n",
      "recapturing the “secret sauce,” that flavor \n",
      "unique to Toyota and Lexus cars.\n",
      "We went on to revive the 86 and the Supra\n",
      "as well, but all of these were made in collabo-\n",
      "ration with outside partners. We still w\n"
     ]
    }
   ],
   "source": [
    "context = '\\n\\n'.join(retrieved_results[0])\n",
    "print(context)"
   ]
  },
  {
   "cell_type": "markdown",
   "metadata": {
    "id": "-HWjwM_oXtkk"
   },
   "source": [
    "## Augmented Generation"
   ]
  },
  {
   "cell_type": "code",
   "execution_count": 34,
   "metadata": {
    "id": "ryvGAm4dXr5d"
   },
   "outputs": [],
   "source": [
    "prompt = f'''\n",
    "Give answer for the question strictly based on the context provided.\n",
    "\n",
    "Question: {query}\n",
    "\n",
    "Context : {context}\n",
    "'''"
   ]
  },
  {
   "cell_type": "code",
   "execution_count": 35,
   "metadata": {
    "colab": {
     "base_uri": "https://localhost:8080/",
     "height": 192
    },
    "id": "_chMTyfnX-F1",
    "outputId": "57b7da07-c8d2-4b42-a4a3-b8a9d0731af6"
   },
   "outputs": [
    {
     "data": {
      "text/plain": [
       "'\\nGive answer for the question strictly based on the context provided.\\n\\nQuestion: Who is Toyoda?\\n\\nContext : ation \\n worsened further. As the Company’s business \\nresults showed no sign of improvement, \\n labor-management negotiations with the Toyota \\nMotor Co., Ltd. labor union deteriorated into a \\nprotracted dispute. During collective bargaining \\nthat April, the Company made reconstruction \\nproposals centered on job cuts that the labor \\nunion could not accept, and the dispute \\n continued for another month and a half until \\na\\xa0memorandum was finally signed in June. \\n Accepting responsibility for the labor disputes, \\nKiichiro Toyoda resigned as president of the \\nCompany in May 1950. In March 1952, he agreed \\nto make his much-awaited return to the position, \\nbut, before he could do so, he passed away at \\nthe age of 57. Nevertheless, his aspirations were \\nkept alive by his colleagues, who persevered with \\npurely home-grown technologies as other \\nJapanese automakers were forming technology \\nalliances with U.S. and European manufacturers. \\nThese efforts led to the 1955 launch of the \\nToyopet Crown, the first passenger car to be \\ndeveloped and built entirely in Japan, a long-held \\ndream of Kiichiro Toyoda. \\nThe Spirit of Sakichi and Kiichiro Toyoda\\nBorn into a poor family, Sakichi Toyoda was \\ndriven to make others’ work easier, teaching \\nhimself in order to invent automatic looms and \\ngoing on to build Toyota’s foundations. Not \\ncontent to simply follow the easy path set by his \\nfather, Kiicihro Toyoda took on the challenge of \\ndomestic car-making, which many at the time \\nsaid was impossible, navigating tremendous \\nsocial changes as he built the Company and the \\nfoundations of Japan’s automotive industry. The \\nspirit they embodied—of striving to stay ahead of \\nthe times and endeavoring to be studious and \\ncreative for the betterment of lives and society—\\nlives on in Toyota today. It is the core of what \\nmakes us Toyota.\\nSakichi’s first invention: \\nThe Toyoda wooden \\nhand loom\\n(photo provided by the \\nToyota Commemorative \\nMuseum of Industry  \\nand Technology)\\nType G  \\nautomatic loom\\n\\nive \\nMain Principles of Toyoda, \\nhave since been handed \\ndown to every Toyota Group \\ncompany and serve as \\nguidelines for all employees.\\nToyota’s mission since its foundation\\nProducing Happiness for All\\nBorn into a family of poor farmers, Sakichi Toyoda built the bedrock of today’s Toyota by inventing the Toyoda Automatic Loom by \\nhimself. Abandoning the easy path left by his father, Kiicihro Toyoda took on the challenge of making cars. Many at the time said it \\nwas impossible.\\n Their passion was carried on by those who worked with them, shaping the Toyota we know today. What they truly wanted to make \\nwas a sense of happiness for any customer who used their products, as well as happiness for every person involved in the work \\nrelated to those products. The core of this aspiration was the idea of producing happiness for all. \\n However, during Toyota’s long history, there was a brief time when we turned our focus to numbers and gave less thought to people. \\nPrimarily due to our rapid expansion in the late 20th century, we faced many problems, including quality concerns and trade friction.\\n Let us not forget that there are some things that machines cannot create. Only humans can invest the time and energy to bring life \\nto such things. We strive to stay ahead of the times, endeavoring to be studious and creative for the betterment of lives and society. \\nUsing our technology, we work toward a future of convenience and happiness available to all. This is our mission, producing \\n happiness for all, and the core of what makes us Toyota\\nThe future vision that Toyota aspires to \\nCreating Mobility for All\\nToyota strives to raise the quality and availability of mobility, so that individuals, \\nbusinesses, municipalities, and communities can do more, while achieving a \\nsustainable relationship with our planet. This is our new destination.\\n Motorization has enabled freedom of movement and has brought people and \\nsociety closer. As a result, more people than ever can now experien\\n\\nToyoda Model AA in 1936. \\nLooking back on our history of car marking, \\nI see two key themes.\\nThe first is “sports cars.”\\nThe 1960s were a key era for Toyota’s sports \\ncars. This decade saw the birth of many \\nsports cars that would eventually achieve \\nlegendary status, such as the Publica Sports, \\nSports 800, and 2000GT. Then, in the 1980s, \\nToyota launched the Supra, MR2, Celica, and \\nLevin/Trueno. In this way, Toyota has created \\nsports cars that bring together the most cut-\\nting-edge technological prowess of the era \\nevery two decades.Why is that? I think it is because Toyota \\ntreats sports car development as the front \\nline for developing the skills and knowledge \\nthat will be passed down as well as for \\nhuman resource development. For Toyota, \\nsports car development has been like a rite \\nof renewal and rebirth carried out every  \\n20 years.\\nFollowing this cycle, the next generation of \\nToyota sports cars should have hit the scene \\nin the 2000s. They did not.\\nAround that time, Toyota was growing its vehi-\\ncle sales, mainly outside Japan, and pursuing \\nscale expansion. Amid that push, the role of \\nits old renewal rite was forgotten, and sports \\ncars disappeared from Toyota’s vehicle lineup.\\nI was not the only one who sensed how \\ndangerous this was. Our test drivers, in \\nfact, felt the danger more keenly than I did. \\nI think that feeling was part of why Hiromu \\nNaruse, then Toyota’s chief test driver, told \\nme, very frankly, that he didn’t want to be preached to about cars by someone who \\ndidn’t know anything about them. But, he \\nsaid, if I was interested, he would teach me \\nto drive. That was the start of my journey, \\nunder the new nickname Morizo, to \\nbecoming a master driver.\\nFrom there, though a decade late, Toyota \\nwent on to develop the LFA in the 2010s, \\nrecapturing the “secret sauce,” that flavor \\nunique to Toyota and Lexus cars.\\nWe went on to revive the 86 and the Supra\\nas well, but all of these were made in collabo-\\nration with outside partners. We still w\\n'"
      ]
     },
     "execution_count": 35,
     "metadata": {},
     "output_type": "execute_result"
    }
   ],
   "source": [
    "prompt"
   ]
  },
  {
   "cell_type": "code",
   "execution_count": 41,
   "metadata": {
    "colab": {
     "base_uri": "https://localhost:8080/"
    },
    "id": "Aj0CxjnnYIPc",
    "outputId": "1363198c-a245-471f-d2d8-01da2c9b3e84"
   },
   "outputs": [
    {
     "name": "stdout",
     "output_type": "stream",
     "text": [
      "In the provided context, Toyoda refers to the family name of the founders of Toyota Motor Co., Ltd. Specifically, Kiichiro Toyoda is mentioned as the president of the company who resigned due to labor disputes and Sakichi Toyoda is mentioned as the father of Kiichiro Toyoda and the inventor of the Toyoda automatic loom. The Spirit of Sakichi and Kiichiro Toyoda is a guiding philosophy for Toyota Group companies. The surname Toyoda is written with the characters 豊田, which literally mean \"fertile rice paddies.\"\n"
     ]
    }
   ],
   "source": [
    "print(get_completion_from_groq(prompt))\n",
    "#print(get_llama2_chat_response(prompt, max_new_tokens=500))"
   ]
  },
  {
   "cell_type": "markdown",
   "metadata": {
    "id": "qN3uDAE-Yccb"
   },
   "source": [
    "## RAG"
   ]
  },
  {
   "cell_type": "code",
   "execution_count": 45,
   "metadata": {
    "colab": {
     "base_uri": "https://localhost:8080/"
    },
    "id": "dJHaLPnFYe2u",
    "outputId": "0d6d1aab-a8d9-4438-b56d-b2e5dd12966c"
   },
   "outputs": [
    {
     "name": "stdout",
     "output_type": "stream",
     "text": [
      "The Toyoda Principles, also known as the Five Main Principles of Toyoda, are:\n",
      "\n",
      "1. We unite as one team regardless of rank in order to contribute to our people, society, and communities.\n",
      "2. We develop and learn from outstanding ideas and cutting-edge technologies across the world.\n",
      "3. We focus on work that is value-adding, with integrity and practicality, by avoiding superficial matters.\n",
      "4. We build a sense of community and promote the personal growth of our people while valuing mutual trust and equal partnership with our stakeholders.\n",
      "5. We show humility for the support of our business by our valued stakeholders and society while also respecting the diversity of the world.\n"
     ]
    }
   ],
   "source": [
    "# 1. Retrieve Vector DB\n",
    "query = \"What is Toyoda's Principles?\"\n",
    "\n",
    "retrieved_results = retrieve_vector_db(query, n_results=5)\n",
    "context = '\\n\\n'.join(retrieved_results[0])\n",
    "\n",
    "# 2. Augment Context\n",
    "prompt = f'''\n",
    "Give answer for the question strictly based on the context provided. Keep answers short and to the point.\n",
    "\n",
    "Question: {query}\n",
    "\n",
    "Context : {context}\n",
    "'''\n",
    "\n",
    "# 3. Pass to LLM for Generation\n",
    "print(get_completion_from_groq(prompt))"
   ]
  },
  {
   "cell_type": "code",
   "execution_count": 47,
   "metadata": {
    "colab": {
     "base_uri": "https://localhost:8080/"
    },
    "id": "lJPLxEh5bVhL",
    "outputId": "b5648f93-a157-481f-e1a9-274fb8afe551"
   },
   "outputs": [
    {
     "name": "stdout",
     "output_type": "stream",
     "text": [
      "The answer to the question \"What are units sales in Europe for Corolla in 2022?\" is 186,000 units.\n"
     ]
    }
   ],
   "source": [
    "# 1. Retrieve Vector DB\n",
    "query = \"What are units sales in Europe for Corolla in 2022?\"\n",
    "\n",
    "retrieved_results = retrieve_vector_db(query, n_results=5)\n",
    "context = '\\n\\n'.join(retrieved_results[0])\n",
    "\n",
    "# 2. Augment Context\n",
    "prompt = f'''\n",
    "Give answer for the question strictly based on the context provided. Keep answers short and to the point.\n",
    "\n",
    "Question: {query}\n",
    "\n",
    "Context : {context}\n",
    "'''\n",
    "\n",
    "# 3. Pass to LLM for Generation\n",
    "print(get_completion_from_groq(prompt))"
   ]
  },
  {
   "cell_type": "code",
   "execution_count": 53,
   "metadata": {},
   "outputs": [
    {
     "name": "stdout",
     "output_type": "stream",
     "text": [
      "The unit sales for Corolla in Europe for 2022 were 186 thousand units.\n"
     ]
    }
   ],
   "source": [
    "## OpenAI \n",
    "print(get_completion_from_messages(prompt))"
   ]
  }
 ],
 "metadata": {
  "accelerator": "GPU",
  "colab": {
   "gpuType": "A100",
   "provenance": []
  },
  "kernelspec": {
   "display_name": "Python 3 (ipykernel)",
   "language": "python",
   "name": "python3"
  },
  "language_info": {
   "codemirror_mode": {
    "name": "ipython",
    "version": 3
   },
   "file_extension": ".py",
   "mimetype": "text/x-python",
   "name": "python",
   "nbconvert_exporter": "python",
   "pygments_lexer": "ipython3",
   "version": "3.10.14"
  },
  "widgets": {
   "application/vnd.jupyter.widget-state+json": {
    "00574b5e71b049ec86d42bc066a0fd26": {
     "model_module": "@jupyter-widgets/base",
     "model_module_version": "1.2.0",
     "model_name": "LayoutModel",
     "state": {
      "_model_module": "@jupyter-widgets/base",
      "_model_module_version": "1.2.0",
      "_model_name": "LayoutModel",
      "_view_count": null,
      "_view_module": "@jupyter-widgets/base",
      "_view_module_version": "1.2.0",
      "_view_name": "LayoutView",
      "align_content": null,
      "align_items": null,
      "align_self": null,
      "border": null,
      "bottom": null,
      "display": null,
      "flex": null,
      "flex_flow": null,
      "grid_area": null,
      "grid_auto_columns": null,
      "grid_auto_flow": null,
      "grid_auto_rows": null,
      "grid_column": null,
      "grid_gap": null,
      "grid_row": null,
      "grid_template_areas": null,
      "grid_template_columns": null,
      "grid_template_rows": null,
      "height": null,
      "justify_content": null,
      "justify_items": null,
      "left": null,
      "margin": null,
      "max_height": null,
      "max_width": null,
      "min_height": null,
      "min_width": null,
      "object_fit": null,
      "object_position": null,
      "order": null,
      "overflow": null,
      "overflow_x": null,
      "overflow_y": null,
      "padding": null,
      "right": null,
      "top": null,
      "visibility": null,
      "width": null
     }
    },
    "07dc7353567141c4b20c0bc4758ba369": {
     "model_module": "@jupyter-widgets/controls",
     "model_module_version": "1.5.0",
     "model_name": "HBoxModel",
     "state": {
      "_dom_classes": [],
      "_model_module": "@jupyter-widgets/controls",
      "_model_module_version": "1.5.0",
      "_model_name": "HBoxModel",
      "_view_count": null,
      "_view_module": "@jupyter-widgets/controls",
      "_view_module_version": "1.5.0",
      "_view_name": "HBoxView",
      "box_style": "",
      "children": [
       "IPY_MODEL_869ef8d37bf544988f5011aed9aef058",
       "IPY_MODEL_81e13eb1dd2a49cda5473a85b73275b7",
       "IPY_MODEL_67419caa42ba47b39d3435ef0e0126de"
      ],
      "layout": "IPY_MODEL_a4750596f5314ff79cb35a625e5ce3fc"
     }
    },
    "09c50ed9ae414fe08cc2934bc0b313d3": {
     "model_module": "@jupyter-widgets/controls",
     "model_module_version": "1.5.0",
     "model_name": "HTMLModel",
     "state": {
      "_dom_classes": [],
      "_model_module": "@jupyter-widgets/controls",
      "_model_module_version": "1.5.0",
      "_model_name": "HTMLModel",
      "_view_count": null,
      "_view_module": "@jupyter-widgets/controls",
      "_view_module_version": "1.5.0",
      "_view_name": "HTMLView",
      "description": "",
      "description_tooltip": null,
      "layout": "IPY_MODEL_696e56378d0e40afbbaeba0381f57ecd",
      "placeholder": "​",
      "style": "IPY_MODEL_d3ae5588592d434da95d0a1f45170fe3",
      "value": "1_Pooling/config.json: 100%"
     }
    },
    "0bf97bd7951b4239a08d433567199cf9": {
     "model_module": "@jupyter-widgets/base",
     "model_module_version": "1.2.0",
     "model_name": "LayoutModel",
     "state": {
      "_model_module": "@jupyter-widgets/base",
      "_model_module_version": "1.2.0",
      "_model_name": "LayoutModel",
      "_view_count": null,
      "_view_module": "@jupyter-widgets/base",
      "_view_module_version": "1.2.0",
      "_view_name": "LayoutView",
      "align_content": null,
      "align_items": null,
      "align_self": null,
      "border": null,
      "bottom": null,
      "display": null,
      "flex": null,
      "flex_flow": null,
      "grid_area": null,
      "grid_auto_columns": null,
      "grid_auto_flow": null,
      "grid_auto_rows": null,
      "grid_column": null,
      "grid_gap": null,
      "grid_row": null,
      "grid_template_areas": null,
      "grid_template_columns": null,
      "grid_template_rows": null,
      "height": null,
      "justify_content": null,
      "justify_items": null,
      "left": null,
      "margin": null,
      "max_height": null,
      "max_width": null,
      "min_height": null,
      "min_width": null,
      "object_fit": null,
      "object_position": null,
      "order": null,
      "overflow": null,
      "overflow_x": null,
      "overflow_y": null,
      "padding": null,
      "right": null,
      "top": null,
      "visibility": null,
      "width": null
     }
    },
    "0d80009c2a704d149f36e04115d5cd28": {
     "model_module": "@jupyter-widgets/controls",
     "model_module_version": "1.5.0",
     "model_name": "DescriptionStyleModel",
     "state": {
      "_model_module": "@jupyter-widgets/controls",
      "_model_module_version": "1.5.0",
      "_model_name": "DescriptionStyleModel",
      "_view_count": null,
      "_view_module": "@jupyter-widgets/base",
      "_view_module_version": "1.2.0",
      "_view_name": "StyleView",
      "description_width": ""
     }
    },
    "11b997b7304e453e8d0f9adaa06e0861": {
     "model_module": "@jupyter-widgets/controls",
     "model_module_version": "1.5.0",
     "model_name": "DescriptionStyleModel",
     "state": {
      "_model_module": "@jupyter-widgets/controls",
      "_model_module_version": "1.5.0",
      "_model_name": "DescriptionStyleModel",
      "_view_count": null,
      "_view_module": "@jupyter-widgets/base",
      "_view_module_version": "1.2.0",
      "_view_name": "StyleView",
      "description_width": ""
     }
    },
    "121d87d7fd1041568a5309de4eb83108": {
     "model_module": "@jupyter-widgets/base",
     "model_module_version": "1.2.0",
     "model_name": "LayoutModel",
     "state": {
      "_model_module": "@jupyter-widgets/base",
      "_model_module_version": "1.2.0",
      "_model_name": "LayoutModel",
      "_view_count": null,
      "_view_module": "@jupyter-widgets/base",
      "_view_module_version": "1.2.0",
      "_view_name": "LayoutView",
      "align_content": null,
      "align_items": null,
      "align_self": null,
      "border": null,
      "bottom": null,
      "display": null,
      "flex": null,
      "flex_flow": null,
      "grid_area": null,
      "grid_auto_columns": null,
      "grid_auto_flow": null,
      "grid_auto_rows": null,
      "grid_column": null,
      "grid_gap": null,
      "grid_row": null,
      "grid_template_areas": null,
      "grid_template_columns": null,
      "grid_template_rows": null,
      "height": null,
      "justify_content": null,
      "justify_items": null,
      "left": null,
      "margin": null,
      "max_height": null,
      "max_width": null,
      "min_height": null,
      "min_width": null,
      "object_fit": null,
      "object_position": null,
      "order": null,
      "overflow": null,
      "overflow_x": null,
      "overflow_y": null,
      "padding": null,
      "right": null,
      "top": null,
      "visibility": null,
      "width": null
     }
    },
    "122414ffc3b840a093404b6f43daaf3a": {
     "model_module": "@jupyter-widgets/controls",
     "model_module_version": "1.5.0",
     "model_name": "HBoxModel",
     "state": {
      "_dom_classes": [],
      "_model_module": "@jupyter-widgets/controls",
      "_model_module_version": "1.5.0",
      "_model_name": "HBoxModel",
      "_view_count": null,
      "_view_module": "@jupyter-widgets/controls",
      "_view_module_version": "1.5.0",
      "_view_name": "HBoxView",
      "box_style": "",
      "children": [
       "IPY_MODEL_dfdfebbeaba5409696c3a3a586ac1a6e",
       "IPY_MODEL_567e8529c72c453f95df1183ca841525",
       "IPY_MODEL_d477f3957a8e4891be61be085b978f80"
      ],
      "layout": "IPY_MODEL_de9290d044e44a7d9d171e1cb0a41ad5"
     }
    },
    "128ae31df2714d72b87e72be46bfd937": {
     "model_module": "@jupyter-widgets/controls",
     "model_module_version": "1.5.0",
     "model_name": "DescriptionStyleModel",
     "state": {
      "_model_module": "@jupyter-widgets/controls",
      "_model_module_version": "1.5.0",
      "_model_name": "DescriptionStyleModel",
      "_view_count": null,
      "_view_module": "@jupyter-widgets/base",
      "_view_module_version": "1.2.0",
      "_view_name": "StyleView",
      "description_width": ""
     }
    },
    "13535cd36389439c96be8d5ddc1758d6": {
     "model_module": "@jupyter-widgets/controls",
     "model_module_version": "1.5.0",
     "model_name": "HTMLModel",
     "state": {
      "_dom_classes": [],
      "_model_module": "@jupyter-widgets/controls",
      "_model_module_version": "1.5.0",
      "_model_name": "HTMLModel",
      "_view_count": null,
      "_view_module": "@jupyter-widgets/controls",
      "_view_module_version": "1.5.0",
      "_view_name": "HTMLView",
      "description": "",
      "description_tooltip": null,
      "layout": "IPY_MODEL_dee179ef9b1c4bdcb4631a9e034553d3",
      "placeholder": "​",
      "style": "IPY_MODEL_74cb81dfe886413f977993b0eab3402d",
      "value": " 122/122 [00:00&lt;00:00, 10.8kB/s]"
     }
    },
    "139754d46ecf4820afb8fdbf6561ccb0": {
     "model_module": "@jupyter-widgets/controls",
     "model_module_version": "1.5.0",
     "model_name": "DescriptionStyleModel",
     "state": {
      "_model_module": "@jupyter-widgets/controls",
      "_model_module_version": "1.5.0",
      "_model_name": "DescriptionStyleModel",
      "_view_count": null,
      "_view_module": "@jupyter-widgets/base",
      "_view_module_version": "1.2.0",
      "_view_name": "StyleView",
      "description_width": ""
     }
    },
    "15491457c1ab4fbdae4975ed852cd5ab": {
     "model_module": "@jupyter-widgets/base",
     "model_module_version": "1.2.0",
     "model_name": "LayoutModel",
     "state": {
      "_model_module": "@jupyter-widgets/base",
      "_model_module_version": "1.2.0",
      "_model_name": "LayoutModel",
      "_view_count": null,
      "_view_module": "@jupyter-widgets/base",
      "_view_module_version": "1.2.0",
      "_view_name": "LayoutView",
      "align_content": null,
      "align_items": null,
      "align_self": null,
      "border": null,
      "bottom": null,
      "display": null,
      "flex": null,
      "flex_flow": null,
      "grid_area": null,
      "grid_auto_columns": null,
      "grid_auto_flow": null,
      "grid_auto_rows": null,
      "grid_column": null,
      "grid_gap": null,
      "grid_row": null,
      "grid_template_areas": null,
      "grid_template_columns": null,
      "grid_template_rows": null,
      "height": null,
      "justify_content": null,
      "justify_items": null,
      "left": null,
      "margin": null,
      "max_height": null,
      "max_width": null,
      "min_height": null,
      "min_width": null,
      "object_fit": null,
      "object_position": null,
      "order": null,
      "overflow": null,
      "overflow_x": null,
      "overflow_y": null,
      "padding": null,
      "right": null,
      "top": null,
      "visibility": null,
      "width": null
     }
    },
    "16955c02ab1f4845860ee7ba91a26c5c": {
     "model_module": "@jupyter-widgets/base",
     "model_module_version": "1.2.0",
     "model_name": "LayoutModel",
     "state": {
      "_model_module": "@jupyter-widgets/base",
      "_model_module_version": "1.2.0",
      "_model_name": "LayoutModel",
      "_view_count": null,
      "_view_module": "@jupyter-widgets/base",
      "_view_module_version": "1.2.0",
      "_view_name": "LayoutView",
      "align_content": null,
      "align_items": null,
      "align_self": null,
      "border": null,
      "bottom": null,
      "display": null,
      "flex": null,
      "flex_flow": null,
      "grid_area": null,
      "grid_auto_columns": null,
      "grid_auto_flow": null,
      "grid_auto_rows": null,
      "grid_column": null,
      "grid_gap": null,
      "grid_row": null,
      "grid_template_areas": null,
      "grid_template_columns": null,
      "grid_template_rows": null,
      "height": null,
      "justify_content": null,
      "justify_items": null,
      "left": null,
      "margin": null,
      "max_height": null,
      "max_width": null,
      "min_height": null,
      "min_width": null,
      "object_fit": null,
      "object_position": null,
      "order": null,
      "overflow": null,
      "overflow_x": null,
      "overflow_y": null,
      "padding": null,
      "right": null,
      "top": null,
      "visibility": null,
      "width": null
     }
    },
    "186a14ea9c8f40dc959592e79b54d4de": {
     "model_module": "@jupyter-widgets/controls",
     "model_module_version": "1.5.0",
     "model_name": "HTMLModel",
     "state": {
      "_dom_classes": [],
      "_model_module": "@jupyter-widgets/controls",
      "_model_module_version": "1.5.0",
      "_model_name": "HTMLModel",
      "_view_count": null,
      "_view_module": "@jupyter-widgets/controls",
      "_view_module_version": "1.5.0",
      "_view_name": "HTMLView",
      "description": "",
      "description_tooltip": null,
      "layout": "IPY_MODEL_bfa2c8a2179c415ca383fd28882dcaf3",
      "placeholder": "​",
      "style": "IPY_MODEL_0d80009c2a704d149f36e04115d5cd28",
      "value": " 190/190 [00:00&lt;00:00, 15.9kB/s]"
     }
    },
    "1a10fcf3fa224fd692bb06d9579e2667": {
     "model_module": "@jupyter-widgets/controls",
     "model_module_version": "1.5.0",
     "model_name": "DescriptionStyleModel",
     "state": {
      "_model_module": "@jupyter-widgets/controls",
      "_model_module_version": "1.5.0",
      "_model_name": "DescriptionStyleModel",
      "_view_count": null,
      "_view_module": "@jupyter-widgets/base",
      "_view_module_version": "1.2.0",
      "_view_name": "StyleView",
      "description_width": ""
     }
    },
    "1c61375ee8094b2da8fe61cb7d50e196": {
     "model_module": "@jupyter-widgets/controls",
     "model_module_version": "1.5.0",
     "model_name": "HBoxModel",
     "state": {
      "_dom_classes": [],
      "_model_module": "@jupyter-widgets/controls",
      "_model_module_version": "1.5.0",
      "_model_name": "HBoxModel",
      "_view_count": null,
      "_view_module": "@jupyter-widgets/controls",
      "_view_module_version": "1.5.0",
      "_view_name": "HBoxView",
      "box_style": "",
      "children": [
       "IPY_MODEL_41ebc28473cb41a389c74093add01e4f",
       "IPY_MODEL_c60bd06dda7647fa9c7e4a955029e780",
       "IPY_MODEL_5ab652c182324c6ebb87553a983053c0"
      ],
      "layout": "IPY_MODEL_252f4509898a488889b8bb90a0b43b84"
     }
    },
    "1f4fa84f62d6468ba79666b554c0079f": {
     "model_module": "@jupyter-widgets/controls",
     "model_module_version": "1.5.0",
     "model_name": "ProgressStyleModel",
     "state": {
      "_model_module": "@jupyter-widgets/controls",
      "_model_module_version": "1.5.0",
      "_model_name": "ProgressStyleModel",
      "_view_count": null,
      "_view_module": "@jupyter-widgets/base",
      "_view_module_version": "1.2.0",
      "_view_name": "StyleView",
      "bar_color": null,
      "description_width": ""
     }
    },
    "252f4509898a488889b8bb90a0b43b84": {
     "model_module": "@jupyter-widgets/base",
     "model_module_version": "1.2.0",
     "model_name": "LayoutModel",
     "state": {
      "_model_module": "@jupyter-widgets/base",
      "_model_module_version": "1.2.0",
      "_model_name": "LayoutModel",
      "_view_count": null,
      "_view_module": "@jupyter-widgets/base",
      "_view_module_version": "1.2.0",
      "_view_name": "LayoutView",
      "align_content": null,
      "align_items": null,
      "align_self": null,
      "border": null,
      "bottom": null,
      "display": null,
      "flex": null,
      "flex_flow": null,
      "grid_area": null,
      "grid_auto_columns": null,
      "grid_auto_flow": null,
      "grid_auto_rows": null,
      "grid_column": null,
      "grid_gap": null,
      "grid_row": null,
      "grid_template_areas": null,
      "grid_template_columns": null,
      "grid_template_rows": null,
      "height": null,
      "justify_content": null,
      "justify_items": null,
      "left": null,
      "margin": null,
      "max_height": null,
      "max_width": null,
      "min_height": null,
      "min_width": null,
      "object_fit": null,
      "object_position": null,
      "order": null,
      "overflow": null,
      "overflow_x": null,
      "overflow_y": null,
      "padding": null,
      "right": null,
      "top": null,
      "visibility": null,
      "width": null
     }
    },
    "28444a1f58a44626837bc36e03e8fe3f": {
     "model_module": "@jupyter-widgets/base",
     "model_module_version": "1.2.0",
     "model_name": "LayoutModel",
     "state": {
      "_model_module": "@jupyter-widgets/base",
      "_model_module_version": "1.2.0",
      "_model_name": "LayoutModel",
      "_view_count": null,
      "_view_module": "@jupyter-widgets/base",
      "_view_module_version": "1.2.0",
      "_view_name": "LayoutView",
      "align_content": null,
      "align_items": null,
      "align_self": null,
      "border": null,
      "bottom": null,
      "display": null,
      "flex": null,
      "flex_flow": null,
      "grid_area": null,
      "grid_auto_columns": null,
      "grid_auto_flow": null,
      "grid_auto_rows": null,
      "grid_column": null,
      "grid_gap": null,
      "grid_row": null,
      "grid_template_areas": null,
      "grid_template_columns": null,
      "grid_template_rows": null,
      "height": null,
      "justify_content": null,
      "justify_items": null,
      "left": null,
      "margin": null,
      "max_height": null,
      "max_width": null,
      "min_height": null,
      "min_width": null,
      "object_fit": null,
      "object_position": null,
      "order": null,
      "overflow": null,
      "overflow_x": null,
      "overflow_y": null,
      "padding": null,
      "right": null,
      "top": null,
      "visibility": null,
      "width": null
     }
    },
    "2b14fc5aed8e42edb59c8534529dde8e": {
     "model_module": "@jupyter-widgets/base",
     "model_module_version": "1.2.0",
     "model_name": "LayoutModel",
     "state": {
      "_model_module": "@jupyter-widgets/base",
      "_model_module_version": "1.2.0",
      "_model_name": "LayoutModel",
      "_view_count": null,
      "_view_module": "@jupyter-widgets/base",
      "_view_module_version": "1.2.0",
      "_view_name": "LayoutView",
      "align_content": null,
      "align_items": null,
      "align_self": null,
      "border": null,
      "bottom": null,
      "display": null,
      "flex": null,
      "flex_flow": null,
      "grid_area": null,
      "grid_auto_columns": null,
      "grid_auto_flow": null,
      "grid_auto_rows": null,
      "grid_column": null,
      "grid_gap": null,
      "grid_row": null,
      "grid_template_areas": null,
      "grid_template_columns": null,
      "grid_template_rows": null,
      "height": null,
      "justify_content": null,
      "justify_items": null,
      "left": null,
      "margin": null,
      "max_height": null,
      "max_width": null,
      "min_height": null,
      "min_width": null,
      "object_fit": null,
      "object_position": null,
      "order": null,
      "overflow": null,
      "overflow_x": null,
      "overflow_y": null,
      "padding": null,
      "right": null,
      "top": null,
      "visibility": null,
      "width": null
     }
    },
    "2bcfc8b8c95e44558f69fe73123f936c": {
     "model_module": "@jupyter-widgets/controls",
     "model_module_version": "1.5.0",
     "model_name": "ProgressStyleModel",
     "state": {
      "_model_module": "@jupyter-widgets/controls",
      "_model_module_version": "1.5.0",
      "_model_name": "ProgressStyleModel",
      "_view_count": null,
      "_view_module": "@jupyter-widgets/base",
      "_view_module_version": "1.2.0",
      "_view_name": "StyleView",
      "bar_color": null,
      "description_width": ""
     }
    },
    "2d810a48e3b94fac9519a56850c7f3cf": {
     "model_module": "@jupyter-widgets/controls",
     "model_module_version": "1.5.0",
     "model_name": "HTMLModel",
     "state": {
      "_dom_classes": [],
      "_model_module": "@jupyter-widgets/controls",
      "_model_module_version": "1.5.0",
      "_model_name": "HTMLModel",
      "_view_count": null,
      "_view_module": "@jupyter-widgets/controls",
      "_view_module_version": "1.5.0",
      "_view_name": "HTMLView",
      "description": "",
      "description_tooltip": null,
      "layout": "IPY_MODEL_943fae88d11a429181f5622f186c3945",
      "placeholder": "​",
      "style": "IPY_MODEL_3f3894e4c10141f3bb984689d5fe5908",
      "value": " 629/629 [00:00&lt;00:00, 56.4kB/s]"
     }
    },
    "323060d96c4848609c259bd0cca09dab": {
     "model_module": "@jupyter-widgets/base",
     "model_module_version": "1.2.0",
     "model_name": "LayoutModel",
     "state": {
      "_model_module": "@jupyter-widgets/base",
      "_model_module_version": "1.2.0",
      "_model_name": "LayoutModel",
      "_view_count": null,
      "_view_module": "@jupyter-widgets/base",
      "_view_module_version": "1.2.0",
      "_view_name": "LayoutView",
      "align_content": null,
      "align_items": null,
      "align_self": null,
      "border": null,
      "bottom": null,
      "display": null,
      "flex": null,
      "flex_flow": null,
      "grid_area": null,
      "grid_auto_columns": null,
      "grid_auto_flow": null,
      "grid_auto_rows": null,
      "grid_column": null,
      "grid_gap": null,
      "grid_row": null,
      "grid_template_areas": null,
      "grid_template_columns": null,
      "grid_template_rows": null,
      "height": null,
      "justify_content": null,
      "justify_items": null,
      "left": null,
      "margin": null,
      "max_height": null,
      "max_width": null,
      "min_height": null,
      "min_width": null,
      "object_fit": null,
      "object_position": null,
      "order": null,
      "overflow": null,
      "overflow_x": null,
      "overflow_y": null,
      "padding": null,
      "right": null,
      "top": null,
      "visibility": null,
      "width": null
     }
    },
    "37f1898d5f364e599d6a7d6aadcbc271": {
     "model_module": "@jupyter-widgets/controls",
     "model_module_version": "1.5.0",
     "model_name": "HTMLModel",
     "state": {
      "_dom_classes": [],
      "_model_module": "@jupyter-widgets/controls",
      "_model_module_version": "1.5.0",
      "_model_name": "HTMLModel",
      "_view_count": null,
      "_view_module": "@jupyter-widgets/controls",
      "_view_module_version": "1.5.0",
      "_view_name": "HTMLView",
      "description": "",
      "description_tooltip": null,
      "layout": "IPY_MODEL_825d9142473c4c7183c598c1df4adce5",
      "placeholder": "​",
      "style": "IPY_MODEL_e5635b57eaf8404986626356b6700803",
      "value": "config.json: 100%"
     }
    },
    "38e8b22c401845fbab3825495bdeb42a": {
     "model_module": "@jupyter-widgets/base",
     "model_module_version": "1.2.0",
     "model_name": "LayoutModel",
     "state": {
      "_model_module": "@jupyter-widgets/base",
      "_model_module_version": "1.2.0",
      "_model_name": "LayoutModel",
      "_view_count": null,
      "_view_module": "@jupyter-widgets/base",
      "_view_module_version": "1.2.0",
      "_view_name": "LayoutView",
      "align_content": null,
      "align_items": null,
      "align_self": null,
      "border": null,
      "bottom": null,
      "display": null,
      "flex": null,
      "flex_flow": null,
      "grid_area": null,
      "grid_auto_columns": null,
      "grid_auto_flow": null,
      "grid_auto_rows": null,
      "grid_column": null,
      "grid_gap": null,
      "grid_row": null,
      "grid_template_areas": null,
      "grid_template_columns": null,
      "grid_template_rows": null,
      "height": null,
      "justify_content": null,
      "justify_items": null,
      "left": null,
      "margin": null,
      "max_height": null,
      "max_width": null,
      "min_height": null,
      "min_width": null,
      "object_fit": null,
      "object_position": null,
      "order": null,
      "overflow": null,
      "overflow_x": null,
      "overflow_y": null,
      "padding": null,
      "right": null,
      "top": null,
      "visibility": null,
      "width": null
     }
    },
    "39c057721765432bbc57cccc7ebce091": {
     "model_module": "@jupyter-widgets/controls",
     "model_module_version": "1.5.0",
     "model_name": "ProgressStyleModel",
     "state": {
      "_model_module": "@jupyter-widgets/controls",
      "_model_module_version": "1.5.0",
      "_model_name": "ProgressStyleModel",
      "_view_count": null,
      "_view_module": "@jupyter-widgets/base",
      "_view_module_version": "1.2.0",
      "_view_name": "StyleView",
      "bar_color": null,
      "description_width": ""
     }
    },
    "3b516e5b309c40cc8a8f9b2e821b7a0c": {
     "model_module": "@jupyter-widgets/controls",
     "model_module_version": "1.5.0",
     "model_name": "DescriptionStyleModel",
     "state": {
      "_model_module": "@jupyter-widgets/controls",
      "_model_module_version": "1.5.0",
      "_model_name": "DescriptionStyleModel",
      "_view_count": null,
      "_view_module": "@jupyter-widgets/base",
      "_view_module_version": "1.2.0",
      "_view_name": "StyleView",
      "description_width": ""
     }
    },
    "3b91e2d446154934a41078f42af3000f": {
     "model_module": "@jupyter-widgets/base",
     "model_module_version": "1.2.0",
     "model_name": "LayoutModel",
     "state": {
      "_model_module": "@jupyter-widgets/base",
      "_model_module_version": "1.2.0",
      "_model_name": "LayoutModel",
      "_view_count": null,
      "_view_module": "@jupyter-widgets/base",
      "_view_module_version": "1.2.0",
      "_view_name": "LayoutView",
      "align_content": null,
      "align_items": null,
      "align_self": null,
      "border": null,
      "bottom": null,
      "display": null,
      "flex": null,
      "flex_flow": null,
      "grid_area": null,
      "grid_auto_columns": null,
      "grid_auto_flow": null,
      "grid_auto_rows": null,
      "grid_column": null,
      "grid_gap": null,
      "grid_row": null,
      "grid_template_areas": null,
      "grid_template_columns": null,
      "grid_template_rows": null,
      "height": null,
      "justify_content": null,
      "justify_items": null,
      "left": null,
      "margin": null,
      "max_height": null,
      "max_width": null,
      "min_height": null,
      "min_width": null,
      "object_fit": null,
      "object_position": null,
      "order": null,
      "overflow": null,
      "overflow_x": null,
      "overflow_y": null,
      "padding": null,
      "right": null,
      "top": null,
      "visibility": null,
      "width": null
     }
    },
    "3de3ad4eb4e84e6a94d0832b31ee454d": {
     "model_module": "@jupyter-widgets/controls",
     "model_module_version": "1.5.0",
     "model_name": "HTMLModel",
     "state": {
      "_dom_classes": [],
      "_model_module": "@jupyter-widgets/controls",
      "_model_module_version": "1.5.0",
      "_model_name": "HTMLModel",
      "_view_count": null,
      "_view_module": "@jupyter-widgets/controls",
      "_view_module_version": "1.5.0",
      "_view_name": "HTMLView",
      "description": "",
      "description_tooltip": null,
      "layout": "IPY_MODEL_28444a1f58a44626837bc36e03e8fe3f",
      "placeholder": "​",
      "style": "IPY_MODEL_d194f6bf0a7044cfb5d3adb17aee8ad3",
      "value": " 112/112 [00:00&lt;00:00, 8.96kB/s]"
     }
    },
    "3f3894e4c10141f3bb984689d5fe5908": {
     "model_module": "@jupyter-widgets/controls",
     "model_module_version": "1.5.0",
     "model_name": "DescriptionStyleModel",
     "state": {
      "_model_module": "@jupyter-widgets/controls",
      "_model_module_version": "1.5.0",
      "_model_name": "DescriptionStyleModel",
      "_view_count": null,
      "_view_module": "@jupyter-widgets/base",
      "_view_module_version": "1.2.0",
      "_view_name": "StyleView",
      "description_width": ""
     }
    },
    "3fabc53384384dc8bda3fd91aa64586f": {
     "model_module": "@jupyter-widgets/controls",
     "model_module_version": "1.5.0",
     "model_name": "DescriptionStyleModel",
     "state": {
      "_model_module": "@jupyter-widgets/controls",
      "_model_module_version": "1.5.0",
      "_model_name": "DescriptionStyleModel",
      "_view_count": null,
      "_view_module": "@jupyter-widgets/base",
      "_view_module_version": "1.2.0",
      "_view_name": "StyleView",
      "description_width": ""
     }
    },
    "40f29099c4bb4fd4b086525cd2bb675d": {
     "model_module": "@jupyter-widgets/base",
     "model_module_version": "1.2.0",
     "model_name": "LayoutModel",
     "state": {
      "_model_module": "@jupyter-widgets/base",
      "_model_module_version": "1.2.0",
      "_model_name": "LayoutModel",
      "_view_count": null,
      "_view_module": "@jupyter-widgets/base",
      "_view_module_version": "1.2.0",
      "_view_name": "LayoutView",
      "align_content": null,
      "align_items": null,
      "align_self": null,
      "border": null,
      "bottom": null,
      "display": null,
      "flex": null,
      "flex_flow": null,
      "grid_area": null,
      "grid_auto_columns": null,
      "grid_auto_flow": null,
      "grid_auto_rows": null,
      "grid_column": null,
      "grid_gap": null,
      "grid_row": null,
      "grid_template_areas": null,
      "grid_template_columns": null,
      "grid_template_rows": null,
      "height": null,
      "justify_content": null,
      "justify_items": null,
      "left": null,
      "margin": null,
      "max_height": null,
      "max_width": null,
      "min_height": null,
      "min_width": null,
      "object_fit": null,
      "object_position": null,
      "order": null,
      "overflow": null,
      "overflow_x": null,
      "overflow_y": null,
      "padding": null,
      "right": null,
      "top": null,
      "visibility": null,
      "width": null
     }
    },
    "41e1cbf8196a44bead162624fbdaa59e": {
     "model_module": "@jupyter-widgets/base",
     "model_module_version": "1.2.0",
     "model_name": "LayoutModel",
     "state": {
      "_model_module": "@jupyter-widgets/base",
      "_model_module_version": "1.2.0",
      "_model_name": "LayoutModel",
      "_view_count": null,
      "_view_module": "@jupyter-widgets/base",
      "_view_module_version": "1.2.0",
      "_view_name": "LayoutView",
      "align_content": null,
      "align_items": null,
      "align_self": null,
      "border": null,
      "bottom": null,
      "display": null,
      "flex": null,
      "flex_flow": null,
      "grid_area": null,
      "grid_auto_columns": null,
      "grid_auto_flow": null,
      "grid_auto_rows": null,
      "grid_column": null,
      "grid_gap": null,
      "grid_row": null,
      "grid_template_areas": null,
      "grid_template_columns": null,
      "grid_template_rows": null,
      "height": null,
      "justify_content": null,
      "justify_items": null,
      "left": null,
      "margin": null,
      "max_height": null,
      "max_width": null,
      "min_height": null,
      "min_width": null,
      "object_fit": null,
      "object_position": null,
      "order": null,
      "overflow": null,
      "overflow_x": null,
      "overflow_y": null,
      "padding": null,
      "right": null,
      "top": null,
      "visibility": null,
      "width": null
     }
    },
    "41ebc28473cb41a389c74093add01e4f": {
     "model_module": "@jupyter-widgets/controls",
     "model_module_version": "1.5.0",
     "model_name": "HTMLModel",
     "state": {
      "_dom_classes": [],
      "_model_module": "@jupyter-widgets/controls",
      "_model_module_version": "1.5.0",
      "_model_name": "HTMLModel",
      "_view_count": null,
      "_view_module": "@jupyter-widgets/controls",
      "_view_module_version": "1.5.0",
      "_view_name": "HTMLView",
      "description": "",
      "description_tooltip": null,
      "layout": "IPY_MODEL_7d3193cc7d954b39adf9cecf7d4e0382",
      "placeholder": "​",
      "style": "IPY_MODEL_dde1a4ec465c42e8b7d9d03bf95477fa",
      "value": "tokenizer_config.json: 100%"
     }
    },
    "42fd21871e09422da3d44b2d5d2ccfcf": {
     "model_module": "@jupyter-widgets/controls",
     "model_module_version": "1.5.0",
     "model_name": "HTMLModel",
     "state": {
      "_dom_classes": [],
      "_model_module": "@jupyter-widgets/controls",
      "_model_module_version": "1.5.0",
      "_model_name": "HTMLModel",
      "_view_count": null,
      "_view_module": "@jupyter-widgets/controls",
      "_view_module_version": "1.5.0",
      "_view_name": "HTMLView",
      "description": "",
      "description_tooltip": null,
      "layout": "IPY_MODEL_c67f1a06a12a4b7b90903fc9b11fc6d0",
      "placeholder": "​",
      "style": "IPY_MODEL_9300fd5a0a33473caa094c24374afff6",
      "value": "vocab.txt: 100%"
     }
    },
    "4371d89a5e3a461ca49193b82159eecf": {
     "model_module": "@jupyter-widgets/controls",
     "model_module_version": "1.5.0",
     "model_name": "ProgressStyleModel",
     "state": {
      "_model_module": "@jupyter-widgets/controls",
      "_model_module_version": "1.5.0",
      "_model_name": "ProgressStyleModel",
      "_view_count": null,
      "_view_module": "@jupyter-widgets/base",
      "_view_module_version": "1.2.0",
      "_view_name": "StyleView",
      "bar_color": null,
      "description_width": ""
     }
    },
    "4456144ac1f14298ab488203984e7894": {
     "model_module": "@jupyter-widgets/controls",
     "model_module_version": "1.5.0",
     "model_name": "HTMLModel",
     "state": {
      "_dom_classes": [],
      "_model_module": "@jupyter-widgets/controls",
      "_model_module_version": "1.5.0",
      "_model_name": "HTMLModel",
      "_view_count": null,
      "_view_module": "@jupyter-widgets/controls",
      "_view_module_version": "1.5.0",
      "_view_name": "HTMLView",
      "description": "",
      "description_tooltip": null,
      "layout": "IPY_MODEL_d101c803937e4a1c99fb1e5f600d04d7",
      "placeholder": "​",
      "style": "IPY_MODEL_b0539088909f4d53905d3042b70d6284",
      "value": "modules.json: 100%"
     }
    },
    "44c051365e0443339baa1f09fe5700b6": {
     "model_module": "@jupyter-widgets/base",
     "model_module_version": "1.2.0",
     "model_name": "LayoutModel",
     "state": {
      "_model_module": "@jupyter-widgets/base",
      "_model_module_version": "1.2.0",
      "_model_name": "LayoutModel",
      "_view_count": null,
      "_view_module": "@jupyter-widgets/base",
      "_view_module_version": "1.2.0",
      "_view_name": "LayoutView",
      "align_content": null,
      "align_items": null,
      "align_self": null,
      "border": null,
      "bottom": null,
      "display": null,
      "flex": null,
      "flex_flow": null,
      "grid_area": null,
      "grid_auto_columns": null,
      "grid_auto_flow": null,
      "grid_auto_rows": null,
      "grid_column": null,
      "grid_gap": null,
      "grid_row": null,
      "grid_template_areas": null,
      "grid_template_columns": null,
      "grid_template_rows": null,
      "height": null,
      "justify_content": null,
      "justify_items": null,
      "left": null,
      "margin": null,
      "max_height": null,
      "max_width": null,
      "min_height": null,
      "min_width": null,
      "object_fit": null,
      "object_position": null,
      "order": null,
      "overflow": null,
      "overflow_x": null,
      "overflow_y": null,
      "padding": null,
      "right": null,
      "top": null,
      "visibility": null,
      "width": null
     }
    },
    "4894c986f81c4b398cd7049c50fcaa3e": {
     "model_module": "@jupyter-widgets/controls",
     "model_module_version": "1.5.0",
     "model_name": "HTMLModel",
     "state": {
      "_dom_classes": [],
      "_model_module": "@jupyter-widgets/controls",
      "_model_module_version": "1.5.0",
      "_model_name": "HTMLModel",
      "_view_count": null,
      "_view_module": "@jupyter-widgets/controls",
      "_view_module_version": "1.5.0",
      "_view_name": "HTMLView",
      "description": "",
      "description_tooltip": null,
      "layout": "IPY_MODEL_d9f2094e3eb44b58b8a7f210547c82e5",
      "placeholder": "​",
      "style": "IPY_MODEL_3b516e5b309c40cc8a8f9b2e821b7a0c",
      "value": " 53.0/53.0 [00:00&lt;00:00, 4.78kB/s]"
     }
    },
    "4fab726503b44d24befbf150f7d5f6cc": {
     "model_module": "@jupyter-widgets/base",
     "model_module_version": "1.2.0",
     "model_name": "LayoutModel",
     "state": {
      "_model_module": "@jupyter-widgets/base",
      "_model_module_version": "1.2.0",
      "_model_name": "LayoutModel",
      "_view_count": null,
      "_view_module": "@jupyter-widgets/base",
      "_view_module_version": "1.2.0",
      "_view_name": "LayoutView",
      "align_content": null,
      "align_items": null,
      "align_self": null,
      "border": null,
      "bottom": null,
      "display": null,
      "flex": null,
      "flex_flow": null,
      "grid_area": null,
      "grid_auto_columns": null,
      "grid_auto_flow": null,
      "grid_auto_rows": null,
      "grid_column": null,
      "grid_gap": null,
      "grid_row": null,
      "grid_template_areas": null,
      "grid_template_columns": null,
      "grid_template_rows": null,
      "height": null,
      "justify_content": null,
      "justify_items": null,
      "left": null,
      "margin": null,
      "max_height": null,
      "max_width": null,
      "min_height": null,
      "min_width": null,
      "object_fit": null,
      "object_position": null,
      "order": null,
      "overflow": null,
      "overflow_x": null,
      "overflow_y": null,
      "padding": null,
      "right": null,
      "top": null,
      "visibility": null,
      "width": null
     }
    },
    "54efc91bba6c4a958d728000457ca5cd": {
     "model_module": "@jupyter-widgets/controls",
     "model_module_version": "1.5.0",
     "model_name": "FloatProgressModel",
     "state": {
      "_dom_classes": [],
      "_model_module": "@jupyter-widgets/controls",
      "_model_module_version": "1.5.0",
      "_model_name": "FloatProgressModel",
      "_view_count": null,
      "_view_module": "@jupyter-widgets/controls",
      "_view_module_version": "1.5.0",
      "_view_name": "ProgressView",
      "bar_style": "success",
      "description": "",
      "description_tooltip": null,
      "layout": "IPY_MODEL_41e1cbf8196a44bead162624fbdaa59e",
      "max": 231508,
      "min": 0,
      "orientation": "horizontal",
      "style": "IPY_MODEL_1f4fa84f62d6468ba79666b554c0079f",
      "value": 231508
     }
    },
    "567e8529c72c453f95df1183ca841525": {
     "model_module": "@jupyter-widgets/controls",
     "model_module_version": "1.5.0",
     "model_name": "FloatProgressModel",
     "state": {
      "_dom_classes": [],
      "_model_module": "@jupyter-widgets/controls",
      "_model_module_version": "1.5.0",
      "_model_name": "FloatProgressModel",
      "_view_count": null,
      "_view_module": "@jupyter-widgets/controls",
      "_view_module_version": "1.5.0",
      "_view_name": "ProgressView",
      "bar_style": "success",
      "description": "",
      "description_tooltip": null,
      "layout": "IPY_MODEL_4fab726503b44d24befbf150f7d5f6cc",
      "max": 2,
      "min": 0,
      "orientation": "horizontal",
      "style": "IPY_MODEL_2bcfc8b8c95e44558f69fe73123f936c",
      "value": 2
     }
    },
    "5ab2894fba0f460582de9ea24d216c8d": {
     "model_module": "@jupyter-widgets/base",
     "model_module_version": "1.2.0",
     "model_name": "LayoutModel",
     "state": {
      "_model_module": "@jupyter-widgets/base",
      "_model_module_version": "1.2.0",
      "_model_name": "LayoutModel",
      "_view_count": null,
      "_view_module": "@jupyter-widgets/base",
      "_view_module_version": "1.2.0",
      "_view_name": "LayoutView",
      "align_content": null,
      "align_items": null,
      "align_self": null,
      "border": null,
      "bottom": null,
      "display": null,
      "flex": null,
      "flex_flow": null,
      "grid_area": null,
      "grid_auto_columns": null,
      "grid_auto_flow": null,
      "grid_auto_rows": null,
      "grid_column": null,
      "grid_gap": null,
      "grid_row": null,
      "grid_template_areas": null,
      "grid_template_columns": null,
      "grid_template_rows": null,
      "height": null,
      "justify_content": null,
      "justify_items": null,
      "left": null,
      "margin": null,
      "max_height": null,
      "max_width": null,
      "min_height": null,
      "min_width": null,
      "object_fit": null,
      "object_position": null,
      "order": null,
      "overflow": null,
      "overflow_x": null,
      "overflow_y": null,
      "padding": null,
      "right": null,
      "top": null,
      "visibility": null,
      "width": null
     }
    },
    "5ab652c182324c6ebb87553a983053c0": {
     "model_module": "@jupyter-widgets/controls",
     "model_module_version": "1.5.0",
     "model_name": "HTMLModel",
     "state": {
      "_dom_classes": [],
      "_model_module": "@jupyter-widgets/controls",
      "_model_module_version": "1.5.0",
      "_model_name": "HTMLModel",
      "_view_count": null,
      "_view_module": "@jupyter-widgets/controls",
      "_view_module_version": "1.5.0",
      "_view_name": "HTMLView",
      "description": "",
      "description_tooltip": null,
      "layout": "IPY_MODEL_16955c02ab1f4845860ee7ba91a26c5c",
      "placeholder": "​",
      "style": "IPY_MODEL_a5e1d9b6ad3e4e9a903ddfbaee062242",
      "value": " 314/314 [00:00&lt;00:00, 28.9kB/s]"
     }
    },
    "5d7e61a64fb141c9be6dbd061e306102": {
     "model_module": "@jupyter-widgets/controls",
     "model_module_version": "1.5.0",
     "model_name": "ProgressStyleModel",
     "state": {
      "_model_module": "@jupyter-widgets/controls",
      "_model_module_version": "1.5.0",
      "_model_name": "ProgressStyleModel",
      "_view_count": null,
      "_view_module": "@jupyter-widgets/base",
      "_view_module_version": "1.2.0",
      "_view_name": "StyleView",
      "bar_color": null,
      "description_width": ""
     }
    },
    "65ea80c447da4bdb9512e91a3fd74fb9": {
     "model_module": "@jupyter-widgets/controls",
     "model_module_version": "1.5.0",
     "model_name": "HBoxModel",
     "state": {
      "_dom_classes": [],
      "_model_module": "@jupyter-widgets/controls",
      "_model_module_version": "1.5.0",
      "_model_name": "HBoxModel",
      "_view_count": null,
      "_view_module": "@jupyter-widgets/controls",
      "_view_module_version": "1.5.0",
      "_view_name": "HBoxView",
      "box_style": "",
      "children": [
       "IPY_MODEL_837c4a2c00a44053961e750e0198282a",
       "IPY_MODEL_95e42e220b614601b2de8d10f74b94c6",
       "IPY_MODEL_8620382d3444437fb3c6c184ce119700"
      ],
      "layout": "IPY_MODEL_a9812af05ec54beda8944ff28b114154"
     }
    },
    "65fcf1f441c84a8d97e2de06ad77c2cb": {
     "model_module": "@jupyter-widgets/base",
     "model_module_version": "1.2.0",
     "model_name": "LayoutModel",
     "state": {
      "_model_module": "@jupyter-widgets/base",
      "_model_module_version": "1.2.0",
      "_model_name": "LayoutModel",
      "_view_count": null,
      "_view_module": "@jupyter-widgets/base",
      "_view_module_version": "1.2.0",
      "_view_name": "LayoutView",
      "align_content": null,
      "align_items": null,
      "align_self": null,
      "border": null,
      "bottom": null,
      "display": null,
      "flex": null,
      "flex_flow": null,
      "grid_area": null,
      "grid_auto_columns": null,
      "grid_auto_flow": null,
      "grid_auto_rows": null,
      "grid_column": null,
      "grid_gap": null,
      "grid_row": null,
      "grid_template_areas": null,
      "grid_template_columns": null,
      "grid_template_rows": null,
      "height": null,
      "justify_content": null,
      "justify_items": null,
      "left": null,
      "margin": null,
      "max_height": null,
      "max_width": null,
      "min_height": null,
      "min_width": null,
      "object_fit": null,
      "object_position": null,
      "order": null,
      "overflow": null,
      "overflow_x": null,
      "overflow_y": null,
      "padding": null,
      "right": null,
      "top": null,
      "visibility": null,
      "width": null
     }
    },
    "67419caa42ba47b39d3435ef0e0126de": {
     "model_module": "@jupyter-widgets/controls",
     "model_module_version": "1.5.0",
     "model_name": "HTMLModel",
     "state": {
      "_dom_classes": [],
      "_model_module": "@jupyter-widgets/controls",
      "_model_module_version": "1.5.0",
      "_model_name": "HTMLModel",
      "_view_count": null,
      "_view_module": "@jupyter-widgets/controls",
      "_view_module_version": "1.5.0",
      "_view_name": "HTMLView",
      "description": "",
      "description_tooltip": null,
      "layout": "IPY_MODEL_a42457ae15644bbfbaa8c21ce93ed004",
      "placeholder": "​",
      "style": "IPY_MODEL_cbaee495f98444b78670a9a473459bfc",
      "value": " 466k/466k [00:00&lt;00:00, 969kB/s]"
     }
    },
    "675ad52668164eec85a563dafb5ca4fe": {
     "model_module": "@jupyter-widgets/controls",
     "model_module_version": "1.5.0",
     "model_name": "HTMLModel",
     "state": {
      "_dom_classes": [],
      "_model_module": "@jupyter-widgets/controls",
      "_model_module_version": "1.5.0",
      "_model_name": "HTMLModel",
      "_view_count": null,
      "_view_module": "@jupyter-widgets/controls",
      "_view_module_version": "1.5.0",
      "_view_name": "HTMLView",
      "description": "",
      "description_tooltip": null,
      "layout": "IPY_MODEL_748cd482e2e4432fa0c9243527a589fa",
      "placeholder": "​",
      "style": "IPY_MODEL_9b4802951ebc4af1a4354386a668c38b",
      "value": " 232k/232k [00:00&lt;00:00, 18.8MB/s]"
     }
    },
    "69382528d9044d209cf28c7e77ad51d3": {
     "model_module": "@jupyter-widgets/base",
     "model_module_version": "1.2.0",
     "model_name": "LayoutModel",
     "state": {
      "_model_module": "@jupyter-widgets/base",
      "_model_module_version": "1.2.0",
      "_model_name": "LayoutModel",
      "_view_count": null,
      "_view_module": "@jupyter-widgets/base",
      "_view_module_version": "1.2.0",
      "_view_name": "LayoutView",
      "align_content": null,
      "align_items": null,
      "align_self": null,
      "border": null,
      "bottom": null,
      "display": null,
      "flex": null,
      "flex_flow": null,
      "grid_area": null,
      "grid_auto_columns": null,
      "grid_auto_flow": null,
      "grid_auto_rows": null,
      "grid_column": null,
      "grid_gap": null,
      "grid_row": null,
      "grid_template_areas": null,
      "grid_template_columns": null,
      "grid_template_rows": null,
      "height": null,
      "justify_content": null,
      "justify_items": null,
      "left": null,
      "margin": null,
      "max_height": null,
      "max_width": null,
      "min_height": null,
      "min_width": null,
      "object_fit": null,
      "object_position": null,
      "order": null,
      "overflow": null,
      "overflow_x": null,
      "overflow_y": null,
      "padding": null,
      "right": null,
      "top": null,
      "visibility": null,
      "width": null
     }
    },
    "696e56378d0e40afbbaeba0381f57ecd": {
     "model_module": "@jupyter-widgets/base",
     "model_module_version": "1.2.0",
     "model_name": "LayoutModel",
     "state": {
      "_model_module": "@jupyter-widgets/base",
      "_model_module_version": "1.2.0",
      "_model_name": "LayoutModel",
      "_view_count": null,
      "_view_module": "@jupyter-widgets/base",
      "_view_module_version": "1.2.0",
      "_view_name": "LayoutView",
      "align_content": null,
      "align_items": null,
      "align_self": null,
      "border": null,
      "bottom": null,
      "display": null,
      "flex": null,
      "flex_flow": null,
      "grid_area": null,
      "grid_auto_columns": null,
      "grid_auto_flow": null,
      "grid_auto_rows": null,
      "grid_column": null,
      "grid_gap": null,
      "grid_row": null,
      "grid_template_areas": null,
      "grid_template_columns": null,
      "grid_template_rows": null,
      "height": null,
      "justify_content": null,
      "justify_items": null,
      "left": null,
      "margin": null,
      "max_height": null,
      "max_width": null,
      "min_height": null,
      "min_width": null,
      "object_fit": null,
      "object_position": null,
      "order": null,
      "overflow": null,
      "overflow_x": null,
      "overflow_y": null,
      "padding": null,
      "right": null,
      "top": null,
      "visibility": null,
      "width": null
     }
    },
    "6dfbb33e054f4c418dff828438bbc235": {
     "model_module": "@jupyter-widgets/controls",
     "model_module_version": "1.5.0",
     "model_name": "HBoxModel",
     "state": {
      "_dom_classes": [],
      "_model_module": "@jupyter-widgets/controls",
      "_model_module_version": "1.5.0",
      "_model_name": "HBoxModel",
      "_view_count": null,
      "_view_module": "@jupyter-widgets/controls",
      "_view_module_version": "1.5.0",
      "_view_name": "HBoxView",
      "box_style": "",
      "children": [
       "IPY_MODEL_72907d83789043078c31cd75a2ac8cf7",
       "IPY_MODEL_9c788e9edc424e3cbbee45933fd317df",
       "IPY_MODEL_3de3ad4eb4e84e6a94d0832b31ee454d"
      ],
      "layout": "IPY_MODEL_c3853b06827c4e81ba1f3dc79fd15729"
     }
    },
    "7238b1524ac645d7a0dde5dd6b27490d": {
     "model_module": "@jupyter-widgets/base",
     "model_module_version": "1.2.0",
     "model_name": "LayoutModel",
     "state": {
      "_model_module": "@jupyter-widgets/base",
      "_model_module_version": "1.2.0",
      "_model_name": "LayoutModel",
      "_view_count": null,
      "_view_module": "@jupyter-widgets/base",
      "_view_module_version": "1.2.0",
      "_view_name": "LayoutView",
      "align_content": null,
      "align_items": null,
      "align_self": null,
      "border": null,
      "bottom": null,
      "display": null,
      "flex": null,
      "flex_flow": null,
      "grid_area": null,
      "grid_auto_columns": null,
      "grid_auto_flow": null,
      "grid_auto_rows": null,
      "grid_column": null,
      "grid_gap": null,
      "grid_row": null,
      "grid_template_areas": null,
      "grid_template_columns": null,
      "grid_template_rows": null,
      "height": null,
      "justify_content": null,
      "justify_items": null,
      "left": null,
      "margin": null,
      "max_height": null,
      "max_width": null,
      "min_height": null,
      "min_width": null,
      "object_fit": null,
      "object_position": null,
      "order": null,
      "overflow": null,
      "overflow_x": null,
      "overflow_y": null,
      "padding": null,
      "right": null,
      "top": null,
      "visibility": null,
      "width": null
     }
    },
    "72907d83789043078c31cd75a2ac8cf7": {
     "model_module": "@jupyter-widgets/controls",
     "model_module_version": "1.5.0",
     "model_name": "HTMLModel",
     "state": {
      "_dom_classes": [],
      "_model_module": "@jupyter-widgets/controls",
      "_model_module_version": "1.5.0",
      "_model_name": "HTMLModel",
      "_view_count": null,
      "_view_module": "@jupyter-widgets/controls",
      "_view_module_version": "1.5.0",
      "_view_name": "HTMLView",
      "description": "",
      "description_tooltip": null,
      "layout": "IPY_MODEL_65fcf1f441c84a8d97e2de06ad77c2cb",
      "placeholder": "​",
      "style": "IPY_MODEL_a1d2c780fe4d44739807a34d2e876212",
      "value": "special_tokens_map.json: 100%"
     }
    },
    "72d71ef1f7554f2691fb562b85f1c94c": {
     "model_module": "@jupyter-widgets/base",
     "model_module_version": "1.2.0",
     "model_name": "LayoutModel",
     "state": {
      "_model_module": "@jupyter-widgets/base",
      "_model_module_version": "1.2.0",
      "_model_name": "LayoutModel",
      "_view_count": null,
      "_view_module": "@jupyter-widgets/base",
      "_view_module_version": "1.2.0",
      "_view_name": "LayoutView",
      "align_content": null,
      "align_items": null,
      "align_self": null,
      "border": null,
      "bottom": null,
      "display": null,
      "flex": null,
      "flex_flow": null,
      "grid_area": null,
      "grid_auto_columns": null,
      "grid_auto_flow": null,
      "grid_auto_rows": null,
      "grid_column": null,
      "grid_gap": null,
      "grid_row": null,
      "grid_template_areas": null,
      "grid_template_columns": null,
      "grid_template_rows": null,
      "height": null,
      "justify_content": null,
      "justify_items": null,
      "left": null,
      "margin": null,
      "max_height": null,
      "max_width": null,
      "min_height": null,
      "min_width": null,
      "object_fit": null,
      "object_position": null,
      "order": null,
      "overflow": null,
      "overflow_x": null,
      "overflow_y": null,
      "padding": null,
      "right": null,
      "top": null,
      "visibility": null,
      "width": null
     }
    },
    "73f813d89f414641922d3fee31c6c89d": {
     "model_module": "@jupyter-widgets/controls",
     "model_module_version": "1.5.0",
     "model_name": "HTMLModel",
     "state": {
      "_dom_classes": [],
      "_model_module": "@jupyter-widgets/controls",
      "_model_module_version": "1.5.0",
      "_model_name": "HTMLModel",
      "_view_count": null,
      "_view_module": "@jupyter-widgets/controls",
      "_view_module_version": "1.5.0",
      "_view_name": "HTMLView",
      "description": "",
      "description_tooltip": null,
      "layout": "IPY_MODEL_72d71ef1f7554f2691fb562b85f1c94c",
      "placeholder": "​",
      "style": "IPY_MODEL_99ab6c916ac64c67866320814ad9d085",
      "value": "pytorch_model.bin: 100%"
     }
    },
    "748cd482e2e4432fa0c9243527a589fa": {
     "model_module": "@jupyter-widgets/base",
     "model_module_version": "1.2.0",
     "model_name": "LayoutModel",
     "state": {
      "_model_module": "@jupyter-widgets/base",
      "_model_module_version": "1.2.0",
      "_model_name": "LayoutModel",
      "_view_count": null,
      "_view_module": "@jupyter-widgets/base",
      "_view_module_version": "1.2.0",
      "_view_name": "LayoutView",
      "align_content": null,
      "align_items": null,
      "align_self": null,
      "border": null,
      "bottom": null,
      "display": null,
      "flex": null,
      "flex_flow": null,
      "grid_area": null,
      "grid_auto_columns": null,
      "grid_auto_flow": null,
      "grid_auto_rows": null,
      "grid_column": null,
      "grid_gap": null,
      "grid_row": null,
      "grid_template_areas": null,
      "grid_template_columns": null,
      "grid_template_rows": null,
      "height": null,
      "justify_content": null,
      "justify_items": null,
      "left": null,
      "margin": null,
      "max_height": null,
      "max_width": null,
      "min_height": null,
      "min_width": null,
      "object_fit": null,
      "object_position": null,
      "order": null,
      "overflow": null,
      "overflow_x": null,
      "overflow_y": null,
      "padding": null,
      "right": null,
      "top": null,
      "visibility": null,
      "width": null
     }
    },
    "749848452b394ce2bed4082d3bb062ac": {
     "model_module": "@jupyter-widgets/controls",
     "model_module_version": "1.5.0",
     "model_name": "HBoxModel",
     "state": {
      "_dom_classes": [],
      "_model_module": "@jupyter-widgets/controls",
      "_model_module_version": "1.5.0",
      "_model_name": "HBoxModel",
      "_view_count": null,
      "_view_module": "@jupyter-widgets/controls",
      "_view_module_version": "1.5.0",
      "_view_name": "HBoxView",
      "box_style": "",
      "children": [
       "IPY_MODEL_d65083be2ed94bd3b91a73de888d0dd2",
       "IPY_MODEL_add4280e788c40efae79ef3d1f8c419c",
       "IPY_MODEL_4894c986f81c4b398cd7049c50fcaa3e"
      ],
      "layout": "IPY_MODEL_40f29099c4bb4fd4b086525cd2bb675d"
     }
    },
    "74cb81dfe886413f977993b0eab3402d": {
     "model_module": "@jupyter-widgets/controls",
     "model_module_version": "1.5.0",
     "model_name": "DescriptionStyleModel",
     "state": {
      "_model_module": "@jupyter-widgets/controls",
      "_model_module_version": "1.5.0",
      "_model_name": "DescriptionStyleModel",
      "_view_count": null,
      "_view_module": "@jupyter-widgets/base",
      "_view_module_version": "1.2.0",
      "_view_name": "StyleView",
      "description_width": ""
     }
    },
    "773d687209e341ab8391b3a89c3709be": {
     "model_module": "@jupyter-widgets/controls",
     "model_module_version": "1.5.0",
     "model_name": "ProgressStyleModel",
     "state": {
      "_model_module": "@jupyter-widgets/controls",
      "_model_module_version": "1.5.0",
      "_model_name": "ProgressStyleModel",
      "_view_count": null,
      "_view_module": "@jupyter-widgets/base",
      "_view_module_version": "1.2.0",
      "_view_name": "StyleView",
      "bar_color": null,
      "description_width": ""
     }
    },
    "7997c4c2846f445ca5c1084282db1000": {
     "model_module": "@jupyter-widgets/controls",
     "model_module_version": "1.5.0",
     "model_name": "DescriptionStyleModel",
     "state": {
      "_model_module": "@jupyter-widgets/controls",
      "_model_module_version": "1.5.0",
      "_model_name": "DescriptionStyleModel",
      "_view_count": null,
      "_view_module": "@jupyter-widgets/base",
      "_view_module_version": "1.2.0",
      "_view_name": "StyleView",
      "description_width": ""
     }
    },
    "7c3e2b9e573142ac935b4a5ccbb9d989": {
     "model_module": "@jupyter-widgets/controls",
     "model_module_version": "1.5.0",
     "model_name": "HBoxModel",
     "state": {
      "_dom_classes": [],
      "_model_module": "@jupyter-widgets/controls",
      "_model_module_version": "1.5.0",
      "_model_name": "HBoxModel",
      "_view_count": null,
      "_view_module": "@jupyter-widgets/controls",
      "_view_module_version": "1.5.0",
      "_view_name": "HBoxView",
      "box_style": "",
      "children": [
       "IPY_MODEL_09c50ed9ae414fe08cc2934bc0b313d3",
       "IPY_MODEL_a8eec80629da496aa8234eb42d2a4e55",
       "IPY_MODEL_186a14ea9c8f40dc959592e79b54d4de"
      ],
      "layout": "IPY_MODEL_9e73abcf2a0540bd80c2373311f55cac"
     }
    },
    "7c71cff352ce49b8bb9cb100993eee0f": {
     "model_module": "@jupyter-widgets/controls",
     "model_module_version": "1.5.0",
     "model_name": "FloatProgressModel",
     "state": {
      "_dom_classes": [],
      "_model_module": "@jupyter-widgets/controls",
      "_model_module_version": "1.5.0",
      "_model_name": "FloatProgressModel",
      "_view_count": null,
      "_view_module": "@jupyter-widgets/controls",
      "_view_module_version": "1.5.0",
      "_view_name": "ProgressView",
      "bar_style": "success",
      "description": "",
      "description_tooltip": null,
      "layout": "IPY_MODEL_d7fa85a28ac74c1d97c65ecccd449fff",
      "max": 629,
      "min": 0,
      "orientation": "horizontal",
      "style": "IPY_MODEL_773d687209e341ab8391b3a89c3709be",
      "value": 629
     }
    },
    "7d3193cc7d954b39adf9cecf7d4e0382": {
     "model_module": "@jupyter-widgets/base",
     "model_module_version": "1.2.0",
     "model_name": "LayoutModel",
     "state": {
      "_model_module": "@jupyter-widgets/base",
      "_model_module_version": "1.2.0",
      "_model_name": "LayoutModel",
      "_view_count": null,
      "_view_module": "@jupyter-widgets/base",
      "_view_module_version": "1.2.0",
      "_view_name": "LayoutView",
      "align_content": null,
      "align_items": null,
      "align_self": null,
      "border": null,
      "bottom": null,
      "display": null,
      "flex": null,
      "flex_flow": null,
      "grid_area": null,
      "grid_auto_columns": null,
      "grid_auto_flow": null,
      "grid_auto_rows": null,
      "grid_column": null,
      "grid_gap": null,
      "grid_row": null,
      "grid_template_areas": null,
      "grid_template_columns": null,
      "grid_template_rows": null,
      "height": null,
      "justify_content": null,
      "justify_items": null,
      "left": null,
      "margin": null,
      "max_height": null,
      "max_width": null,
      "min_height": null,
      "min_width": null,
      "object_fit": null,
      "object_position": null,
      "order": null,
      "overflow": null,
      "overflow_x": null,
      "overflow_y": null,
      "padding": null,
      "right": null,
      "top": null,
      "visibility": null,
      "width": null
     }
    },
    "81e13eb1dd2a49cda5473a85b73275b7": {
     "model_module": "@jupyter-widgets/controls",
     "model_module_version": "1.5.0",
     "model_name": "FloatProgressModel",
     "state": {
      "_dom_classes": [],
      "_model_module": "@jupyter-widgets/controls",
      "_model_module_version": "1.5.0",
      "_model_name": "FloatProgressModel",
      "_view_count": null,
      "_view_module": "@jupyter-widgets/controls",
      "_view_module_version": "1.5.0",
      "_view_name": "ProgressView",
      "bar_style": "success",
      "description": "",
      "description_tooltip": null,
      "layout": "IPY_MODEL_44c051365e0443339baa1f09fe5700b6",
      "max": 466081,
      "min": 0,
      "orientation": "horizontal",
      "style": "IPY_MODEL_5d7e61a64fb141c9be6dbd061e306102",
      "value": 466081
     }
    },
    "825d9142473c4c7183c598c1df4adce5": {
     "model_module": "@jupyter-widgets/base",
     "model_module_version": "1.2.0",
     "model_name": "LayoutModel",
     "state": {
      "_model_module": "@jupyter-widgets/base",
      "_model_module_version": "1.2.0",
      "_model_name": "LayoutModel",
      "_view_count": null,
      "_view_module": "@jupyter-widgets/base",
      "_view_module_version": "1.2.0",
      "_view_name": "LayoutView",
      "align_content": null,
      "align_items": null,
      "align_self": null,
      "border": null,
      "bottom": null,
      "display": null,
      "flex": null,
      "flex_flow": null,
      "grid_area": null,
      "grid_auto_columns": null,
      "grid_auto_flow": null,
      "grid_auto_rows": null,
      "grid_column": null,
      "grid_gap": null,
      "grid_row": null,
      "grid_template_areas": null,
      "grid_template_columns": null,
      "grid_template_rows": null,
      "height": null,
      "justify_content": null,
      "justify_items": null,
      "left": null,
      "margin": null,
      "max_height": null,
      "max_width": null,
      "min_height": null,
      "min_width": null,
      "object_fit": null,
      "object_position": null,
      "order": null,
      "overflow": null,
      "overflow_x": null,
      "overflow_y": null,
      "padding": null,
      "right": null,
      "top": null,
      "visibility": null,
      "width": null
     }
    },
    "837c4a2c00a44053961e750e0198282a": {
     "model_module": "@jupyter-widgets/controls",
     "model_module_version": "1.5.0",
     "model_name": "HTMLModel",
     "state": {
      "_dom_classes": [],
      "_model_module": "@jupyter-widgets/controls",
      "_model_module_version": "1.5.0",
      "_model_name": "HTMLModel",
      "_view_count": null,
      "_view_module": "@jupyter-widgets/controls",
      "_view_module_version": "1.5.0",
      "_view_name": "HTMLView",
      "description": "",
      "description_tooltip": null,
      "layout": "IPY_MODEL_cef281cfc6234379bbc44221427c86bc",
      "placeholder": "​",
      "style": "IPY_MODEL_e892f26d2f1e4c9380afd0bcb7bd8f3b",
      "value": "README.md: 100%"
     }
    },
    "8486f4bac55847aabec08660bd1aa3ee": {
     "model_module": "@jupyter-widgets/controls",
     "model_module_version": "1.5.0",
     "model_name": "HBoxModel",
     "state": {
      "_dom_classes": [],
      "_model_module": "@jupyter-widgets/controls",
      "_model_module_version": "1.5.0",
      "_model_name": "HBoxModel",
      "_view_count": null,
      "_view_module": "@jupyter-widgets/controls",
      "_view_module_version": "1.5.0",
      "_view_name": "HBoxView",
      "box_style": "",
      "children": [
       "IPY_MODEL_fbb1e4a594404eda8871fb8b6602a266",
       "IPY_MODEL_ee59fd9cbb7d4967bf8f91d184a747e6",
       "IPY_MODEL_13535cd36389439c96be8d5ddc1758d6"
      ],
      "layout": "IPY_MODEL_69382528d9044d209cf28c7e77ad51d3"
     }
    },
    "85d2146fb66f4445bb2ee6202fca5adc": {
     "model_module": "@jupyter-widgets/base",
     "model_module_version": "1.2.0",
     "model_name": "LayoutModel",
     "state": {
      "_model_module": "@jupyter-widgets/base",
      "_model_module_version": "1.2.0",
      "_model_name": "LayoutModel",
      "_view_count": null,
      "_view_module": "@jupyter-widgets/base",
      "_view_module_version": "1.2.0",
      "_view_name": "LayoutView",
      "align_content": null,
      "align_items": null,
      "align_self": null,
      "border": null,
      "bottom": null,
      "display": null,
      "flex": null,
      "flex_flow": null,
      "grid_area": null,
      "grid_auto_columns": null,
      "grid_auto_flow": null,
      "grid_auto_rows": null,
      "grid_column": null,
      "grid_gap": null,
      "grid_row": null,
      "grid_template_areas": null,
      "grid_template_columns": null,
      "grid_template_rows": null,
      "height": null,
      "justify_content": null,
      "justify_items": null,
      "left": null,
      "margin": null,
      "max_height": null,
      "max_width": null,
      "min_height": null,
      "min_width": null,
      "object_fit": null,
      "object_position": null,
      "order": null,
      "overflow": null,
      "overflow_x": null,
      "overflow_y": null,
      "padding": null,
      "right": null,
      "top": null,
      "visibility": null,
      "width": null
     }
    },
    "8620382d3444437fb3c6c184ce119700": {
     "model_module": "@jupyter-widgets/controls",
     "model_module_version": "1.5.0",
     "model_name": "HTMLModel",
     "state": {
      "_dom_classes": [],
      "_model_module": "@jupyter-widgets/controls",
      "_model_module_version": "1.5.0",
      "_model_name": "HTMLModel",
      "_view_count": null,
      "_view_module": "@jupyter-widgets/controls",
      "_view_module_version": "1.5.0",
      "_view_name": "HTMLView",
      "description": "",
      "description_tooltip": null,
      "layout": "IPY_MODEL_38e8b22c401845fbab3825495bdeb42a",
      "placeholder": "​",
      "style": "IPY_MODEL_128ae31df2714d72b87e72be46bfd937",
      "value": " 3.73k/3.73k [00:00&lt;00:00, 335kB/s]"
     }
    },
    "869ef8d37bf544988f5011aed9aef058": {
     "model_module": "@jupyter-widgets/controls",
     "model_module_version": "1.5.0",
     "model_name": "HTMLModel",
     "state": {
      "_dom_classes": [],
      "_model_module": "@jupyter-widgets/controls",
      "_model_module_version": "1.5.0",
      "_model_name": "HTMLModel",
      "_view_count": null,
      "_view_module": "@jupyter-widgets/controls",
      "_view_module_version": "1.5.0",
      "_view_name": "HTMLView",
      "description": "",
      "description_tooltip": null,
      "layout": "IPY_MODEL_966bf80b59924421899efbaf91ae1937",
      "placeholder": "​",
      "style": "IPY_MODEL_a194e548c39744c687cbb2d69fdc1838",
      "value": "tokenizer.json: 100%"
     }
    },
    "8bdf4a37d4c447c1b438cf39532053ec": {
     "model_module": "@jupyter-widgets/base",
     "model_module_version": "1.2.0",
     "model_name": "LayoutModel",
     "state": {
      "_model_module": "@jupyter-widgets/base",
      "_model_module_version": "1.2.0",
      "_model_name": "LayoutModel",
      "_view_count": null,
      "_view_module": "@jupyter-widgets/base",
      "_view_module_version": "1.2.0",
      "_view_name": "LayoutView",
      "align_content": null,
      "align_items": null,
      "align_self": null,
      "border": null,
      "bottom": null,
      "display": null,
      "flex": null,
      "flex_flow": null,
      "grid_area": null,
      "grid_auto_columns": null,
      "grid_auto_flow": null,
      "grid_auto_rows": null,
      "grid_column": null,
      "grid_gap": null,
      "grid_row": null,
      "grid_template_areas": null,
      "grid_template_columns": null,
      "grid_template_rows": null,
      "height": null,
      "justify_content": null,
      "justify_items": null,
      "left": null,
      "margin": null,
      "max_height": null,
      "max_width": null,
      "min_height": null,
      "min_width": null,
      "object_fit": null,
      "object_position": null,
      "order": null,
      "overflow": null,
      "overflow_x": null,
      "overflow_y": null,
      "padding": null,
      "right": null,
      "top": null,
      "visibility": null,
      "width": null
     }
    },
    "8dc1bb70c9b243b9a11c5d173d3d50aa": {
     "model_module": "@jupyter-widgets/base",
     "model_module_version": "1.2.0",
     "model_name": "LayoutModel",
     "state": {
      "_model_module": "@jupyter-widgets/base",
      "_model_module_version": "1.2.0",
      "_model_name": "LayoutModel",
      "_view_count": null,
      "_view_module": "@jupyter-widgets/base",
      "_view_module_version": "1.2.0",
      "_view_name": "LayoutView",
      "align_content": null,
      "align_items": null,
      "align_self": null,
      "border": null,
      "bottom": null,
      "display": null,
      "flex": null,
      "flex_flow": null,
      "grid_area": null,
      "grid_auto_columns": null,
      "grid_auto_flow": null,
      "grid_auto_rows": null,
      "grid_column": null,
      "grid_gap": null,
      "grid_row": null,
      "grid_template_areas": null,
      "grid_template_columns": null,
      "grid_template_rows": null,
      "height": null,
      "justify_content": null,
      "justify_items": null,
      "left": null,
      "margin": null,
      "max_height": null,
      "max_width": null,
      "min_height": null,
      "min_width": null,
      "object_fit": null,
      "object_position": null,
      "order": null,
      "overflow": null,
      "overflow_x": null,
      "overflow_y": null,
      "padding": null,
      "right": null,
      "top": null,
      "visibility": null,
      "width": null
     }
    },
    "9300fd5a0a33473caa094c24374afff6": {
     "model_module": "@jupyter-widgets/controls",
     "model_module_version": "1.5.0",
     "model_name": "DescriptionStyleModel",
     "state": {
      "_model_module": "@jupyter-widgets/controls",
      "_model_module_version": "1.5.0",
      "_model_name": "DescriptionStyleModel",
      "_view_count": null,
      "_view_module": "@jupyter-widgets/base",
      "_view_module_version": "1.2.0",
      "_view_name": "StyleView",
      "description_width": ""
     }
    },
    "943fae88d11a429181f5622f186c3945": {
     "model_module": "@jupyter-widgets/base",
     "model_module_version": "1.2.0",
     "model_name": "LayoutModel",
     "state": {
      "_model_module": "@jupyter-widgets/base",
      "_model_module_version": "1.2.0",
      "_model_name": "LayoutModel",
      "_view_count": null,
      "_view_module": "@jupyter-widgets/base",
      "_view_module_version": "1.2.0",
      "_view_name": "LayoutView",
      "align_content": null,
      "align_items": null,
      "align_self": null,
      "border": null,
      "bottom": null,
      "display": null,
      "flex": null,
      "flex_flow": null,
      "grid_area": null,
      "grid_auto_columns": null,
      "grid_auto_flow": null,
      "grid_auto_rows": null,
      "grid_column": null,
      "grid_gap": null,
      "grid_row": null,
      "grid_template_areas": null,
      "grid_template_columns": null,
      "grid_template_rows": null,
      "height": null,
      "justify_content": null,
      "justify_items": null,
      "left": null,
      "margin": null,
      "max_height": null,
      "max_width": null,
      "min_height": null,
      "min_width": null,
      "object_fit": null,
      "object_position": null,
      "order": null,
      "overflow": null,
      "overflow_x": null,
      "overflow_y": null,
      "padding": null,
      "right": null,
      "top": null,
      "visibility": null,
      "width": null
     }
    },
    "95e42e220b614601b2de8d10f74b94c6": {
     "model_module": "@jupyter-widgets/controls",
     "model_module_version": "1.5.0",
     "model_name": "FloatProgressModel",
     "state": {
      "_dom_classes": [],
      "_model_module": "@jupyter-widgets/controls",
      "_model_module_version": "1.5.0",
      "_model_name": "FloatProgressModel",
      "_view_count": null,
      "_view_module": "@jupyter-widgets/controls",
      "_view_module_version": "1.5.0",
      "_view_name": "ProgressView",
      "bar_style": "success",
      "description": "",
      "description_tooltip": null,
      "layout": "IPY_MODEL_00574b5e71b049ec86d42bc066a0fd26",
      "max": 3729,
      "min": 0,
      "orientation": "horizontal",
      "style": "IPY_MODEL_e561f34cdbd0401aacab74bfafce236c",
      "value": 3729
     }
    },
    "966bf80b59924421899efbaf91ae1937": {
     "model_module": "@jupyter-widgets/base",
     "model_module_version": "1.2.0",
     "model_name": "LayoutModel",
     "state": {
      "_model_module": "@jupyter-widgets/base",
      "_model_module_version": "1.2.0",
      "_model_name": "LayoutModel",
      "_view_count": null,
      "_view_module": "@jupyter-widgets/base",
      "_view_module_version": "1.2.0",
      "_view_name": "LayoutView",
      "align_content": null,
      "align_items": null,
      "align_self": null,
      "border": null,
      "bottom": null,
      "display": null,
      "flex": null,
      "flex_flow": null,
      "grid_area": null,
      "grid_auto_columns": null,
      "grid_auto_flow": null,
      "grid_auto_rows": null,
      "grid_column": null,
      "grid_gap": null,
      "grid_row": null,
      "grid_template_areas": null,
      "grid_template_columns": null,
      "grid_template_rows": null,
      "height": null,
      "justify_content": null,
      "justify_items": null,
      "left": null,
      "margin": null,
      "max_height": null,
      "max_width": null,
      "min_height": null,
      "min_width": null,
      "object_fit": null,
      "object_position": null,
      "order": null,
      "overflow": null,
      "overflow_x": null,
      "overflow_y": null,
      "padding": null,
      "right": null,
      "top": null,
      "visibility": null,
      "width": null
     }
    },
    "99ab6c916ac64c67866320814ad9d085": {
     "model_module": "@jupyter-widgets/controls",
     "model_module_version": "1.5.0",
     "model_name": "DescriptionStyleModel",
     "state": {
      "_model_module": "@jupyter-widgets/controls",
      "_model_module_version": "1.5.0",
      "_model_name": "DescriptionStyleModel",
      "_view_count": null,
      "_view_module": "@jupyter-widgets/base",
      "_view_module_version": "1.2.0",
      "_view_name": "StyleView",
      "description_width": ""
     }
    },
    "9b4802951ebc4af1a4354386a668c38b": {
     "model_module": "@jupyter-widgets/controls",
     "model_module_version": "1.5.0",
     "model_name": "DescriptionStyleModel",
     "state": {
      "_model_module": "@jupyter-widgets/controls",
      "_model_module_version": "1.5.0",
      "_model_name": "DescriptionStyleModel",
      "_view_count": null,
      "_view_module": "@jupyter-widgets/base",
      "_view_module_version": "1.2.0",
      "_view_name": "StyleView",
      "description_width": ""
     }
    },
    "9c4fe19618b84aa1b8e98172d022ccad": {
     "model_module": "@jupyter-widgets/controls",
     "model_module_version": "1.5.0",
     "model_name": "HTMLModel",
     "state": {
      "_dom_classes": [],
      "_model_module": "@jupyter-widgets/controls",
      "_model_module_version": "1.5.0",
      "_model_name": "HTMLModel",
      "_view_count": null,
      "_view_module": "@jupyter-widgets/controls",
      "_view_module_version": "1.5.0",
      "_view_name": "HTMLView",
      "description": "",
      "description_tooltip": null,
      "layout": "IPY_MODEL_121d87d7fd1041568a5309de4eb83108",
      "placeholder": "​",
      "style": "IPY_MODEL_f621ca910a3742bdb5bd42123648ff1e",
      "value": " 90.9M/90.9M [00:00&lt;00:00, 217MB/s]"
     }
    },
    "9c788e9edc424e3cbbee45933fd317df": {
     "model_module": "@jupyter-widgets/controls",
     "model_module_version": "1.5.0",
     "model_name": "FloatProgressModel",
     "state": {
      "_dom_classes": [],
      "_model_module": "@jupyter-widgets/controls",
      "_model_module_version": "1.5.0",
      "_model_name": "FloatProgressModel",
      "_view_count": null,
      "_view_module": "@jupyter-widgets/controls",
      "_view_module_version": "1.5.0",
      "_view_name": "ProgressView",
      "bar_style": "success",
      "description": "",
      "description_tooltip": null,
      "layout": "IPY_MODEL_8bdf4a37d4c447c1b438cf39532053ec",
      "max": 112,
      "min": 0,
      "orientation": "horizontal",
      "style": "IPY_MODEL_ef9692880f7d494ca748cd9e829e8e75",
      "value": 112
     }
    },
    "9cde4aec7f6a4220a2986e64f5a4f329": {
     "model_module": "@jupyter-widgets/controls",
     "model_module_version": "1.5.0",
     "model_name": "ProgressStyleModel",
     "state": {
      "_model_module": "@jupyter-widgets/controls",
      "_model_module_version": "1.5.0",
      "_model_name": "ProgressStyleModel",
      "_view_count": null,
      "_view_module": "@jupyter-widgets/base",
      "_view_module_version": "1.2.0",
      "_view_name": "StyleView",
      "bar_color": null,
      "description_width": ""
     }
    },
    "9d9e74181ffb4d68b3b625038af0d280": {
     "model_module": "@jupyter-widgets/controls",
     "model_module_version": "1.5.0",
     "model_name": "FloatProgressModel",
     "state": {
      "_dom_classes": [],
      "_model_module": "@jupyter-widgets/controls",
      "_model_module_version": "1.5.0",
      "_model_name": "FloatProgressModel",
      "_view_count": null,
      "_view_module": "@jupyter-widgets/controls",
      "_view_module_version": "1.5.0",
      "_view_name": "ProgressView",
      "bar_style": "success",
      "description": "",
      "description_tooltip": null,
      "layout": "IPY_MODEL_8dc1bb70c9b243b9a11c5d173d3d50aa",
      "max": 229,
      "min": 0,
      "orientation": "horizontal",
      "style": "IPY_MODEL_39c057721765432bbc57cccc7ebce091",
      "value": 229
     }
    },
    "9e73abcf2a0540bd80c2373311f55cac": {
     "model_module": "@jupyter-widgets/base",
     "model_module_version": "1.2.0",
     "model_name": "LayoutModel",
     "state": {
      "_model_module": "@jupyter-widgets/base",
      "_model_module_version": "1.2.0",
      "_model_name": "LayoutModel",
      "_view_count": null,
      "_view_module": "@jupyter-widgets/base",
      "_view_module_version": "1.2.0",
      "_view_name": "LayoutView",
      "align_content": null,
      "align_items": null,
      "align_self": null,
      "border": null,
      "bottom": null,
      "display": null,
      "flex": null,
      "flex_flow": null,
      "grid_area": null,
      "grid_auto_columns": null,
      "grid_auto_flow": null,
      "grid_auto_rows": null,
      "grid_column": null,
      "grid_gap": null,
      "grid_row": null,
      "grid_template_areas": null,
      "grid_template_columns": null,
      "grid_template_rows": null,
      "height": null,
      "justify_content": null,
      "justify_items": null,
      "left": null,
      "margin": null,
      "max_height": null,
      "max_width": null,
      "min_height": null,
      "min_width": null,
      "object_fit": null,
      "object_position": null,
      "order": null,
      "overflow": null,
      "overflow_x": null,
      "overflow_y": null,
      "padding": null,
      "right": null,
      "top": null,
      "visibility": null,
      "width": null
     }
    },
    "a184986122f44b698d4111641e02c632": {
     "model_module": "@jupyter-widgets/controls",
     "model_module_version": "1.5.0",
     "model_name": "ProgressStyleModel",
     "state": {
      "_model_module": "@jupyter-widgets/controls",
      "_model_module_version": "1.5.0",
      "_model_name": "ProgressStyleModel",
      "_view_count": null,
      "_view_module": "@jupyter-widgets/base",
      "_view_module_version": "1.2.0",
      "_view_name": "StyleView",
      "bar_color": null,
      "description_width": ""
     }
    },
    "a194e548c39744c687cbb2d69fdc1838": {
     "model_module": "@jupyter-widgets/controls",
     "model_module_version": "1.5.0",
     "model_name": "DescriptionStyleModel",
     "state": {
      "_model_module": "@jupyter-widgets/controls",
      "_model_module_version": "1.5.0",
      "_model_name": "DescriptionStyleModel",
      "_view_count": null,
      "_view_module": "@jupyter-widgets/base",
      "_view_module_version": "1.2.0",
      "_view_name": "StyleView",
      "description_width": ""
     }
    },
    "a1d2c780fe4d44739807a34d2e876212": {
     "model_module": "@jupyter-widgets/controls",
     "model_module_version": "1.5.0",
     "model_name": "DescriptionStyleModel",
     "state": {
      "_model_module": "@jupyter-widgets/controls",
      "_model_module_version": "1.5.0",
      "_model_name": "DescriptionStyleModel",
      "_view_count": null,
      "_view_module": "@jupyter-widgets/base",
      "_view_module_version": "1.2.0",
      "_view_name": "StyleView",
      "description_width": ""
     }
    },
    "a42457ae15644bbfbaa8c21ce93ed004": {
     "model_module": "@jupyter-widgets/base",
     "model_module_version": "1.2.0",
     "model_name": "LayoutModel",
     "state": {
      "_model_module": "@jupyter-widgets/base",
      "_model_module_version": "1.2.0",
      "_model_name": "LayoutModel",
      "_view_count": null,
      "_view_module": "@jupyter-widgets/base",
      "_view_module_version": "1.2.0",
      "_view_name": "LayoutView",
      "align_content": null,
      "align_items": null,
      "align_self": null,
      "border": null,
      "bottom": null,
      "display": null,
      "flex": null,
      "flex_flow": null,
      "grid_area": null,
      "grid_auto_columns": null,
      "grid_auto_flow": null,
      "grid_auto_rows": null,
      "grid_column": null,
      "grid_gap": null,
      "grid_row": null,
      "grid_template_areas": null,
      "grid_template_columns": null,
      "grid_template_rows": null,
      "height": null,
      "justify_content": null,
      "justify_items": null,
      "left": null,
      "margin": null,
      "max_height": null,
      "max_width": null,
      "min_height": null,
      "min_width": null,
      "object_fit": null,
      "object_position": null,
      "order": null,
      "overflow": null,
      "overflow_x": null,
      "overflow_y": null,
      "padding": null,
      "right": null,
      "top": null,
      "visibility": null,
      "width": null
     }
    },
    "a4750596f5314ff79cb35a625e5ce3fc": {
     "model_module": "@jupyter-widgets/base",
     "model_module_version": "1.2.0",
     "model_name": "LayoutModel",
     "state": {
      "_model_module": "@jupyter-widgets/base",
      "_model_module_version": "1.2.0",
      "_model_name": "LayoutModel",
      "_view_count": null,
      "_view_module": "@jupyter-widgets/base",
      "_view_module_version": "1.2.0",
      "_view_name": "LayoutView",
      "align_content": null,
      "align_items": null,
      "align_self": null,
      "border": null,
      "bottom": null,
      "display": null,
      "flex": null,
      "flex_flow": null,
      "grid_area": null,
      "grid_auto_columns": null,
      "grid_auto_flow": null,
      "grid_auto_rows": null,
      "grid_column": null,
      "grid_gap": null,
      "grid_row": null,
      "grid_template_areas": null,
      "grid_template_columns": null,
      "grid_template_rows": null,
      "height": null,
      "justify_content": null,
      "justify_items": null,
      "left": null,
      "margin": null,
      "max_height": null,
      "max_width": null,
      "min_height": null,
      "min_width": null,
      "object_fit": null,
      "object_position": null,
      "order": null,
      "overflow": null,
      "overflow_x": null,
      "overflow_y": null,
      "padding": null,
      "right": null,
      "top": null,
      "visibility": null,
      "width": null
     }
    },
    "a5e1d9b6ad3e4e9a903ddfbaee062242": {
     "model_module": "@jupyter-widgets/controls",
     "model_module_version": "1.5.0",
     "model_name": "DescriptionStyleModel",
     "state": {
      "_model_module": "@jupyter-widgets/controls",
      "_model_module_version": "1.5.0",
      "_model_name": "DescriptionStyleModel",
      "_view_count": null,
      "_view_module": "@jupyter-widgets/base",
      "_view_module_version": "1.2.0",
      "_view_name": "StyleView",
      "description_width": ""
     }
    },
    "a634235108184548a3e91261abbd0f9e": {
     "model_module": "@jupyter-widgets/controls",
     "model_module_version": "1.5.0",
     "model_name": "HBoxModel",
     "state": {
      "_dom_classes": [],
      "_model_module": "@jupyter-widgets/controls",
      "_model_module_version": "1.5.0",
      "_model_name": "HBoxModel",
      "_view_count": null,
      "_view_module": "@jupyter-widgets/controls",
      "_view_module_version": "1.5.0",
      "_view_name": "HBoxView",
      "box_style": "",
      "children": [
       "IPY_MODEL_4456144ac1f14298ab488203984e7894",
       "IPY_MODEL_9d9e74181ffb4d68b3b625038af0d280",
       "IPY_MODEL_aeac99dd5d2341febb5e40109208d3ca"
      ],
      "layout": "IPY_MODEL_ece4c8ab5ef74764860fa9ec53120a76"
     }
    },
    "a881e718ca5b474694bd50c5cfbd668c": {
     "model_module": "@jupyter-widgets/controls",
     "model_module_version": "1.5.0",
     "model_name": "ProgressStyleModel",
     "state": {
      "_model_module": "@jupyter-widgets/controls",
      "_model_module_version": "1.5.0",
      "_model_name": "ProgressStyleModel",
      "_view_count": null,
      "_view_module": "@jupyter-widgets/base",
      "_view_module_version": "1.2.0",
      "_view_name": "StyleView",
      "bar_color": null,
      "description_width": ""
     }
    },
    "a8eec80629da496aa8234eb42d2a4e55": {
     "model_module": "@jupyter-widgets/controls",
     "model_module_version": "1.5.0",
     "model_name": "FloatProgressModel",
     "state": {
      "_dom_classes": [],
      "_model_module": "@jupyter-widgets/controls",
      "_model_module_version": "1.5.0",
      "_model_name": "FloatProgressModel",
      "_view_count": null,
      "_view_module": "@jupyter-widgets/controls",
      "_view_module_version": "1.5.0",
      "_view_name": "ProgressView",
      "bar_style": "success",
      "description": "",
      "description_tooltip": null,
      "layout": "IPY_MODEL_0bf97bd7951b4239a08d433567199cf9",
      "max": 190,
      "min": 0,
      "orientation": "horizontal",
      "style": "IPY_MODEL_a881e718ca5b474694bd50c5cfbd668c",
      "value": 190
     }
    },
    "a9812af05ec54beda8944ff28b114154": {
     "model_module": "@jupyter-widgets/base",
     "model_module_version": "1.2.0",
     "model_name": "LayoutModel",
     "state": {
      "_model_module": "@jupyter-widgets/base",
      "_model_module_version": "1.2.0",
      "_model_name": "LayoutModel",
      "_view_count": null,
      "_view_module": "@jupyter-widgets/base",
      "_view_module_version": "1.2.0",
      "_view_name": "LayoutView",
      "align_content": null,
      "align_items": null,
      "align_self": null,
      "border": null,
      "bottom": null,
      "display": null,
      "flex": null,
      "flex_flow": null,
      "grid_area": null,
      "grid_auto_columns": null,
      "grid_auto_flow": null,
      "grid_auto_rows": null,
      "grid_column": null,
      "grid_gap": null,
      "grid_row": null,
      "grid_template_areas": null,
      "grid_template_columns": null,
      "grid_template_rows": null,
      "height": null,
      "justify_content": null,
      "justify_items": null,
      "left": null,
      "margin": null,
      "max_height": null,
      "max_width": null,
      "min_height": null,
      "min_width": null,
      "object_fit": null,
      "object_position": null,
      "order": null,
      "overflow": null,
      "overflow_x": null,
      "overflow_y": null,
      "padding": null,
      "right": null,
      "top": null,
      "visibility": null,
      "width": null
     }
    },
    "add4280e788c40efae79ef3d1f8c419c": {
     "model_module": "@jupyter-widgets/controls",
     "model_module_version": "1.5.0",
     "model_name": "FloatProgressModel",
     "state": {
      "_dom_classes": [],
      "_model_module": "@jupyter-widgets/controls",
      "_model_module_version": "1.5.0",
      "_model_name": "FloatProgressModel",
      "_view_count": null,
      "_view_module": "@jupyter-widgets/controls",
      "_view_module_version": "1.5.0",
      "_view_name": "ProgressView",
      "bar_style": "success",
      "description": "",
      "description_tooltip": null,
      "layout": "IPY_MODEL_85d2146fb66f4445bb2ee6202fca5adc",
      "max": 53,
      "min": 0,
      "orientation": "horizontal",
      "style": "IPY_MODEL_a184986122f44b698d4111641e02c632",
      "value": 53
     }
    },
    "aeac99dd5d2341febb5e40109208d3ca": {
     "model_module": "@jupyter-widgets/controls",
     "model_module_version": "1.5.0",
     "model_name": "HTMLModel",
     "state": {
      "_dom_classes": [],
      "_model_module": "@jupyter-widgets/controls",
      "_model_module_version": "1.5.0",
      "_model_name": "HTMLModel",
      "_view_count": null,
      "_view_module": "@jupyter-widgets/controls",
      "_view_module_version": "1.5.0",
      "_view_name": "HTMLView",
      "description": "",
      "description_tooltip": null,
      "layout": "IPY_MODEL_2b14fc5aed8e42edb59c8534529dde8e",
      "placeholder": "​",
      "style": "IPY_MODEL_139754d46ecf4820afb8fdbf6561ccb0",
      "value": " 229/229 [00:00&lt;00:00, 18.9kB/s]"
     }
    },
    "b0539088909f4d53905d3042b70d6284": {
     "model_module": "@jupyter-widgets/controls",
     "model_module_version": "1.5.0",
     "model_name": "DescriptionStyleModel",
     "state": {
      "_model_module": "@jupyter-widgets/controls",
      "_model_module_version": "1.5.0",
      "_model_name": "DescriptionStyleModel",
      "_view_count": null,
      "_view_module": "@jupyter-widgets/base",
      "_view_module_version": "1.2.0",
      "_view_name": "StyleView",
      "description_width": ""
     }
    },
    "b08c8cb203104ac7a75dfcb5a94fed56": {
     "model_module": "@jupyter-widgets/base",
     "model_module_version": "1.2.0",
     "model_name": "LayoutModel",
     "state": {
      "_model_module": "@jupyter-widgets/base",
      "_model_module_version": "1.2.0",
      "_model_name": "LayoutModel",
      "_view_count": null,
      "_view_module": "@jupyter-widgets/base",
      "_view_module_version": "1.2.0",
      "_view_name": "LayoutView",
      "align_content": null,
      "align_items": null,
      "align_self": null,
      "border": null,
      "bottom": null,
      "display": null,
      "flex": null,
      "flex_flow": null,
      "grid_area": null,
      "grid_auto_columns": null,
      "grid_auto_flow": null,
      "grid_auto_rows": null,
      "grid_column": null,
      "grid_gap": null,
      "grid_row": null,
      "grid_template_areas": null,
      "grid_template_columns": null,
      "grid_template_rows": null,
      "height": null,
      "justify_content": null,
      "justify_items": null,
      "left": null,
      "margin": null,
      "max_height": null,
      "max_width": null,
      "min_height": null,
      "min_width": null,
      "object_fit": null,
      "object_position": null,
      "order": null,
      "overflow": null,
      "overflow_x": null,
      "overflow_y": null,
      "padding": null,
      "right": null,
      "top": null,
      "visibility": null,
      "width": null
     }
    },
    "b700350c7fe84f07ac4543c5960e4f66": {
     "model_module": "@jupyter-widgets/controls",
     "model_module_version": "1.5.0",
     "model_name": "HBoxModel",
     "state": {
      "_dom_classes": [],
      "_model_module": "@jupyter-widgets/controls",
      "_model_module_version": "1.5.0",
      "_model_name": "HBoxModel",
      "_view_count": null,
      "_view_module": "@jupyter-widgets/controls",
      "_view_module_version": "1.5.0",
      "_view_name": "HBoxView",
      "box_style": "",
      "children": [
       "IPY_MODEL_42fd21871e09422da3d44b2d5d2ccfcf",
       "IPY_MODEL_54efc91bba6c4a958d728000457ca5cd",
       "IPY_MODEL_675ad52668164eec85a563dafb5ca4fe"
      ],
      "layout": "IPY_MODEL_b08c8cb203104ac7a75dfcb5a94fed56"
     }
    },
    "b788e1b6c321465480003729665e1c49": {
     "model_module": "@jupyter-widgets/base",
     "model_module_version": "1.2.0",
     "model_name": "LayoutModel",
     "state": {
      "_model_module": "@jupyter-widgets/base",
      "_model_module_version": "1.2.0",
      "_model_name": "LayoutModel",
      "_view_count": null,
      "_view_module": "@jupyter-widgets/base",
      "_view_module_version": "1.2.0",
      "_view_name": "LayoutView",
      "align_content": null,
      "align_items": null,
      "align_self": null,
      "border": null,
      "bottom": null,
      "display": null,
      "flex": null,
      "flex_flow": null,
      "grid_area": null,
      "grid_auto_columns": null,
      "grid_auto_flow": null,
      "grid_auto_rows": null,
      "grid_column": null,
      "grid_gap": null,
      "grid_row": null,
      "grid_template_areas": null,
      "grid_template_columns": null,
      "grid_template_rows": null,
      "height": null,
      "justify_content": null,
      "justify_items": null,
      "left": null,
      "margin": null,
      "max_height": null,
      "max_width": null,
      "min_height": null,
      "min_width": null,
      "object_fit": null,
      "object_position": null,
      "order": null,
      "overflow": null,
      "overflow_x": null,
      "overflow_y": null,
      "padding": null,
      "right": null,
      "top": null,
      "visibility": null,
      "width": null
     }
    },
    "bfa2c8a2179c415ca383fd28882dcaf3": {
     "model_module": "@jupyter-widgets/base",
     "model_module_version": "1.2.0",
     "model_name": "LayoutModel",
     "state": {
      "_model_module": "@jupyter-widgets/base",
      "_model_module_version": "1.2.0",
      "_model_name": "LayoutModel",
      "_view_count": null,
      "_view_module": "@jupyter-widgets/base",
      "_view_module_version": "1.2.0",
      "_view_name": "LayoutView",
      "align_content": null,
      "align_items": null,
      "align_self": null,
      "border": null,
      "bottom": null,
      "display": null,
      "flex": null,
      "flex_flow": null,
      "grid_area": null,
      "grid_auto_columns": null,
      "grid_auto_flow": null,
      "grid_auto_rows": null,
      "grid_column": null,
      "grid_gap": null,
      "grid_row": null,
      "grid_template_areas": null,
      "grid_template_columns": null,
      "grid_template_rows": null,
      "height": null,
      "justify_content": null,
      "justify_items": null,
      "left": null,
      "margin": null,
      "max_height": null,
      "max_width": null,
      "min_height": null,
      "min_width": null,
      "object_fit": null,
      "object_position": null,
      "order": null,
      "overflow": null,
      "overflow_x": null,
      "overflow_y": null,
      "padding": null,
      "right": null,
      "top": null,
      "visibility": null,
      "width": null
     }
    },
    "c3853b06827c4e81ba1f3dc79fd15729": {
     "model_module": "@jupyter-widgets/base",
     "model_module_version": "1.2.0",
     "model_name": "LayoutModel",
     "state": {
      "_model_module": "@jupyter-widgets/base",
      "_model_module_version": "1.2.0",
      "_model_name": "LayoutModel",
      "_view_count": null,
      "_view_module": "@jupyter-widgets/base",
      "_view_module_version": "1.2.0",
      "_view_name": "LayoutView",
      "align_content": null,
      "align_items": null,
      "align_self": null,
      "border": null,
      "bottom": null,
      "display": null,
      "flex": null,
      "flex_flow": null,
      "grid_area": null,
      "grid_auto_columns": null,
      "grid_auto_flow": null,
      "grid_auto_rows": null,
      "grid_column": null,
      "grid_gap": null,
      "grid_row": null,
      "grid_template_areas": null,
      "grid_template_columns": null,
      "grid_template_rows": null,
      "height": null,
      "justify_content": null,
      "justify_items": null,
      "left": null,
      "margin": null,
      "max_height": null,
      "max_width": null,
      "min_height": null,
      "min_width": null,
      "object_fit": null,
      "object_position": null,
      "order": null,
      "overflow": null,
      "overflow_x": null,
      "overflow_y": null,
      "padding": null,
      "right": null,
      "top": null,
      "visibility": null,
      "width": null
     }
    },
    "c60bd06dda7647fa9c7e4a955029e780": {
     "model_module": "@jupyter-widgets/controls",
     "model_module_version": "1.5.0",
     "model_name": "FloatProgressModel",
     "state": {
      "_dom_classes": [],
      "_model_module": "@jupyter-widgets/controls",
      "_model_module_version": "1.5.0",
      "_model_name": "FloatProgressModel",
      "_view_count": null,
      "_view_module": "@jupyter-widgets/controls",
      "_view_module_version": "1.5.0",
      "_view_name": "ProgressView",
      "bar_style": "success",
      "description": "",
      "description_tooltip": null,
      "layout": "IPY_MODEL_cdd6f35cb0ae4f4291075d12c261a1b5",
      "max": 314,
      "min": 0,
      "orientation": "horizontal",
      "style": "IPY_MODEL_9cde4aec7f6a4220a2986e64f5a4f329",
      "value": 314
     }
    },
    "c67f1a06a12a4b7b90903fc9b11fc6d0": {
     "model_module": "@jupyter-widgets/base",
     "model_module_version": "1.2.0",
     "model_name": "LayoutModel",
     "state": {
      "_model_module": "@jupyter-widgets/base",
      "_model_module_version": "1.2.0",
      "_model_name": "LayoutModel",
      "_view_count": null,
      "_view_module": "@jupyter-widgets/base",
      "_view_module_version": "1.2.0",
      "_view_name": "LayoutView",
      "align_content": null,
      "align_items": null,
      "align_self": null,
      "border": null,
      "bottom": null,
      "display": null,
      "flex": null,
      "flex_flow": null,
      "grid_area": null,
      "grid_auto_columns": null,
      "grid_auto_flow": null,
      "grid_auto_rows": null,
      "grid_column": null,
      "grid_gap": null,
      "grid_row": null,
      "grid_template_areas": null,
      "grid_template_columns": null,
      "grid_template_rows": null,
      "height": null,
      "justify_content": null,
      "justify_items": null,
      "left": null,
      "margin": null,
      "max_height": null,
      "max_width": null,
      "min_height": null,
      "min_width": null,
      "object_fit": null,
      "object_position": null,
      "order": null,
      "overflow": null,
      "overflow_x": null,
      "overflow_y": null,
      "padding": null,
      "right": null,
      "top": null,
      "visibility": null,
      "width": null
     }
    },
    "cbaee495f98444b78670a9a473459bfc": {
     "model_module": "@jupyter-widgets/controls",
     "model_module_version": "1.5.0",
     "model_name": "DescriptionStyleModel",
     "state": {
      "_model_module": "@jupyter-widgets/controls",
      "_model_module_version": "1.5.0",
      "_model_name": "DescriptionStyleModel",
      "_view_count": null,
      "_view_module": "@jupyter-widgets/base",
      "_view_module_version": "1.2.0",
      "_view_name": "StyleView",
      "description_width": ""
     }
    },
    "cdd6f35cb0ae4f4291075d12c261a1b5": {
     "model_module": "@jupyter-widgets/base",
     "model_module_version": "1.2.0",
     "model_name": "LayoutModel",
     "state": {
      "_model_module": "@jupyter-widgets/base",
      "_model_module_version": "1.2.0",
      "_model_name": "LayoutModel",
      "_view_count": null,
      "_view_module": "@jupyter-widgets/base",
      "_view_module_version": "1.2.0",
      "_view_name": "LayoutView",
      "align_content": null,
      "align_items": null,
      "align_self": null,
      "border": null,
      "bottom": null,
      "display": null,
      "flex": null,
      "flex_flow": null,
      "grid_area": null,
      "grid_auto_columns": null,
      "grid_auto_flow": null,
      "grid_auto_rows": null,
      "grid_column": null,
      "grid_gap": null,
      "grid_row": null,
      "grid_template_areas": null,
      "grid_template_columns": null,
      "grid_template_rows": null,
      "height": null,
      "justify_content": null,
      "justify_items": null,
      "left": null,
      "margin": null,
      "max_height": null,
      "max_width": null,
      "min_height": null,
      "min_width": null,
      "object_fit": null,
      "object_position": null,
      "order": null,
      "overflow": null,
      "overflow_x": null,
      "overflow_y": null,
      "padding": null,
      "right": null,
      "top": null,
      "visibility": null,
      "width": null
     }
    },
    "ce9b4b39b43d41cebc2e328264be27ff": {
     "model_module": "@jupyter-widgets/controls",
     "model_module_version": "1.5.0",
     "model_name": "HBoxModel",
     "state": {
      "_dom_classes": [],
      "_model_module": "@jupyter-widgets/controls",
      "_model_module_version": "1.5.0",
      "_model_name": "HBoxModel",
      "_view_count": null,
      "_view_module": "@jupyter-widgets/controls",
      "_view_module_version": "1.5.0",
      "_view_name": "HBoxView",
      "box_style": "",
      "children": [
       "IPY_MODEL_73f813d89f414641922d3fee31c6c89d",
       "IPY_MODEL_fbd96033a927491c9c26d62c4a1a52b8",
       "IPY_MODEL_9c4fe19618b84aa1b8e98172d022ccad"
      ],
      "layout": "IPY_MODEL_7238b1524ac645d7a0dde5dd6b27490d"
     }
    },
    "cef281cfc6234379bbc44221427c86bc": {
     "model_module": "@jupyter-widgets/base",
     "model_module_version": "1.2.0",
     "model_name": "LayoutModel",
     "state": {
      "_model_module": "@jupyter-widgets/base",
      "_model_module_version": "1.2.0",
      "_model_name": "LayoutModel",
      "_view_count": null,
      "_view_module": "@jupyter-widgets/base",
      "_view_module_version": "1.2.0",
      "_view_name": "LayoutView",
      "align_content": null,
      "align_items": null,
      "align_self": null,
      "border": null,
      "bottom": null,
      "display": null,
      "flex": null,
      "flex_flow": null,
      "grid_area": null,
      "grid_auto_columns": null,
      "grid_auto_flow": null,
      "grid_auto_rows": null,
      "grid_column": null,
      "grid_gap": null,
      "grid_row": null,
      "grid_template_areas": null,
      "grid_template_columns": null,
      "grid_template_rows": null,
      "height": null,
      "justify_content": null,
      "justify_items": null,
      "left": null,
      "margin": null,
      "max_height": null,
      "max_width": null,
      "min_height": null,
      "min_width": null,
      "object_fit": null,
      "object_position": null,
      "order": null,
      "overflow": null,
      "overflow_x": null,
      "overflow_y": null,
      "padding": null,
      "right": null,
      "top": null,
      "visibility": null,
      "width": null
     }
    },
    "d101c803937e4a1c99fb1e5f600d04d7": {
     "model_module": "@jupyter-widgets/base",
     "model_module_version": "1.2.0",
     "model_name": "LayoutModel",
     "state": {
      "_model_module": "@jupyter-widgets/base",
      "_model_module_version": "1.2.0",
      "_model_name": "LayoutModel",
      "_view_count": null,
      "_view_module": "@jupyter-widgets/base",
      "_view_module_version": "1.2.0",
      "_view_name": "LayoutView",
      "align_content": null,
      "align_items": null,
      "align_self": null,
      "border": null,
      "bottom": null,
      "display": null,
      "flex": null,
      "flex_flow": null,
      "grid_area": null,
      "grid_auto_columns": null,
      "grid_auto_flow": null,
      "grid_auto_rows": null,
      "grid_column": null,
      "grid_gap": null,
      "grid_row": null,
      "grid_template_areas": null,
      "grid_template_columns": null,
      "grid_template_rows": null,
      "height": null,
      "justify_content": null,
      "justify_items": null,
      "left": null,
      "margin": null,
      "max_height": null,
      "max_width": null,
      "min_height": null,
      "min_width": null,
      "object_fit": null,
      "object_position": null,
      "order": null,
      "overflow": null,
      "overflow_x": null,
      "overflow_y": null,
      "padding": null,
      "right": null,
      "top": null,
      "visibility": null,
      "width": null
     }
    },
    "d194f6bf0a7044cfb5d3adb17aee8ad3": {
     "model_module": "@jupyter-widgets/controls",
     "model_module_version": "1.5.0",
     "model_name": "DescriptionStyleModel",
     "state": {
      "_model_module": "@jupyter-widgets/controls",
      "_model_module_version": "1.5.0",
      "_model_name": "DescriptionStyleModel",
      "_view_count": null,
      "_view_module": "@jupyter-widgets/base",
      "_view_module_version": "1.2.0",
      "_view_name": "StyleView",
      "description_width": ""
     }
    },
    "d3ae5588592d434da95d0a1f45170fe3": {
     "model_module": "@jupyter-widgets/controls",
     "model_module_version": "1.5.0",
     "model_name": "DescriptionStyleModel",
     "state": {
      "_model_module": "@jupyter-widgets/controls",
      "_model_module_version": "1.5.0",
      "_model_name": "DescriptionStyleModel",
      "_view_count": null,
      "_view_module": "@jupyter-widgets/base",
      "_view_module_version": "1.2.0",
      "_view_name": "StyleView",
      "description_width": ""
     }
    },
    "d477f3957a8e4891be61be085b978f80": {
     "model_module": "@jupyter-widgets/controls",
     "model_module_version": "1.5.0",
     "model_name": "HTMLModel",
     "state": {
      "_dom_classes": [],
      "_model_module": "@jupyter-widgets/controls",
      "_model_module_version": "1.5.0",
      "_model_name": "HTMLModel",
      "_view_count": null,
      "_view_module": "@jupyter-widgets/controls",
      "_view_module_version": "1.5.0",
      "_view_name": "HTMLView",
      "description": "",
      "description_tooltip": null,
      "layout": "IPY_MODEL_b788e1b6c321465480003729665e1c49",
      "placeholder": "​",
      "style": "IPY_MODEL_1a10fcf3fa224fd692bb06d9579e2667",
      "value": " 2/2 [00:12&lt;00:00,  5.82s/it]"
     }
    },
    "d65083be2ed94bd3b91a73de888d0dd2": {
     "model_module": "@jupyter-widgets/controls",
     "model_module_version": "1.5.0",
     "model_name": "HTMLModel",
     "state": {
      "_dom_classes": [],
      "_model_module": "@jupyter-widgets/controls",
      "_model_module_version": "1.5.0",
      "_model_name": "HTMLModel",
      "_view_count": null,
      "_view_module": "@jupyter-widgets/controls",
      "_view_module_version": "1.5.0",
      "_view_name": "HTMLView",
      "description": "",
      "description_tooltip": null,
      "layout": "IPY_MODEL_e4ef44f3733a41e2b1c317b3d04ccf81",
      "placeholder": "​",
      "style": "IPY_MODEL_3fabc53384384dc8bda3fd91aa64586f",
      "value": "sentence_bert_config.json: 100%"
     }
    },
    "d7fa85a28ac74c1d97c65ecccd449fff": {
     "model_module": "@jupyter-widgets/base",
     "model_module_version": "1.2.0",
     "model_name": "LayoutModel",
     "state": {
      "_model_module": "@jupyter-widgets/base",
      "_model_module_version": "1.2.0",
      "_model_name": "LayoutModel",
      "_view_count": null,
      "_view_module": "@jupyter-widgets/base",
      "_view_module_version": "1.2.0",
      "_view_name": "LayoutView",
      "align_content": null,
      "align_items": null,
      "align_self": null,
      "border": null,
      "bottom": null,
      "display": null,
      "flex": null,
      "flex_flow": null,
      "grid_area": null,
      "grid_auto_columns": null,
      "grid_auto_flow": null,
      "grid_auto_rows": null,
      "grid_column": null,
      "grid_gap": null,
      "grid_row": null,
      "grid_template_areas": null,
      "grid_template_columns": null,
      "grid_template_rows": null,
      "height": null,
      "justify_content": null,
      "justify_items": null,
      "left": null,
      "margin": null,
      "max_height": null,
      "max_width": null,
      "min_height": null,
      "min_width": null,
      "object_fit": null,
      "object_position": null,
      "order": null,
      "overflow": null,
      "overflow_x": null,
      "overflow_y": null,
      "padding": null,
      "right": null,
      "top": null,
      "visibility": null,
      "width": null
     }
    },
    "d9f2094e3eb44b58b8a7f210547c82e5": {
     "model_module": "@jupyter-widgets/base",
     "model_module_version": "1.2.0",
     "model_name": "LayoutModel",
     "state": {
      "_model_module": "@jupyter-widgets/base",
      "_model_module_version": "1.2.0",
      "_model_name": "LayoutModel",
      "_view_count": null,
      "_view_module": "@jupyter-widgets/base",
      "_view_module_version": "1.2.0",
      "_view_name": "LayoutView",
      "align_content": null,
      "align_items": null,
      "align_self": null,
      "border": null,
      "bottom": null,
      "display": null,
      "flex": null,
      "flex_flow": null,
      "grid_area": null,
      "grid_auto_columns": null,
      "grid_auto_flow": null,
      "grid_auto_rows": null,
      "grid_column": null,
      "grid_gap": null,
      "grid_row": null,
      "grid_template_areas": null,
      "grid_template_columns": null,
      "grid_template_rows": null,
      "height": null,
      "justify_content": null,
      "justify_items": null,
      "left": null,
      "margin": null,
      "max_height": null,
      "max_width": null,
      "min_height": null,
      "min_width": null,
      "object_fit": null,
      "object_position": null,
      "order": null,
      "overflow": null,
      "overflow_x": null,
      "overflow_y": null,
      "padding": null,
      "right": null,
      "top": null,
      "visibility": null,
      "width": null
     }
    },
    "dc89ecf818d2415ebc282e43b7d6597b": {
     "model_module": "@jupyter-widgets/controls",
     "model_module_version": "1.5.0",
     "model_name": "HBoxModel",
     "state": {
      "_dom_classes": [],
      "_model_module": "@jupyter-widgets/controls",
      "_model_module_version": "1.5.0",
      "_model_name": "HBoxModel",
      "_view_count": null,
      "_view_module": "@jupyter-widgets/controls",
      "_view_module_version": "1.5.0",
      "_view_name": "HBoxView",
      "box_style": "",
      "children": [
       "IPY_MODEL_37f1898d5f364e599d6a7d6aadcbc271",
       "IPY_MODEL_7c71cff352ce49b8bb9cb100993eee0f",
       "IPY_MODEL_2d810a48e3b94fac9519a56850c7f3cf"
      ],
      "layout": "IPY_MODEL_e98486a071554598b4cf7aa977cf6c91"
     }
    },
    "dde1a4ec465c42e8b7d9d03bf95477fa": {
     "model_module": "@jupyter-widgets/controls",
     "model_module_version": "1.5.0",
     "model_name": "DescriptionStyleModel",
     "state": {
      "_model_module": "@jupyter-widgets/controls",
      "_model_module_version": "1.5.0",
      "_model_name": "DescriptionStyleModel",
      "_view_count": null,
      "_view_module": "@jupyter-widgets/base",
      "_view_module_version": "1.2.0",
      "_view_name": "StyleView",
      "description_width": ""
     }
    },
    "de9290d044e44a7d9d171e1cb0a41ad5": {
     "model_module": "@jupyter-widgets/base",
     "model_module_version": "1.2.0",
     "model_name": "LayoutModel",
     "state": {
      "_model_module": "@jupyter-widgets/base",
      "_model_module_version": "1.2.0",
      "_model_name": "LayoutModel",
      "_view_count": null,
      "_view_module": "@jupyter-widgets/base",
      "_view_module_version": "1.2.0",
      "_view_name": "LayoutView",
      "align_content": null,
      "align_items": null,
      "align_self": null,
      "border": null,
      "bottom": null,
      "display": null,
      "flex": null,
      "flex_flow": null,
      "grid_area": null,
      "grid_auto_columns": null,
      "grid_auto_flow": null,
      "grid_auto_rows": null,
      "grid_column": null,
      "grid_gap": null,
      "grid_row": null,
      "grid_template_areas": null,
      "grid_template_columns": null,
      "grid_template_rows": null,
      "height": null,
      "justify_content": null,
      "justify_items": null,
      "left": null,
      "margin": null,
      "max_height": null,
      "max_width": null,
      "min_height": null,
      "min_width": null,
      "object_fit": null,
      "object_position": null,
      "order": null,
      "overflow": null,
      "overflow_x": null,
      "overflow_y": null,
      "padding": null,
      "right": null,
      "top": null,
      "visibility": null,
      "width": null
     }
    },
    "dee179ef9b1c4bdcb4631a9e034553d3": {
     "model_module": "@jupyter-widgets/base",
     "model_module_version": "1.2.0",
     "model_name": "LayoutModel",
     "state": {
      "_model_module": "@jupyter-widgets/base",
      "_model_module_version": "1.2.0",
      "_model_name": "LayoutModel",
      "_view_count": null,
      "_view_module": "@jupyter-widgets/base",
      "_view_module_version": "1.2.0",
      "_view_name": "LayoutView",
      "align_content": null,
      "align_items": null,
      "align_self": null,
      "border": null,
      "bottom": null,
      "display": null,
      "flex": null,
      "flex_flow": null,
      "grid_area": null,
      "grid_auto_columns": null,
      "grid_auto_flow": null,
      "grid_auto_rows": null,
      "grid_column": null,
      "grid_gap": null,
      "grid_row": null,
      "grid_template_areas": null,
      "grid_template_columns": null,
      "grid_template_rows": null,
      "height": null,
      "justify_content": null,
      "justify_items": null,
      "left": null,
      "margin": null,
      "max_height": null,
      "max_width": null,
      "min_height": null,
      "min_width": null,
      "object_fit": null,
      "object_position": null,
      "order": null,
      "overflow": null,
      "overflow_x": null,
      "overflow_y": null,
      "padding": null,
      "right": null,
      "top": null,
      "visibility": null,
      "width": null
     }
    },
    "dfdfebbeaba5409696c3a3a586ac1a6e": {
     "model_module": "@jupyter-widgets/controls",
     "model_module_version": "1.5.0",
     "model_name": "HTMLModel",
     "state": {
      "_dom_classes": [],
      "_model_module": "@jupyter-widgets/controls",
      "_model_module_version": "1.5.0",
      "_model_name": "HTMLModel",
      "_view_count": null,
      "_view_module": "@jupyter-widgets/controls",
      "_view_module_version": "1.5.0",
      "_view_name": "HTMLView",
      "description": "",
      "description_tooltip": null,
      "layout": "IPY_MODEL_15491457c1ab4fbdae4975ed852cd5ab",
      "placeholder": "​",
      "style": "IPY_MODEL_11b997b7304e453e8d0f9adaa06e0861",
      "value": "Loading checkpoint shards: 100%"
     }
    },
    "e125774cf0354324841d626edbd1241f": {
     "model_module": "@jupyter-widgets/controls",
     "model_module_version": "1.5.0",
     "model_name": "ProgressStyleModel",
     "state": {
      "_model_module": "@jupyter-widgets/controls",
      "_model_module_version": "1.5.0",
      "_model_name": "ProgressStyleModel",
      "_view_count": null,
      "_view_module": "@jupyter-widgets/base",
      "_view_module_version": "1.2.0",
      "_view_name": "StyleView",
      "bar_color": null,
      "description_width": ""
     }
    },
    "e4ef44f3733a41e2b1c317b3d04ccf81": {
     "model_module": "@jupyter-widgets/base",
     "model_module_version": "1.2.0",
     "model_name": "LayoutModel",
     "state": {
      "_model_module": "@jupyter-widgets/base",
      "_model_module_version": "1.2.0",
      "_model_name": "LayoutModel",
      "_view_count": null,
      "_view_module": "@jupyter-widgets/base",
      "_view_module_version": "1.2.0",
      "_view_name": "LayoutView",
      "align_content": null,
      "align_items": null,
      "align_self": null,
      "border": null,
      "bottom": null,
      "display": null,
      "flex": null,
      "flex_flow": null,
      "grid_area": null,
      "grid_auto_columns": null,
      "grid_auto_flow": null,
      "grid_auto_rows": null,
      "grid_column": null,
      "grid_gap": null,
      "grid_row": null,
      "grid_template_areas": null,
      "grid_template_columns": null,
      "grid_template_rows": null,
      "height": null,
      "justify_content": null,
      "justify_items": null,
      "left": null,
      "margin": null,
      "max_height": null,
      "max_width": null,
      "min_height": null,
      "min_width": null,
      "object_fit": null,
      "object_position": null,
      "order": null,
      "overflow": null,
      "overflow_x": null,
      "overflow_y": null,
      "padding": null,
      "right": null,
      "top": null,
      "visibility": null,
      "width": null
     }
    },
    "e561f34cdbd0401aacab74bfafce236c": {
     "model_module": "@jupyter-widgets/controls",
     "model_module_version": "1.5.0",
     "model_name": "ProgressStyleModel",
     "state": {
      "_model_module": "@jupyter-widgets/controls",
      "_model_module_version": "1.5.0",
      "_model_name": "ProgressStyleModel",
      "_view_count": null,
      "_view_module": "@jupyter-widgets/base",
      "_view_module_version": "1.2.0",
      "_view_name": "StyleView",
      "bar_color": null,
      "description_width": ""
     }
    },
    "e5635b57eaf8404986626356b6700803": {
     "model_module": "@jupyter-widgets/controls",
     "model_module_version": "1.5.0",
     "model_name": "DescriptionStyleModel",
     "state": {
      "_model_module": "@jupyter-widgets/controls",
      "_model_module_version": "1.5.0",
      "_model_name": "DescriptionStyleModel",
      "_view_count": null,
      "_view_module": "@jupyter-widgets/base",
      "_view_module_version": "1.2.0",
      "_view_name": "StyleView",
      "description_width": ""
     }
    },
    "e892f26d2f1e4c9380afd0bcb7bd8f3b": {
     "model_module": "@jupyter-widgets/controls",
     "model_module_version": "1.5.0",
     "model_name": "DescriptionStyleModel",
     "state": {
      "_model_module": "@jupyter-widgets/controls",
      "_model_module_version": "1.5.0",
      "_model_name": "DescriptionStyleModel",
      "_view_count": null,
      "_view_module": "@jupyter-widgets/base",
      "_view_module_version": "1.2.0",
      "_view_name": "StyleView",
      "description_width": ""
     }
    },
    "e98486a071554598b4cf7aa977cf6c91": {
     "model_module": "@jupyter-widgets/base",
     "model_module_version": "1.2.0",
     "model_name": "LayoutModel",
     "state": {
      "_model_module": "@jupyter-widgets/base",
      "_model_module_version": "1.2.0",
      "_model_name": "LayoutModel",
      "_view_count": null,
      "_view_module": "@jupyter-widgets/base",
      "_view_module_version": "1.2.0",
      "_view_name": "LayoutView",
      "align_content": null,
      "align_items": null,
      "align_self": null,
      "border": null,
      "bottom": null,
      "display": null,
      "flex": null,
      "flex_flow": null,
      "grid_area": null,
      "grid_auto_columns": null,
      "grid_auto_flow": null,
      "grid_auto_rows": null,
      "grid_column": null,
      "grid_gap": null,
      "grid_row": null,
      "grid_template_areas": null,
      "grid_template_columns": null,
      "grid_template_rows": null,
      "height": null,
      "justify_content": null,
      "justify_items": null,
      "left": null,
      "margin": null,
      "max_height": null,
      "max_width": null,
      "min_height": null,
      "min_width": null,
      "object_fit": null,
      "object_position": null,
      "order": null,
      "overflow": null,
      "overflow_x": null,
      "overflow_y": null,
      "padding": null,
      "right": null,
      "top": null,
      "visibility": null,
      "width": null
     }
    },
    "ece4c8ab5ef74764860fa9ec53120a76": {
     "model_module": "@jupyter-widgets/base",
     "model_module_version": "1.2.0",
     "model_name": "LayoutModel",
     "state": {
      "_model_module": "@jupyter-widgets/base",
      "_model_module_version": "1.2.0",
      "_model_name": "LayoutModel",
      "_view_count": null,
      "_view_module": "@jupyter-widgets/base",
      "_view_module_version": "1.2.0",
      "_view_name": "LayoutView",
      "align_content": null,
      "align_items": null,
      "align_self": null,
      "border": null,
      "bottom": null,
      "display": null,
      "flex": null,
      "flex_flow": null,
      "grid_area": null,
      "grid_auto_columns": null,
      "grid_auto_flow": null,
      "grid_auto_rows": null,
      "grid_column": null,
      "grid_gap": null,
      "grid_row": null,
      "grid_template_areas": null,
      "grid_template_columns": null,
      "grid_template_rows": null,
      "height": null,
      "justify_content": null,
      "justify_items": null,
      "left": null,
      "margin": null,
      "max_height": null,
      "max_width": null,
      "min_height": null,
      "min_width": null,
      "object_fit": null,
      "object_position": null,
      "order": null,
      "overflow": null,
      "overflow_x": null,
      "overflow_y": null,
      "padding": null,
      "right": null,
      "top": null,
      "visibility": null,
      "width": null
     }
    },
    "ee59fd9cbb7d4967bf8f91d184a747e6": {
     "model_module": "@jupyter-widgets/controls",
     "model_module_version": "1.5.0",
     "model_name": "FloatProgressModel",
     "state": {
      "_dom_classes": [],
      "_model_module": "@jupyter-widgets/controls",
      "_model_module_version": "1.5.0",
      "_model_name": "FloatProgressModel",
      "_view_count": null,
      "_view_module": "@jupyter-widgets/controls",
      "_view_module_version": "1.5.0",
      "_view_name": "ProgressView",
      "bar_style": "success",
      "description": "",
      "description_tooltip": null,
      "layout": "IPY_MODEL_5ab2894fba0f460582de9ea24d216c8d",
      "max": 122,
      "min": 0,
      "orientation": "horizontal",
      "style": "IPY_MODEL_4371d89a5e3a461ca49193b82159eecf",
      "value": 122
     }
    },
    "ef9692880f7d494ca748cd9e829e8e75": {
     "model_module": "@jupyter-widgets/controls",
     "model_module_version": "1.5.0",
     "model_name": "ProgressStyleModel",
     "state": {
      "_model_module": "@jupyter-widgets/controls",
      "_model_module_version": "1.5.0",
      "_model_name": "ProgressStyleModel",
      "_view_count": null,
      "_view_module": "@jupyter-widgets/base",
      "_view_module_version": "1.2.0",
      "_view_name": "StyleView",
      "bar_color": null,
      "description_width": ""
     }
    },
    "f621ca910a3742bdb5bd42123648ff1e": {
     "model_module": "@jupyter-widgets/controls",
     "model_module_version": "1.5.0",
     "model_name": "DescriptionStyleModel",
     "state": {
      "_model_module": "@jupyter-widgets/controls",
      "_model_module_version": "1.5.0",
      "_model_name": "DescriptionStyleModel",
      "_view_count": null,
      "_view_module": "@jupyter-widgets/base",
      "_view_module_version": "1.2.0",
      "_view_name": "StyleView",
      "description_width": ""
     }
    },
    "fbb1e4a594404eda8871fb8b6602a266": {
     "model_module": "@jupyter-widgets/controls",
     "model_module_version": "1.5.0",
     "model_name": "HTMLModel",
     "state": {
      "_dom_classes": [],
      "_model_module": "@jupyter-widgets/controls",
      "_model_module_version": "1.5.0",
      "_model_name": "HTMLModel",
      "_view_count": null,
      "_view_module": "@jupyter-widgets/controls",
      "_view_module_version": "1.5.0",
      "_view_name": "HTMLView",
      "description": "",
      "description_tooltip": null,
      "layout": "IPY_MODEL_3b91e2d446154934a41078f42af3000f",
      "placeholder": "​",
      "style": "IPY_MODEL_7997c4c2846f445ca5c1084282db1000",
      "value": "config_sentence_transformers.json: 100%"
     }
    },
    "fbd96033a927491c9c26d62c4a1a52b8": {
     "model_module": "@jupyter-widgets/controls",
     "model_module_version": "1.5.0",
     "model_name": "FloatProgressModel",
     "state": {
      "_dom_classes": [],
      "_model_module": "@jupyter-widgets/controls",
      "_model_module_version": "1.5.0",
      "_model_name": "FloatProgressModel",
      "_view_count": null,
      "_view_module": "@jupyter-widgets/controls",
      "_view_module_version": "1.5.0",
      "_view_name": "ProgressView",
      "bar_style": "success",
      "description": "",
      "description_tooltip": null,
      "layout": "IPY_MODEL_323060d96c4848609c259bd0cca09dab",
      "max": 90895153,
      "min": 0,
      "orientation": "horizontal",
      "style": "IPY_MODEL_e125774cf0354324841d626edbd1241f",
      "value": 90895153
     }
    }
   }
  }
 },
 "nbformat": 4,
 "nbformat_minor": 4
}
