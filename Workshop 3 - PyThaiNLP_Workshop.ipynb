{
 "cells": [
  {
   "cell_type": "markdown",
   "id": "709d475d",
   "metadata": {},
   "source": [
    "# Workshop 3: Practice PyThaiNLP - Thai Language Processing\n",
    "This workshop covers Thai word tokenization, POS tagging, transliteration, spell checking, normalization, and named entity recognition using PyThaiNLP."
   ]
  },
  {
   "cell_type": "code",
   "execution_count": 21,
   "id": "d08489dc",
   "metadata": {},
   "outputs": [
    {
     "name": "stdout",
     "output_type": "stream",
     "text": [
      "Requirement already satisfied: pythainlp in /opt/homebrew/anaconda3/lib/python3.10/site-packages (5.1.2)\n",
      "Requirement already satisfied: transformers in /opt/homebrew/anaconda3/lib/python3.10/site-packages (4.52.4)\n",
      "Requirement already satisfied: python-crfsuite in /opt/homebrew/anaconda3/lib/python3.10/site-packages (0.9.11)\n",
      "Collecting torch\n",
      "  Using cached torch-2.7.1-cp310-none-macosx_11_0_arm64.whl.metadata (29 kB)\n",
      "Requirement already satisfied: requests>=2.31 in /opt/homebrew/anaconda3/lib/python3.10/site-packages (from pythainlp) (2.32.3)\n",
      "Requirement already satisfied: filelock in /opt/homebrew/anaconda3/lib/python3.10/site-packages (from transformers) (3.17.0)\n",
      "Requirement already satisfied: huggingface-hub<1.0,>=0.30.0 in /opt/homebrew/anaconda3/lib/python3.10/site-packages (from transformers) (0.33.0)\n",
      "Requirement already satisfied: numpy>=1.17 in /opt/homebrew/anaconda3/lib/python3.10/site-packages (from transformers) (2.2.6)\n",
      "Requirement already satisfied: packaging>=20.0 in /opt/homebrew/anaconda3/lib/python3.10/site-packages (from transformers) (24.2)\n",
      "Requirement already satisfied: pyyaml>=5.1 in /opt/homebrew/anaconda3/lib/python3.10/site-packages (from transformers) (6.0.2)\n",
      "Requirement already satisfied: regex!=2019.12.17 in /opt/homebrew/anaconda3/lib/python3.10/site-packages (from transformers) (2024.11.6)\n",
      "Requirement already satisfied: tokenizers<0.22,>=0.21 in /opt/homebrew/anaconda3/lib/python3.10/site-packages (from transformers) (0.21.1)\n",
      "Requirement already satisfied: safetensors>=0.4.3 in /opt/homebrew/anaconda3/lib/python3.10/site-packages (from transformers) (0.5.3)\n",
      "Requirement already satisfied: tqdm>=4.27 in /opt/homebrew/anaconda3/lib/python3.10/site-packages (from transformers) (4.67.1)\n",
      "Requirement already satisfied: fsspec>=2023.5.0 in /opt/homebrew/anaconda3/lib/python3.10/site-packages (from huggingface-hub<1.0,>=0.30.0->transformers) (2025.3.2)\n",
      "Requirement already satisfied: typing-extensions>=3.7.4.3 in /opt/homebrew/anaconda3/lib/python3.10/site-packages (from huggingface-hub<1.0,>=0.30.0->transformers) (4.12.2)\n",
      "Requirement already satisfied: hf-xet<2.0.0,>=1.1.2 in /opt/homebrew/anaconda3/lib/python3.10/site-packages (from huggingface-hub<1.0,>=0.30.0->transformers) (1.1.5)\n",
      "Requirement already satisfied: sympy>=1.13.3 in /opt/homebrew/anaconda3/lib/python3.10/site-packages (from torch) (1.13.3)\n",
      "Requirement already satisfied: networkx in /opt/homebrew/anaconda3/lib/python3.10/site-packages (from torch) (3.4.2)\n",
      "Requirement already satisfied: jinja2 in /opt/homebrew/anaconda3/lib/python3.10/site-packages (from torch) (3.1.6)\n",
      "Requirement already satisfied: charset-normalizer<4,>=2 in /opt/homebrew/anaconda3/lib/python3.10/site-packages (from requests>=2.31->pythainlp) (3.3.2)\n",
      "Requirement already satisfied: idna<4,>=2.5 in /opt/homebrew/anaconda3/lib/python3.10/site-packages (from requests>=2.31->pythainlp) (3.7)\n",
      "Requirement already satisfied: urllib3<3,>=1.21.1 in /opt/homebrew/anaconda3/lib/python3.10/site-packages (from requests>=2.31->pythainlp) (2.3.0)\n",
      "Requirement already satisfied: certifi>=2017.4.17 in /opt/homebrew/anaconda3/lib/python3.10/site-packages (from requests>=2.31->pythainlp) (2025.4.26)\n",
      "Requirement already satisfied: mpmath<1.4,>=1.1.0 in /opt/homebrew/anaconda3/lib/python3.10/site-packages (from sympy>=1.13.3->torch) (1.3.0)\n",
      "Requirement already satisfied: MarkupSafe>=2.0 in /opt/homebrew/anaconda3/lib/python3.10/site-packages (from jinja2->torch) (3.0.2)\n",
      "Using cached torch-2.7.1-cp310-none-macosx_11_0_arm64.whl (68.6 MB)\n",
      "Installing collected packages: torch\n",
      "Successfully installed torch-2.7.1\n"
     ]
    }
   ],
   "source": [
    "\n",
    "# Install PyThaiNLP if not installed\n",
    "!pip install pythainlp transformers python-crfsuite torch\n"
   ]
  },
  {
   "cell_type": "code",
   "execution_count": 22,
   "id": "07dcc816",
   "metadata": {},
   "outputs": [],
   "source": [
    "\n",
    "from pythainlp import word_tokenize, pos_tag\n",
    "from pythainlp.transliterate import transliterate\n",
    "from pythainlp.spell import correct\n",
    "from pythainlp.util import normalize\n",
    "from pythainlp.tag import NER\n",
    "\n",
    "text = \"ฉันไปเที่ยวปราณบุรีเมื่ออาทิตย์ที่แล้ว\""
   ]
  },
  {
   "cell_type": "code",
   "execution_count": 23,
   "id": "18624237-c343-4b00-941e-9fb7c2e2ca78",
   "metadata": {},
   "outputs": [
    {
     "data": {
      "text/plain": [
       "[('ฉัน', 'O'),\n",
       " ('ไปเที่ยว', 'O'),\n",
       " ('ปราณ', 'O'),\n",
       " ('บุรี', 'O'),\n",
       " ('เมื่อ', 'O'),\n",
       " ('อาทิตย์', 'B-TIME'),\n",
       " ('ที่แล้ว', 'I-TIME')]"
      ]
     },
     "execution_count": 23,
     "metadata": {},
     "output_type": "execute_result"
    }
   ],
   "source": [
    "# 1. Name Entity Recognition\n",
    "ner = NER(\"thainer\")\n",
    "ner.tag(text)"
   ]
  },
  {
   "cell_type": "code",
   "execution_count": 24,
   "id": "4a6d8841",
   "metadata": {},
   "outputs": [
    {
     "name": "stdout",
     "output_type": "stream",
     "text": [
      "Tokenized words: ['ฉัน', 'ไปเที่ยว', 'ปราณ', 'บุรี', 'เมื่อ', 'อาทิตย์', 'ที่แล้ว']\n"
     ]
    }
   ],
   "source": [
    "\n",
    "# 2. Word Tokenization (dictionary-based maximum matching)\n",
    "tokens = word_tokenize(text, engine=\"newmm\")\n",
    "print(\"Tokenized words:\", tokens)\n"
   ]
  },
  {
   "cell_type": "code",
   "execution_count": 25,
   "id": "53ce33a3",
   "metadata": {},
   "outputs": [
    {
     "name": "stdout",
     "output_type": "stream",
     "text": [
      "POS tags: [('ฉัน', 'PPRS'), ('ไปเที่ยว', 'VACT'), ('ปราณ', 'VSTA'), ('บุรี', 'VACT'), ('เมื่อ', 'JSBR'), ('อาทิตย์', 'NCMN'), ('ที่แล้ว', 'DIAC')]\n"
     ]
    }
   ],
   "source": [
    "\n",
    "# 2. Part-of-Speech Tagging (ORCHID tagset)\n",
    "pos_tags = pos_tag(tokens, corpus=\"orchid\")\n",
    "print(\"POS tags:\", pos_tags)\n"
   ]
  },
  {
   "cell_type": "code",
   "execution_count": 26,
   "id": "08228f8e",
   "metadata": {},
   "outputs": [
    {
     "name": "stdout",
     "output_type": "stream",
     "text": [
      "Corpus: thai-g2p\n",
      "- Downloading: thai-g2p 0.1\n"
     ]
    },
    {
     "data": {
      "application/vnd.jupyter.widget-view+json": {
       "model_id": "17e715f6f52a4defb80d8201eda8d6ee",
       "version_major": 2,
       "version_minor": 0
      },
      "text/plain": [
       "  0%|          | 0/12164095 [00:00<?, ?it/s]"
      ]
     },
     "metadata": {},
     "output_type": "display_data"
    },
    {
     "name": "stdout",
     "output_type": "stream",
     "text": [
      "Transliterated words: ['t͡ɕʰ a n ˩˩˦', 'p a j ˧ . tʰ i a̯ w ˥˩', 'p r aː n ˧', 'b u ˨˩ . r iː ˧', 'm ɯ a̯ ˥˩', 'ʔ aː ˧ . tʰ i t̚ ˦˥', 'tʰ iː ˥˩ . l ɛː w ˦˥']\n"
     ]
    }
   ],
   "source": [
    "\n",
    "# 3. Transliteration: Thai script to Roman script\n",
    "transliterated = [transliterate(word, engine=\"thaig2p\") for word in tokens]\n",
    "print(\"Transliterated words:\", transliterated)\n"
   ]
  },
  {
   "cell_type": "code",
   "execution_count": 32,
   "id": "c6841a64",
   "metadata": {},
   "outputs": [
    {
     "name": "stdout",
     "output_type": "stream",
     "text": [
      "Corrected Text: เส้นตรง\n"
     ]
    }
   ],
   "source": [
    "\n",
    "# 4. Spell Checking\n",
    "text_with_typo = \"ส้นตรบ\"\n",
    "corrected = correct(text_with_typo)\n",
    "print(\"Corrected Text:\", corrected)\n"
   ]
  },
  {
   "cell_type": "code",
   "execution_count": 37,
   "id": "4890cdf0",
   "metadata": {},
   "outputs": [
    {
     "name": "stdout",
     "output_type": "stream",
     "text": [
      "Normalized Text: สวัสดีค่ะ\n"
     ]
    }
   ],
   "source": [
    "\n",
    "# 5. Text Normalization\n",
    "text_unnormalized = \"สวัสดีค่ะะ\"\n",
    "normalized_text = normalize(text_unnormalized)\n",
    "print(\"Normalized Text:\", normalized_text)\n"
   ]
  }
 ],
 "metadata": {
  "kernelspec": {
   "display_name": "Python [conda env:base] *",
   "language": "python",
   "name": "conda-base-py"
  },
  "language_info": {
   "codemirror_mode": {
    "name": "ipython",
    "version": 3
   },
   "file_extension": ".py",
   "mimetype": "text/x-python",
   "name": "python",
   "nbconvert_exporter": "python",
   "pygments_lexer": "ipython3",
   "version": "3.10.0"
  }
 },
 "nbformat": 4,
 "nbformat_minor": 5
}
