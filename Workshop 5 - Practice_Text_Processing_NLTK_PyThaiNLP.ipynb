{
 "cells": [
  {
   "cell_type": "markdown",
   "id": "96c071cb",
   "metadata": {},
   "source": [
    "# Workshop 5: Practice Text Processing using NLTK and PyThaiNLP\n",
    "This workshop covers fundamental text processing tasks for English and Thai texts using NLTK and PyThaiNLP."
   ]
  },
  {
   "cell_type": "markdown",
   "id": "6cbc0fe5",
   "metadata": {},
   "source": [
    "## Part 1: English Text Processing with NLTK"
   ]
  },
  {
   "cell_type": "code",
   "execution_count": 1,
   "id": "0783d764",
   "metadata": {},
   "outputs": [
    {
     "name": "stdout",
     "output_type": "stream",
     "text": [
      "Requirement already satisfied: nltk in /opt/homebrew/anaconda3/lib/python3.10/site-packages (3.9.1)\n",
      "Requirement already satisfied: click in /opt/homebrew/anaconda3/lib/python3.10/site-packages (from nltk) (8.1.8)\n",
      "Requirement already satisfied: joblib in /opt/homebrew/anaconda3/lib/python3.10/site-packages (from nltk) (1.4.2)\n",
      "Requirement already satisfied: regex>=2021.8.3 in /opt/homebrew/anaconda3/lib/python3.10/site-packages (from nltk) (2024.11.6)\n",
      "Requirement already satisfied: tqdm in /opt/homebrew/anaconda3/lib/python3.10/site-packages (from nltk) (4.67.1)\n"
     ]
    },
    {
     "name": "stderr",
     "output_type": "stream",
     "text": [
      "[nltk_data] Downloading package punkt to\n",
      "[nltk_data]     /Users/veerasakkritsanapraphan/nltk_data...\n",
      "[nltk_data]   Package punkt is already up-to-date!\n",
      "[nltk_data] Downloading package stopwords to\n",
      "[nltk_data]     /Users/veerasakkritsanapraphan/nltk_data...\n"
     ]
    },
    {
     "name": "stdout",
     "output_type": "stream",
     "text": [
      "Tokens: ['Natural', 'language', 'processing', '(', 'NLP', ')', 'is', 'a', 'fascinating', 'field', 'of', 'artificial', 'intelligence', '.']\n",
      "Filtered Tokens (no stopwords): ['Natural', 'language', 'processing', '(', 'NLP', ')', 'fascinating', 'field', 'artificial', 'intelligence', '.']\n",
      "Stemmed Tokens: ['natur', 'languag', 'process', '(', 'nlp', ')', 'fascin', 'field', 'artifici', 'intellig', '.']\n",
      "POS Tags: [('Natural', 'JJ'), ('language', 'NN'), ('processing', 'NN'), ('(', '('), ('NLP', 'NNP'), (')', ')'), ('is', 'VBZ'), ('a', 'DT'), ('fascinating', 'JJ'), ('field', 'NN'), ('of', 'IN'), ('artificial', 'JJ'), ('intelligence', 'NN'), ('.', '.')]\n"
     ]
    },
    {
     "name": "stderr",
     "output_type": "stream",
     "text": [
      "[nltk_data]   Unzipping corpora/stopwords.zip.\n",
      "[nltk_data] Downloading package averaged_perceptron_tagger to\n",
      "[nltk_data]     /Users/veerasakkritsanapraphan/nltk_data...\n",
      "[nltk_data]   Package averaged_perceptron_tagger is already up-to-\n",
      "[nltk_data]       date!\n"
     ]
    }
   ],
   "source": [
    "\n",
    "# Install NLTK if not installed\n",
    "!pip install nltk\n",
    "\n",
    "import nltk\n",
    "from nltk.tokenize import word_tokenize\n",
    "from nltk.corpus import stopwords\n",
    "from nltk.stem import PorterStemmer\n",
    "from nltk import pos_tag\n",
    "\n",
    "# Download required datasets\n",
    "nltk.download('punkt')\n",
    "nltk.download('stopwords')\n",
    "nltk.download('averaged_perceptron_tagger')\n",
    "\n",
    "text_en = \"Natural language processing (NLP) is a fascinating field of artificial intelligence.\"\n",
    "\n",
    "# Tokenization\n",
    "tokens = word_tokenize(text_en)\n",
    "print(\"Tokens:\", tokens)\n",
    "\n",
    "# Remove stopwords\n",
    "stop_words = set(stopwords.words('english'))\n",
    "filtered_tokens = [w for w in tokens if w.lower() not in stop_words]\n",
    "print(\"Filtered Tokens (no stopwords):\", filtered_tokens)\n",
    "\n",
    "# Stemming\n",
    "ps = PorterStemmer()\n",
    "stemmed = [ps.stem(w) for w in filtered_tokens]\n",
    "print(\"Stemmed Tokens:\", stemmed)\n",
    "\n",
    "# POS Tagging\n",
    "pos_tags = pos_tag(tokens)\n",
    "print(\"POS Tags:\", pos_tags)\n"
   ]
  },
  {
   "cell_type": "markdown",
   "id": "8d5f1b4d",
   "metadata": {},
   "source": [
    "## Part 2: Thai Text Processing with PyThaiNLP"
   ]
  },
  {
   "cell_type": "code",
   "execution_count": 3,
   "id": "775b3620",
   "metadata": {},
   "outputs": [
    {
     "name": "stdout",
     "output_type": "stream",
     "text": [
      "Requirement already satisfied: pythainlp in /opt/homebrew/anaconda3/lib/python3.10/site-packages (5.1.2)\n",
      "Requirement already satisfied: requests>=2.31 in /opt/homebrew/anaconda3/lib/python3.10/site-packages (from pythainlp) (2.32.3)\n",
      "Requirement already satisfied: charset-normalizer<4,>=2 in /opt/homebrew/anaconda3/lib/python3.10/site-packages (from requests>=2.31->pythainlp) (3.3.2)\n",
      "Requirement already satisfied: idna<4,>=2.5 in /opt/homebrew/anaconda3/lib/python3.10/site-packages (from requests>=2.31->pythainlp) (3.7)\n",
      "Requirement already satisfied: urllib3<3,>=1.21.1 in /opt/homebrew/anaconda3/lib/python3.10/site-packages (from requests>=2.31->pythainlp) (2.3.0)\n",
      "Requirement already satisfied: certifi>=2017.4.17 in /opt/homebrew/anaconda3/lib/python3.10/site-packages (from requests>=2.31->pythainlp) (2025.4.26)\n",
      "Tokenized Thai words: ['การประมวลผล', 'ภาษาธรรมชาติ', 'เป็น', 'สาขา', 'ที่', 'น่าสนใจ', 'ของ', 'ปัญญาประดิษฐ์']\n",
      "POS tags (Thai): [('การประมวลผล', 'NCMN'), ('ภาษาธรรมชาติ', 'NCMN'), ('เป็น', 'VSTA'), ('สาขา', 'NCMN'), ('ที่', 'PREL'), ('น่าสนใจ', 'VATT'), ('ของ', 'RPRE'), ('ปัญญาประดิษฐ์', 'NCMN')]\n"
     ]
    }
   ],
   "source": [
    "\n",
    "# Install PyThaiNLP if not installed\n",
    "!pip install pythainlp\n",
    "\n",
    "from pythainlp import word_tokenize, pos_tag\n",
    "from pythainlp.util import normalize\n",
    "\n",
    "text_th = \"การประมวลผลภาษาธรรมชาติเป็นสาขาที่น่าสนใจของปัญญาประดิษฐ์\"\n",
    "\n",
    "# Word Tokenization\n",
    "tokens_th = word_tokenize(text_th, engine=\"newmm\")\n",
    "print(\"Tokenized Thai words:\", tokens_th)\n",
    "\n",
    "# POS Tagging\n",
    "pos_tags_th = pos_tag(tokens_th, corpus=\"orchid\")\n",
    "print(\"POS tags (Thai):\", pos_tags_th)\n"
   ]
  },
  {
   "cell_type": "markdown",
   "id": "15d33428",
   "metadata": {},
   "source": [
    "## Part 3: Combined Exercise\n",
    "Try tokenizing and tagging texts in both English and Thai."
   ]
  },
  {
   "cell_type": "code",
   "execution_count": 4,
   "id": "bae5b581",
   "metadata": {},
   "outputs": [
    {
     "name": "stdout",
     "output_type": "stream",
     "text": [
      "English text processing\n",
      "[('Natural', 'NCMN'), (' ', 'PUNC'), ('language', 'NCMN'), (' ', 'PUNC'), ('processing', 'NCMN'), (' ', 'PUNC'), ('(NLP)', 'NCMN'), (' ', 'PUNC'), ('is', 'NCMN'), (' ', 'PUNC'), ('a', 'NCMN'), (' ', 'PUNC'), ('fascinating', 'NCMN'), (' ', 'PUNC'), ('field', 'NCMN'), (' ', 'PUNC'), ('of', 'NCMN'), (' ', 'PUNC'), ('artificial', 'NCMN'), (' ', 'PUNC'), ('intelligence', 'NCMN'), ('.', 'PUNC')]\n",
      "\n",
      "Thai text processing\n",
      "[('การประมวลผล', 'NCMN'), ('ภาษาธรรมชาติ', 'NCMN'), ('เป็น', 'VSTA'), ('สาขา', 'NCMN'), ('ที่', 'PREL'), ('น่าสนใจ', 'VATT'), ('ของ', 'RPRE'), ('ปัญญาประดิษฐ์', 'NCMN')]\n"
     ]
    }
   ],
   "source": [
    "\n",
    "# English text\n",
    "print(\"English text processing\")\n",
    "tokens = word_tokenize(text_en)\n",
    "pos_tags = pos_tag(tokens)\n",
    "print(pos_tags)\n",
    "\n",
    "# Thai text\n",
    "print(\"\\nThai text processing\")\n",
    "tokens_th = word_tokenize(text_th, engine=\"newmm\")\n",
    "pos_tags_th = pos_tag(tokens_th, corpus=\"orchid\")\n",
    "print(pos_tags_th)\n"
   ]
  },
  {
   "cell_type": "code",
   "execution_count": null,
   "id": "ee4597e9-a0fa-4b9d-bb86-adbc93f88809",
   "metadata": {},
   "outputs": [],
   "source": []
  }
 ],
 "metadata": {
  "kernelspec": {
   "display_name": "Python [conda env:base] *",
   "language": "python",
   "name": "conda-base-py"
  },
  "language_info": {
   "codemirror_mode": {
    "name": "ipython",
    "version": 3
   },
   "file_extension": ".py",
   "mimetype": "text/x-python",
   "name": "python",
   "nbconvert_exporter": "python",
   "pygments_lexer": "ipython3",
   "version": "3.10.0"
  }
 },
 "nbformat": 4,
 "nbformat_minor": 5
}
